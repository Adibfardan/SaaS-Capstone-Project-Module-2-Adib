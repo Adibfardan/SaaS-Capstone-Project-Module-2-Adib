{
 "cells": [
  {
   "cell_type": "markdown",
   "metadata": {},
   "source": [
    "# Background.\n",
    " AWS or Amazon Web Services is a cloud computing service platform provided by Amazon. AWS has a service called SaaS or Software as a Service. SaaS it self is a cloud computing service model owned by AWS. By relying on the big-name of AWS, the company wants to see whether this service has good sales and generates appropriate profits"
   ]
  },
  {
   "cell_type": "markdown",
   "metadata": {},
   "source": [
    "# Problem statement. \n",
    "AWS wants to see sales from each country, region and industry that is their customer to find out which countries, regions and industries have the highest transactions and can provide solutions to improve countries, regions and industries that do not have high sales of these services."
   ]
  },
  {
   "cell_type": "markdown",
   "metadata": {},
   "source": [
    "# Data\n",
    "To answer the question above, we will look at the sales data that has been provided for us to analyze"
   ]
  },
  {
   "cell_type": "code",
   "execution_count": 193,
   "metadata": {},
   "outputs": [],
   "source": [
    "import pandas as pd\n",
    "import numpy as np\n",
    "import seaborn as sns\n",
    "import matplotlib as plt\n"
   ]
  },
  {
   "cell_type": "code",
   "execution_count": 194,
   "metadata": {},
   "outputs": [
    {
     "data": {
      "text/html": [
       "<div>\n",
       "<style scoped>\n",
       "    .dataframe tbody tr th:only-of-type {\n",
       "        vertical-align: middle;\n",
       "    }\n",
       "\n",
       "    .dataframe tbody tr th {\n",
       "        vertical-align: top;\n",
       "    }\n",
       "\n",
       "    .dataframe thead th {\n",
       "        text-align: right;\n",
       "    }\n",
       "</style>\n",
       "<table border=\"1\" class=\"dataframe\">\n",
       "  <thead>\n",
       "    <tr style=\"text-align: right;\">\n",
       "      <th></th>\n",
       "      <th>Row ID</th>\n",
       "      <th>Order ID</th>\n",
       "      <th>Order Date</th>\n",
       "      <th>Date Key</th>\n",
       "      <th>Contact Name</th>\n",
       "      <th>Country</th>\n",
       "      <th>City</th>\n",
       "      <th>Region</th>\n",
       "      <th>Subregion</th>\n",
       "      <th>Customer</th>\n",
       "      <th>Customer ID</th>\n",
       "      <th>Industry</th>\n",
       "      <th>Segment</th>\n",
       "      <th>Product</th>\n",
       "      <th>License</th>\n",
       "      <th>Sales</th>\n",
       "      <th>Quantity</th>\n",
       "      <th>Discount</th>\n",
       "      <th>Profit</th>\n",
       "    </tr>\n",
       "  </thead>\n",
       "  <tbody>\n",
       "    <tr>\n",
       "      <th>0</th>\n",
       "      <td>1</td>\n",
       "      <td>EMEA-2022-152156</td>\n",
       "      <td>11/9/2022</td>\n",
       "      <td>20221109</td>\n",
       "      <td>Nathan Bell</td>\n",
       "      <td>Ireland</td>\n",
       "      <td>Dublin</td>\n",
       "      <td>EMEA</td>\n",
       "      <td>UKIR</td>\n",
       "      <td>Chevron</td>\n",
       "      <td>1017</td>\n",
       "      <td>Energy</td>\n",
       "      <td>SMB</td>\n",
       "      <td>Marketing Suite</td>\n",
       "      <td>16GRM07R1K</td>\n",
       "      <td>261.9600</td>\n",
       "      <td>2</td>\n",
       "      <td>0.00</td>\n",
       "      <td>41.9136</td>\n",
       "    </tr>\n",
       "    <tr>\n",
       "      <th>1</th>\n",
       "      <td>2</td>\n",
       "      <td>EMEA-2022-152156</td>\n",
       "      <td>11/9/2022</td>\n",
       "      <td>20221109</td>\n",
       "      <td>Nathan Bell</td>\n",
       "      <td>Ireland</td>\n",
       "      <td>Dublin</td>\n",
       "      <td>EMEA</td>\n",
       "      <td>UKIR</td>\n",
       "      <td>Chevron</td>\n",
       "      <td>1017</td>\n",
       "      <td>Energy</td>\n",
       "      <td>SMB</td>\n",
       "      <td>FinanceHub</td>\n",
       "      <td>QLIW57KZUV</td>\n",
       "      <td>731.9400</td>\n",
       "      <td>3</td>\n",
       "      <td>0.00</td>\n",
       "      <td>219.5820</td>\n",
       "    </tr>\n",
       "    <tr>\n",
       "      <th>2</th>\n",
       "      <td>3</td>\n",
       "      <td>AMER-2022-138688</td>\n",
       "      <td>6/13/2022</td>\n",
       "      <td>20220613</td>\n",
       "      <td>Deirdre Bailey</td>\n",
       "      <td>United States</td>\n",
       "      <td>New York City</td>\n",
       "      <td>AMER</td>\n",
       "      <td>NAMER</td>\n",
       "      <td>Phillips 66</td>\n",
       "      <td>1056</td>\n",
       "      <td>Energy</td>\n",
       "      <td>Strategic</td>\n",
       "      <td>FinanceHub</td>\n",
       "      <td>JI6BVL70HQ</td>\n",
       "      <td>14.6200</td>\n",
       "      <td>2</td>\n",
       "      <td>0.00</td>\n",
       "      <td>6.8714</td>\n",
       "    </tr>\n",
       "    <tr>\n",
       "      <th>3</th>\n",
       "      <td>4</td>\n",
       "      <td>EMEA-2021-108966</td>\n",
       "      <td>10/11/2021</td>\n",
       "      <td>20211011</td>\n",
       "      <td>Zoe Hodges</td>\n",
       "      <td>Germany</td>\n",
       "      <td>Stuttgart</td>\n",
       "      <td>EMEA</td>\n",
       "      <td>EU-WEST</td>\n",
       "      <td>Royal Dutch Shell</td>\n",
       "      <td>1031</td>\n",
       "      <td>Energy</td>\n",
       "      <td>SMB</td>\n",
       "      <td>ContactMatcher</td>\n",
       "      <td>DE9GJKGD44</td>\n",
       "      <td>957.5775</td>\n",
       "      <td>5</td>\n",
       "      <td>0.45</td>\n",
       "      <td>-383.0310</td>\n",
       "    </tr>\n",
       "    <tr>\n",
       "      <th>4</th>\n",
       "      <td>5</td>\n",
       "      <td>EMEA-2021-108966</td>\n",
       "      <td>10/11/2021</td>\n",
       "      <td>20211011</td>\n",
       "      <td>Zoe Hodges</td>\n",
       "      <td>Germany</td>\n",
       "      <td>Stuttgart</td>\n",
       "      <td>EMEA</td>\n",
       "      <td>EU-WEST</td>\n",
       "      <td>Royal Dutch Shell</td>\n",
       "      <td>1031</td>\n",
       "      <td>Energy</td>\n",
       "      <td>SMB</td>\n",
       "      <td>Marketing Suite - Gold</td>\n",
       "      <td>OIF7NY23WD</td>\n",
       "      <td>22.3680</td>\n",
       "      <td>2</td>\n",
       "      <td>0.20</td>\n",
       "      <td>2.5164</td>\n",
       "    </tr>\n",
       "    <tr>\n",
       "      <th>...</th>\n",
       "      <td>...</td>\n",
       "      <td>...</td>\n",
       "      <td>...</td>\n",
       "      <td>...</td>\n",
       "      <td>...</td>\n",
       "      <td>...</td>\n",
       "      <td>...</td>\n",
       "      <td>...</td>\n",
       "      <td>...</td>\n",
       "      <td>...</td>\n",
       "      <td>...</td>\n",
       "      <td>...</td>\n",
       "      <td>...</td>\n",
       "      <td>...</td>\n",
       "      <td>...</td>\n",
       "      <td>...</td>\n",
       "      <td>...</td>\n",
       "      <td>...</td>\n",
       "      <td>...</td>\n",
       "    </tr>\n",
       "    <tr>\n",
       "      <th>9989</th>\n",
       "      <td>9990</td>\n",
       "      <td>EMEA-2020-110422</td>\n",
       "      <td>1/22/2020</td>\n",
       "      <td>20200122</td>\n",
       "      <td>Dan Allan</td>\n",
       "      <td>Germany</td>\n",
       "      <td>Hamburg</td>\n",
       "      <td>EMEA</td>\n",
       "      <td>EU-WEST</td>\n",
       "      <td>Johnson &amp; Johnson</td>\n",
       "      <td>1055</td>\n",
       "      <td>Healthcare</td>\n",
       "      <td>SMB</td>\n",
       "      <td>SaaS Connector Pack</td>\n",
       "      <td>ETHXMB5TMD</td>\n",
       "      <td>25.2480</td>\n",
       "      <td>3</td>\n",
       "      <td>0.20</td>\n",
       "      <td>4.1028</td>\n",
       "    </tr>\n",
       "    <tr>\n",
       "      <th>9990</th>\n",
       "      <td>9991</td>\n",
       "      <td>AMER-2023-121258</td>\n",
       "      <td>2/27/2023</td>\n",
       "      <td>20230227</td>\n",
       "      <td>Anthony Sanderson</td>\n",
       "      <td>United States</td>\n",
       "      <td>Milwaukee</td>\n",
       "      <td>AMER</td>\n",
       "      <td>NAMER</td>\n",
       "      <td>American Express</td>\n",
       "      <td>1005</td>\n",
       "      <td>Finance</td>\n",
       "      <td>SMB</td>\n",
       "      <td>SaaS Connector Pack</td>\n",
       "      <td>LYHOKTRY7L</td>\n",
       "      <td>91.9600</td>\n",
       "      <td>2</td>\n",
       "      <td>0.00</td>\n",
       "      <td>15.6332</td>\n",
       "    </tr>\n",
       "    <tr>\n",
       "      <th>9991</th>\n",
       "      <td>9992</td>\n",
       "      <td>AMER-2023-121258</td>\n",
       "      <td>2/27/2023</td>\n",
       "      <td>20230227</td>\n",
       "      <td>Anthony Sanderson</td>\n",
       "      <td>United States</td>\n",
       "      <td>Milwaukee</td>\n",
       "      <td>AMER</td>\n",
       "      <td>NAMER</td>\n",
       "      <td>American Express</td>\n",
       "      <td>1005</td>\n",
       "      <td>Finance</td>\n",
       "      <td>SMB</td>\n",
       "      <td>Site Analytics</td>\n",
       "      <td>I5SVMI6M88</td>\n",
       "      <td>258.5760</td>\n",
       "      <td>2</td>\n",
       "      <td>0.20</td>\n",
       "      <td>19.3932</td>\n",
       "    </tr>\n",
       "    <tr>\n",
       "      <th>9992</th>\n",
       "      <td>9993</td>\n",
       "      <td>AMER-2023-121258</td>\n",
       "      <td>2/27/2023</td>\n",
       "      <td>20230227</td>\n",
       "      <td>Anthony Sanderson</td>\n",
       "      <td>United States</td>\n",
       "      <td>Milwaukee</td>\n",
       "      <td>AMER</td>\n",
       "      <td>NAMER</td>\n",
       "      <td>American Express</td>\n",
       "      <td>1005</td>\n",
       "      <td>Finance</td>\n",
       "      <td>SMB</td>\n",
       "      <td>Support</td>\n",
       "      <td>JHLW4P6LQ2</td>\n",
       "      <td>29.6000</td>\n",
       "      <td>4</td>\n",
       "      <td>0.00</td>\n",
       "      <td>13.3200</td>\n",
       "    </tr>\n",
       "    <tr>\n",
       "      <th>9993</th>\n",
       "      <td>9994</td>\n",
       "      <td>AMER-2023-119914</td>\n",
       "      <td>5/5/2023</td>\n",
       "      <td>20230505</td>\n",
       "      <td>Jasmine Springer</td>\n",
       "      <td>United States</td>\n",
       "      <td>Dallas</td>\n",
       "      <td>AMER</td>\n",
       "      <td>NAMER</td>\n",
       "      <td>Comcast</td>\n",
       "      <td>1022</td>\n",
       "      <td>Communications</td>\n",
       "      <td>SMB</td>\n",
       "      <td>OneView</td>\n",
       "      <td>3NTBV9B3PS</td>\n",
       "      <td>243.1600</td>\n",
       "      <td>2</td>\n",
       "      <td>0.00</td>\n",
       "      <td>72.9480</td>\n",
       "    </tr>\n",
       "  </tbody>\n",
       "</table>\n",
       "<p>9994 rows × 19 columns</p>\n",
       "</div>"
      ],
      "text/plain": [
       "      Row ID          Order ID  Order Date  Date Key       Contact Name  \\\n",
       "0          1  EMEA-2022-152156   11/9/2022  20221109        Nathan Bell   \n",
       "1          2  EMEA-2022-152156   11/9/2022  20221109        Nathan Bell   \n",
       "2          3  AMER-2022-138688   6/13/2022  20220613     Deirdre Bailey   \n",
       "3          4  EMEA-2021-108966  10/11/2021  20211011         Zoe Hodges   \n",
       "4          5  EMEA-2021-108966  10/11/2021  20211011         Zoe Hodges   \n",
       "...      ...               ...         ...       ...                ...   \n",
       "9989    9990  EMEA-2020-110422   1/22/2020  20200122          Dan Allan   \n",
       "9990    9991  AMER-2023-121258   2/27/2023  20230227  Anthony Sanderson   \n",
       "9991    9992  AMER-2023-121258   2/27/2023  20230227  Anthony Sanderson   \n",
       "9992    9993  AMER-2023-121258   2/27/2023  20230227  Anthony Sanderson   \n",
       "9993    9994  AMER-2023-119914    5/5/2023  20230505   Jasmine Springer   \n",
       "\n",
       "            Country           City Region Subregion           Customer  \\\n",
       "0           Ireland         Dublin   EMEA      UKIR            Chevron   \n",
       "1           Ireland         Dublin   EMEA      UKIR            Chevron   \n",
       "2     United States  New York City   AMER     NAMER        Phillips 66   \n",
       "3           Germany      Stuttgart   EMEA   EU-WEST  Royal Dutch Shell   \n",
       "4           Germany      Stuttgart   EMEA   EU-WEST  Royal Dutch Shell   \n",
       "...             ...            ...    ...       ...                ...   \n",
       "9989        Germany        Hamburg   EMEA   EU-WEST  Johnson & Johnson   \n",
       "9990  United States      Milwaukee   AMER     NAMER   American Express   \n",
       "9991  United States      Milwaukee   AMER     NAMER   American Express   \n",
       "9992  United States      Milwaukee   AMER     NAMER   American Express   \n",
       "9993  United States         Dallas   AMER     NAMER            Comcast   \n",
       "\n",
       "      Customer ID        Industry    Segment                 Product  \\\n",
       "0            1017          Energy        SMB         Marketing Suite   \n",
       "1            1017          Energy        SMB              FinanceHub   \n",
       "2            1056          Energy  Strategic              FinanceHub   \n",
       "3            1031          Energy        SMB          ContactMatcher   \n",
       "4            1031          Energy        SMB  Marketing Suite - Gold   \n",
       "...           ...             ...        ...                     ...   \n",
       "9989         1055      Healthcare        SMB     SaaS Connector Pack   \n",
       "9990         1005         Finance        SMB     SaaS Connector Pack   \n",
       "9991         1005         Finance        SMB          Site Analytics   \n",
       "9992         1005         Finance        SMB                 Support   \n",
       "9993         1022  Communications        SMB                 OneView   \n",
       "\n",
       "         License     Sales  Quantity  Discount    Profit  \n",
       "0     16GRM07R1K  261.9600         2      0.00   41.9136  \n",
       "1     QLIW57KZUV  731.9400         3      0.00  219.5820  \n",
       "2     JI6BVL70HQ   14.6200         2      0.00    6.8714  \n",
       "3     DE9GJKGD44  957.5775         5      0.45 -383.0310  \n",
       "4     OIF7NY23WD   22.3680         2      0.20    2.5164  \n",
       "...          ...       ...       ...       ...       ...  \n",
       "9989  ETHXMB5TMD   25.2480         3      0.20    4.1028  \n",
       "9990  LYHOKTRY7L   91.9600         2      0.00   15.6332  \n",
       "9991  I5SVMI6M88  258.5760         2      0.20   19.3932  \n",
       "9992  JHLW4P6LQ2   29.6000         4      0.00   13.3200  \n",
       "9993  3NTBV9B3PS  243.1600         2      0.00   72.9480  \n",
       "\n",
       "[9994 rows x 19 columns]"
      ]
     },
     "execution_count": 194,
     "metadata": {},
     "output_type": "execute_result"
    }
   ],
   "source": [
    "df= pd.read_csv(r\"C:\\Users\\Adib Fardan\\OneDrive\\Documents\\DTIDS\\SaaS-Sales.csv\")\n",
    "df"
   ]
  },
  {
   "cell_type": "markdown",
   "metadata": {},
   "source": [
    "# CLEANING THE DATA\n",
    "First thing first, we need to see the data is clean or not. If the data is clean we can continue to do the analyze. Lets we check it!"
   ]
  },
  {
   "cell_type": "markdown",
   "metadata": {},
   "source": [
    "# TOTAL DATA\n",
    "AWS has 9994 data in 19 column"
   ]
  },
  {
   "cell_type": "code",
   "execution_count": 195,
   "metadata": {},
   "outputs": [
    {
     "data": {
      "text/plain": [
       "(9994, 19)"
      ]
     },
     "execution_count": 195,
     "metadata": {},
     "output_type": "execute_result"
    }
   ],
   "source": [
    "df.shape"
   ]
  },
  {
   "cell_type": "markdown",
   "metadata": {},
   "source": [
    "# CHECKING DUPLICATE\n",
    "As we can see, there is no duplicate in this data that we analyze"
   ]
  },
  {
   "cell_type": "code",
   "execution_count": 196,
   "metadata": {},
   "outputs": [
    {
     "data": {
      "text/plain": [
       "0"
      ]
     },
     "execution_count": 196,
     "metadata": {},
     "output_type": "execute_result"
    }
   ],
   "source": [
    "df.duplicated().sum()"
   ]
  },
  {
   "cell_type": "code",
   "execution_count": 197,
   "metadata": {},
   "outputs": [],
   "source": [
    "df= df.drop_duplicates()"
   ]
  },
  {
   "cell_type": "markdown",
   "metadata": {},
   "source": [
    "# CHECKING NULL VALUE\n",
    "After we checking fo duplicate, we're gonna check the Null/NaN value in the data. We need to do this first to making sure the data is in good condition so we can continue  with the rest of the process.\n"
   ]
  },
  {
   "cell_type": "code",
   "execution_count": 198,
   "metadata": {},
   "outputs": [
    {
     "data": {
      "text/html": [
       "<div>\n",
       "<style scoped>\n",
       "    .dataframe tbody tr th:only-of-type {\n",
       "        vertical-align: middle;\n",
       "    }\n",
       "\n",
       "    .dataframe tbody tr th {\n",
       "        vertical-align: top;\n",
       "    }\n",
       "\n",
       "    .dataframe thead th {\n",
       "        text-align: right;\n",
       "    }\n",
       "</style>\n",
       "<table border=\"1\" class=\"dataframe\">\n",
       "  <thead>\n",
       "    <tr style=\"text-align: right;\">\n",
       "      <th></th>\n",
       "      <th>Row ID</th>\n",
       "      <th>Order ID</th>\n",
       "      <th>Order Date</th>\n",
       "      <th>Date Key</th>\n",
       "      <th>Contact Name</th>\n",
       "      <th>Country</th>\n",
       "      <th>City</th>\n",
       "      <th>Region</th>\n",
       "      <th>Subregion</th>\n",
       "      <th>Customer</th>\n",
       "      <th>Customer ID</th>\n",
       "      <th>Industry</th>\n",
       "      <th>Segment</th>\n",
       "      <th>Product</th>\n",
       "      <th>License</th>\n",
       "      <th>Sales</th>\n",
       "      <th>Quantity</th>\n",
       "      <th>Discount</th>\n",
       "      <th>Profit</th>\n",
       "    </tr>\n",
       "  </thead>\n",
       "  <tbody>\n",
       "    <tr>\n",
       "      <th>0</th>\n",
       "      <td>False</td>\n",
       "      <td>False</td>\n",
       "      <td>False</td>\n",
       "      <td>False</td>\n",
       "      <td>False</td>\n",
       "      <td>False</td>\n",
       "      <td>False</td>\n",
       "      <td>False</td>\n",
       "      <td>False</td>\n",
       "      <td>False</td>\n",
       "      <td>False</td>\n",
       "      <td>False</td>\n",
       "      <td>False</td>\n",
       "      <td>False</td>\n",
       "      <td>False</td>\n",
       "      <td>False</td>\n",
       "      <td>False</td>\n",
       "      <td>False</td>\n",
       "      <td>False</td>\n",
       "    </tr>\n",
       "    <tr>\n",
       "      <th>1</th>\n",
       "      <td>False</td>\n",
       "      <td>False</td>\n",
       "      <td>False</td>\n",
       "      <td>False</td>\n",
       "      <td>False</td>\n",
       "      <td>False</td>\n",
       "      <td>False</td>\n",
       "      <td>False</td>\n",
       "      <td>False</td>\n",
       "      <td>False</td>\n",
       "      <td>False</td>\n",
       "      <td>False</td>\n",
       "      <td>False</td>\n",
       "      <td>False</td>\n",
       "      <td>False</td>\n",
       "      <td>False</td>\n",
       "      <td>False</td>\n",
       "      <td>False</td>\n",
       "      <td>False</td>\n",
       "    </tr>\n",
       "    <tr>\n",
       "      <th>2</th>\n",
       "      <td>False</td>\n",
       "      <td>False</td>\n",
       "      <td>False</td>\n",
       "      <td>False</td>\n",
       "      <td>False</td>\n",
       "      <td>False</td>\n",
       "      <td>False</td>\n",
       "      <td>False</td>\n",
       "      <td>False</td>\n",
       "      <td>False</td>\n",
       "      <td>False</td>\n",
       "      <td>False</td>\n",
       "      <td>False</td>\n",
       "      <td>False</td>\n",
       "      <td>False</td>\n",
       "      <td>False</td>\n",
       "      <td>False</td>\n",
       "      <td>False</td>\n",
       "      <td>False</td>\n",
       "    </tr>\n",
       "    <tr>\n",
       "      <th>3</th>\n",
       "      <td>False</td>\n",
       "      <td>False</td>\n",
       "      <td>False</td>\n",
       "      <td>False</td>\n",
       "      <td>False</td>\n",
       "      <td>False</td>\n",
       "      <td>False</td>\n",
       "      <td>False</td>\n",
       "      <td>False</td>\n",
       "      <td>False</td>\n",
       "      <td>False</td>\n",
       "      <td>False</td>\n",
       "      <td>False</td>\n",
       "      <td>False</td>\n",
       "      <td>False</td>\n",
       "      <td>False</td>\n",
       "      <td>False</td>\n",
       "      <td>False</td>\n",
       "      <td>False</td>\n",
       "    </tr>\n",
       "    <tr>\n",
       "      <th>4</th>\n",
       "      <td>False</td>\n",
       "      <td>False</td>\n",
       "      <td>False</td>\n",
       "      <td>False</td>\n",
       "      <td>False</td>\n",
       "      <td>False</td>\n",
       "      <td>False</td>\n",
       "      <td>False</td>\n",
       "      <td>False</td>\n",
       "      <td>False</td>\n",
       "      <td>False</td>\n",
       "      <td>False</td>\n",
       "      <td>False</td>\n",
       "      <td>False</td>\n",
       "      <td>False</td>\n",
       "      <td>False</td>\n",
       "      <td>False</td>\n",
       "      <td>False</td>\n",
       "      <td>False</td>\n",
       "    </tr>\n",
       "    <tr>\n",
       "      <th>...</th>\n",
       "      <td>...</td>\n",
       "      <td>...</td>\n",
       "      <td>...</td>\n",
       "      <td>...</td>\n",
       "      <td>...</td>\n",
       "      <td>...</td>\n",
       "      <td>...</td>\n",
       "      <td>...</td>\n",
       "      <td>...</td>\n",
       "      <td>...</td>\n",
       "      <td>...</td>\n",
       "      <td>...</td>\n",
       "      <td>...</td>\n",
       "      <td>...</td>\n",
       "      <td>...</td>\n",
       "      <td>...</td>\n",
       "      <td>...</td>\n",
       "      <td>...</td>\n",
       "      <td>...</td>\n",
       "    </tr>\n",
       "    <tr>\n",
       "      <th>9989</th>\n",
       "      <td>False</td>\n",
       "      <td>False</td>\n",
       "      <td>False</td>\n",
       "      <td>False</td>\n",
       "      <td>False</td>\n",
       "      <td>False</td>\n",
       "      <td>False</td>\n",
       "      <td>False</td>\n",
       "      <td>False</td>\n",
       "      <td>False</td>\n",
       "      <td>False</td>\n",
       "      <td>False</td>\n",
       "      <td>False</td>\n",
       "      <td>False</td>\n",
       "      <td>False</td>\n",
       "      <td>False</td>\n",
       "      <td>False</td>\n",
       "      <td>False</td>\n",
       "      <td>False</td>\n",
       "    </tr>\n",
       "    <tr>\n",
       "      <th>9990</th>\n",
       "      <td>False</td>\n",
       "      <td>False</td>\n",
       "      <td>False</td>\n",
       "      <td>False</td>\n",
       "      <td>False</td>\n",
       "      <td>False</td>\n",
       "      <td>False</td>\n",
       "      <td>False</td>\n",
       "      <td>False</td>\n",
       "      <td>False</td>\n",
       "      <td>False</td>\n",
       "      <td>False</td>\n",
       "      <td>False</td>\n",
       "      <td>False</td>\n",
       "      <td>False</td>\n",
       "      <td>False</td>\n",
       "      <td>False</td>\n",
       "      <td>False</td>\n",
       "      <td>False</td>\n",
       "    </tr>\n",
       "    <tr>\n",
       "      <th>9991</th>\n",
       "      <td>False</td>\n",
       "      <td>False</td>\n",
       "      <td>False</td>\n",
       "      <td>False</td>\n",
       "      <td>False</td>\n",
       "      <td>False</td>\n",
       "      <td>False</td>\n",
       "      <td>False</td>\n",
       "      <td>False</td>\n",
       "      <td>False</td>\n",
       "      <td>False</td>\n",
       "      <td>False</td>\n",
       "      <td>False</td>\n",
       "      <td>False</td>\n",
       "      <td>False</td>\n",
       "      <td>False</td>\n",
       "      <td>False</td>\n",
       "      <td>False</td>\n",
       "      <td>False</td>\n",
       "    </tr>\n",
       "    <tr>\n",
       "      <th>9992</th>\n",
       "      <td>False</td>\n",
       "      <td>False</td>\n",
       "      <td>False</td>\n",
       "      <td>False</td>\n",
       "      <td>False</td>\n",
       "      <td>False</td>\n",
       "      <td>False</td>\n",
       "      <td>False</td>\n",
       "      <td>False</td>\n",
       "      <td>False</td>\n",
       "      <td>False</td>\n",
       "      <td>False</td>\n",
       "      <td>False</td>\n",
       "      <td>False</td>\n",
       "      <td>False</td>\n",
       "      <td>False</td>\n",
       "      <td>False</td>\n",
       "      <td>False</td>\n",
       "      <td>False</td>\n",
       "    </tr>\n",
       "    <tr>\n",
       "      <th>9993</th>\n",
       "      <td>False</td>\n",
       "      <td>False</td>\n",
       "      <td>False</td>\n",
       "      <td>False</td>\n",
       "      <td>False</td>\n",
       "      <td>False</td>\n",
       "      <td>False</td>\n",
       "      <td>False</td>\n",
       "      <td>False</td>\n",
       "      <td>False</td>\n",
       "      <td>False</td>\n",
       "      <td>False</td>\n",
       "      <td>False</td>\n",
       "      <td>False</td>\n",
       "      <td>False</td>\n",
       "      <td>False</td>\n",
       "      <td>False</td>\n",
       "      <td>False</td>\n",
       "      <td>False</td>\n",
       "    </tr>\n",
       "  </tbody>\n",
       "</table>\n",
       "<p>9994 rows × 19 columns</p>\n",
       "</div>"
      ],
      "text/plain": [
       "      Row ID  Order ID  Order Date  Date Key  Contact Name  Country   City  \\\n",
       "0      False     False       False     False         False    False  False   \n",
       "1      False     False       False     False         False    False  False   \n",
       "2      False     False       False     False         False    False  False   \n",
       "3      False     False       False     False         False    False  False   \n",
       "4      False     False       False     False         False    False  False   \n",
       "...      ...       ...         ...       ...           ...      ...    ...   \n",
       "9989   False     False       False     False         False    False  False   \n",
       "9990   False     False       False     False         False    False  False   \n",
       "9991   False     False       False     False         False    False  False   \n",
       "9992   False     False       False     False         False    False  False   \n",
       "9993   False     False       False     False         False    False  False   \n",
       "\n",
       "      Region  Subregion  Customer  Customer ID  Industry  Segment  Product  \\\n",
       "0      False      False     False        False     False    False    False   \n",
       "1      False      False     False        False     False    False    False   \n",
       "2      False      False     False        False     False    False    False   \n",
       "3      False      False     False        False     False    False    False   \n",
       "4      False      False     False        False     False    False    False   \n",
       "...      ...        ...       ...          ...       ...      ...      ...   \n",
       "9989   False      False     False        False     False    False    False   \n",
       "9990   False      False     False        False     False    False    False   \n",
       "9991   False      False     False        False     False    False    False   \n",
       "9992   False      False     False        False     False    False    False   \n",
       "9993   False      False     False        False     False    False    False   \n",
       "\n",
       "      License  Sales  Quantity  Discount  Profit  \n",
       "0       False  False     False     False   False  \n",
       "1       False  False     False     False   False  \n",
       "2       False  False     False     False   False  \n",
       "3       False  False     False     False   False  \n",
       "4       False  False     False     False   False  \n",
       "...       ...    ...       ...       ...     ...  \n",
       "9989    False  False     False     False   False  \n",
       "9990    False  False     False     False   False  \n",
       "9991    False  False     False     False   False  \n",
       "9992    False  False     False     False   False  \n",
       "9993    False  False     False     False   False  \n",
       "\n",
       "[9994 rows x 19 columns]"
      ]
     },
     "execution_count": 198,
     "metadata": {},
     "output_type": "execute_result"
    }
   ],
   "source": [
    "df.isnull()"
   ]
  },
  {
   "cell_type": "markdown",
   "metadata": {},
   "source": [
    "In here we can see there is no anomaly in this data, there is no Null/NaN value , and the data is in the correct format. We can proceed with the analysis."
   ]
  },
  {
   "cell_type": "code",
   "execution_count": 199,
   "metadata": {},
   "outputs": [
    {
     "data": {
      "text/plain": [
       "Row ID          0\n",
       "Order ID        0\n",
       "Order Date      0\n",
       "Date Key        0\n",
       "Contact Name    0\n",
       "Country         0\n",
       "City            0\n",
       "Region          0\n",
       "Subregion       0\n",
       "Customer        0\n",
       "Customer ID     0\n",
       "Industry        0\n",
       "Segment         0\n",
       "Product         0\n",
       "License         0\n",
       "Sales           0\n",
       "Quantity        0\n",
       "Discount        0\n",
       "Profit          0\n",
       "dtype: int64"
      ]
     },
     "execution_count": 199,
     "metadata": {},
     "output_type": "execute_result"
    }
   ],
   "source": [
    "df.isnull().sum()"
   ]
  },
  {
   "cell_type": "markdown",
   "metadata": {},
   "source": [
    "# CHECKING UNIQUE VALUE\n",
    "Checking unique value to know the wording is correct or not\n"
   ]
  },
  {
   "cell_type": "code",
   "execution_count": 200,
   "metadata": {},
   "outputs": [
    {
     "data": {
      "text/plain": [
       "array(['Nathan Bell', 'Deirdre Bailey', 'Zoe Hodges', 'Thomas Hodges',\n",
       "       'Adrian Hunter', 'Adrian Abraham', 'Emily Morrison',\n",
       "       'Claire Welch', 'Carol Campbell', 'Blake Hughes', 'Melanie Sharp',\n",
       "       'Luke Bower', 'Jonathan Ferguson', 'Sam Parsons', 'Neil Gill',\n",
       "       'Amelia Campbell', 'Chloe Short', 'Jasmine Metcalfe',\n",
       "       'Karen Mathis', 'Dylan Dickens', 'Sophie Lewis', 'Gavin Mitchell',\n",
       "       'Katherine Dowd', 'Harry Brown', 'Brian Dickens', 'Joseph Newman',\n",
       "       'Nicola Howard', 'Stewart Wilson', 'Eric McLean', 'Leah Clarkson',\n",
       "       'Alison Davidson', 'Sophie Vance', 'Anne Lee', 'Maria Dyer',\n",
       "       'Julia Ellison', 'Gordon McLean', 'Jessica Buckland',\n",
       "       'Bernadette Nolan', 'Sonia Ince', 'William Lewis', 'Melanie Young',\n",
       "       'Edward Oliver', 'Peter Quinn', 'Max Marshall', 'Jan Watson',\n",
       "       'Carol Ball', 'Gavin Walsh', 'Penelope Peake', 'Amy Scott',\n",
       "       'Carl Jackson', 'Joe Wallace', 'Luke Mills', 'Alexandra Dyer',\n",
       "       'Rebecca Dickens', 'Audrey Hardacre', 'Jennifer Dowd',\n",
       "       'Natalie Sanderson', 'Samantha Rampling', 'Sally Berry',\n",
       "       'Anthony Clark', 'Victor Short', 'Austin Newman', 'Rose Scott',\n",
       "       'Tim Morrison', 'Harry Murray', 'Dylan Dowd', 'Angela Parsons',\n",
       "       'Lisa Oliver', 'Joseph Duncan', 'Paul MacDonald', 'Gordon Graham',\n",
       "       'Sean Bower', 'Anthony Sanderson', 'Stewart Marshall',\n",
       "       'Joanne Carr', 'Angela Davies', 'William Alsop', 'Owen Watson',\n",
       "       'Melanie Davidson', 'Warren Forsyth', 'Gabrielle Ogden',\n",
       "       'Justin Randall', 'Jack Graham', 'Sophie Henderson', 'Brian Short',\n",
       "       'Samantha Lawrence', 'Una Hudson', 'Kimberly North', 'Dylan Ogden',\n",
       "       'Jonathan Clark', 'Kevin Vaughan', 'Madeleine Smith', 'Diana Ince',\n",
       "       'Tracey Knox', 'Michelle McLean', 'Diana Bell', 'Jan Clark',\n",
       "       'Pippa Smith', 'Rebecca Wilson', 'Irene Smith', 'Evan Terry',\n",
       "       'Bella Mackenzie', 'Gordon Jackson', 'Joe Ross', 'Carolyn Murray',\n",
       "       'Lily Paterson', 'William Skinner', 'Trevor Langdon', 'Luke Terry',\n",
       "       'Vanessa Davidson', 'Penelope Nash', 'Molly Rees', 'Carol James',\n",
       "       'Sally Davidson', 'Simon Peters', 'Charles Hart', 'Lucas Mathis',\n",
       "       'Joanne Robertson', 'Felicity King', 'Thomas Peters', 'Zoe Avery',\n",
       "       'Luke Jones', 'Isaac Hart', 'Nicola Pullman', 'Faith Harris',\n",
       "       'Thomas Roberts', 'Lillian Hodges', 'Joseph Forsyth',\n",
       "       'Anne Rutherford', 'Harry Mills', 'Trevor Clark', 'Dylan Terry',\n",
       "       'Jasmine MacDonald', 'Blake Campbell', 'Boris Underwood',\n",
       "       'Fiona Peters', 'Phil Short', 'Fiona Allan', 'Peter McLean',\n",
       "       'Kevin Morrison', 'Andrew Wilkins', 'Matt Forsyth',\n",
       "       'Amelia Martin', 'Sally Wallace', 'Anna Bower', 'Pippa Morrison',\n",
       "       'Gordon Chapman', 'Wanda Simpson', 'Christian Gill', 'Julian Nash',\n",
       "       'Anna Hemmings', 'Sue Anderson', 'Boris Coleman', 'Fiona Nolan',\n",
       "       'Faith Jones', 'Grace Duncan', 'Richard Davidson', 'Colin Glover',\n",
       "       'Phil Dowd', 'Rachel Cornish', 'Molly Vance', 'Alan Graham',\n",
       "       'Dominic Bell', 'Abigail Langdon', 'Edward Wilkins',\n",
       "       'Richard Lyman', 'Lily Bond', 'Joe Hughes', 'Kimberly Newman',\n",
       "       'Felicity Henderson', 'Blake Fraser', 'Lily North', 'Irene Duncan',\n",
       "       'Sean Rees', 'Victoria Nash', 'Sebastian Brown', 'Gordon Greene',\n",
       "       'Ryan Oliver', 'Liam Abraham', 'Chloe Underwood', 'Owen Ferguson',\n",
       "       'Cameron MacLeod', 'Hannah Sanderson', 'Deirdre McDonald',\n",
       "       'Diane Metcalfe', 'Dylan Mills', 'Diane Mills', 'Oliver Bond',\n",
       "       'Stewart Hart', 'Alexander James', 'Warren Hemmings', 'Maria Bell',\n",
       "       'Alison Fisher', 'Jack Hodges', 'Una Knox', 'Adam James',\n",
       "       'Connor Watson', 'Samantha Murray', 'Carol Forsyth', 'Sam Alsop',\n",
       "       'Eric Forsyth', 'Dominic Duncan', 'Robert Dyer', 'Karen Taylor',\n",
       "       'Molly Rutherford', 'Alan White', 'Gavin Walker', 'Joseph Tucker',\n",
       "       'James Butler', 'William Lawrence', 'Irene Wright', 'Irene Clark',\n",
       "       'Sean Scott', 'Emma Young', 'Wanda Gill', 'Sebastian Sharp',\n",
       "       'Virginia Carr', 'Zoe Ferguson', 'Michelle Langdon',\n",
       "       'James Harris', 'Jonathan Thomson', 'Victoria Roberts',\n",
       "       'Justin Anderson', 'Caroline Burgess', 'Liam Paige',\n",
       "       'Dominic Hill', 'Justin Pullman', 'Joseph Cameron', 'Natalie Nash',\n",
       "       'Colin Morgan', 'Jasmine MacLeod', 'Charles Lee', 'Leonard Nash',\n",
       "       'Pippa Brown', 'Pippa Ross', 'Matt Kelly', 'Michelle Thomson',\n",
       "       'Evan Ince', 'Diane Buckland', 'Jane Pullman', 'Jessica Langdon',\n",
       "       'Ella Lawrence', 'Carolyn Ross', 'Ella Simpson', 'Ian Ross',\n",
       "       'Vanessa White', 'Joshua Lyman', 'Grace Hodges',\n",
       "       'Elizabeth Hughes', 'Fiona Piper', 'Alan Hudson', 'Faith Blake',\n",
       "       'Gordon Parr', 'Emily Ball', 'Michael Morgan', 'Peter Hart',\n",
       "       'Andrew Lee', 'Ruth McGrath', 'Kevin Rampling', 'Dan Tucker',\n",
       "       'Stephanie Abraham', 'Simon Payne', 'Bella Powell',\n",
       "       'Liam Clarkson', 'Deirdre Sharp', 'Emily Fisher', 'Joan Dickens',\n",
       "       'Kimberly Oliver', 'Pippa Blake', 'Ella Henderson', 'Stewart May',\n",
       "       'Lucas Turner', 'Lucas Kerr', 'Kevin Welch', 'David Lee',\n",
       "       'Stephen Dyer', 'Claire Carr', 'Irene Walsh', 'Adrian Poole',\n",
       "       'Amy Simpson', 'Trevor Jones', 'Kevin Mitchell', 'Austin Stewart',\n",
       "       'Benjamin Fisher', 'Sam Carr', 'Liam Churchill', 'Victoria Poole',\n",
       "       'Cameron Bower', 'Michael King', 'Amy Paterson', 'Andrew Reid',\n",
       "       'Christopher James', 'Colin Bell', 'Nathan Young',\n",
       "       'Anthony Mackay', 'Carolyn Dowd', 'Sam Rampling', 'Deirdre James',\n",
       "       'Isaac Robertson', 'Ava Ellison', 'Joanne Walsh', 'Audrey Wilkins',\n",
       "       'Sean Taylor', 'Lillian Duncan', 'Harry McGrath',\n",
       "       'Jonathan Marshall', 'Evan Paige', 'Trevor Simpson', 'Ian Butler',\n",
       "       'Alexandra Slater', 'Charles Churchill', 'Evan Ogden',\n",
       "       'Peter Ellison', 'Boris Hunter', 'Joe Davies', 'William Robertson',\n",
       "       'Andrea Reid', 'Virginia Murray', 'Colin Hamilton', 'Liam Young',\n",
       "       'Chloe Campbell', 'Andrew Miller', 'Eric Mills',\n",
       "       'Sebastian Robertson', 'Jan Baker', 'Sue Ince', 'Madeleine Howard',\n",
       "       'Sebastian Abraham', 'Carol Edmunds', 'Amelia Kelly',\n",
       "       'Dan Davidson', 'Melanie Chapman', 'Austin Peters',\n",
       "       'Leonard Springer', 'Robert McGrath', 'Sue Wilson', 'Neil Smith',\n",
       "       'Angela Churchill', 'Connor McDonald', 'Jane Stewart',\n",
       "       'Diana Taylor', 'Liam Murray', 'Jonathan Lawrence', 'Molly Scott',\n",
       "       'Edward Mathis', 'Justin Scott', 'Max Ross', 'Faith Gray',\n",
       "       'Gavin White', 'Luke Davidson', 'Jonathan Ball', 'Benjamin Berry',\n",
       "       'Evan Ross', 'Luke McDonald', 'Jennifer Roberts',\n",
       "       'Leonard Cameron', 'Lisa Edmunds', 'Maria Edmunds',\n",
       "       'Sonia Parsons', 'Thomas Gibson', 'Megan Smith', 'Emily Ogden',\n",
       "       'Stewart Baker', 'Jan Hardacre', 'Dominic Lawrence', 'Emily Ross',\n",
       "       'Alexandra May', 'Boris Baker', 'Audrey Bower', 'Owen Hill',\n",
       "       'Victoria Henderson', 'Theresa Paige', 'Isaac Paterson',\n",
       "       'Max McGrath', 'Chloe May', 'Thomas Ross', 'David Murray',\n",
       "       'Zoe Lyman', 'Victor Walsh', 'John MacDonald', 'Sophie Cornish',\n",
       "       'Jan Hemmings', 'Leah MacLeod', 'Ian McGrath', 'Carl Miller',\n",
       "       'Samantha Hardacre', 'Rose Smith', 'Alison Coleman',\n",
       "       'Irene Graham', 'Penelope Ball', 'Wanda Hardacre',\n",
       "       'Oliver Coleman', 'Amy Edmunds', 'Richard Carr', 'Jacob Vaughan',\n",
       "       'Frank Newman', 'Claire Springer', 'Kimberly Short', 'Bella Payne',\n",
       "       'Lisa Peake', 'Jake Berry', 'Samantha Piper', 'Zoe Bond',\n",
       "       'Justin Carr', 'David McDonald', 'Lauren Peters', 'Bella Wallace',\n",
       "       'Lisa Lee', 'Bella Hodges', 'Leonard Parsons', 'Nathan McGrath',\n",
       "       'Una Mackay', 'Jonathan Gibson', 'Cameron King', 'Boris Springer',\n",
       "       'Sam Randall', 'Steven Henderson', 'Jasmine Springer',\n",
       "       'Adam Manning', 'Joshua Glover', 'Jan Vaughan', 'Jonathan Brown',\n",
       "       'Andrew Smith', 'Blake Jackson', 'Justin Walker', 'Pippa Hunter',\n",
       "       'Liam Russell', 'Nicola Butler', 'Ruth Vaughan', 'Molly Mitchell',\n",
       "       'Alexandra Morrison', 'Ryan Ellison', 'Joe Skinner',\n",
       "       'Nicholas May', 'Julian Langdon', 'Owen Scott', 'Cameron Lawrence',\n",
       "       'Nathan Marshall', 'Gabrielle Russell', 'Melanie Dowd',\n",
       "       'Sarah Sanderson', 'Jake North', 'Wendy Young', 'Gabrielle Dowd',\n",
       "       'Bernadette Hill', 'Cameron Randall', 'Liam Burgess',\n",
       "       'Paul Martin', 'Rebecca Lambert', 'Claire Henderson',\n",
       "       'Pippa Chapman', 'Warren McGrath', 'Tracey Dickens', 'Rose Hill',\n",
       "       'Sue Parsons', 'Carolyn Parr', 'Steven Coleman', 'Ruth Kerr',\n",
       "       'Carl Powell', 'Joseph White', 'Elizabeth Young',\n",
       "       'Katherine Graham', 'Faith Robertson', 'Diana Black',\n",
       "       'Carol Greene', 'Adam Davidson', 'Sonia Hardacre', 'Andrea Hughes',\n",
       "       'Audrey Alsop', 'Ella Springer', 'William May', 'Brandon Kerr',\n",
       "       'Alexander Wallace', 'Faith Campbell', 'Leonard Dyer',\n",
       "       'Harry Buckland', 'Brian Hunter', 'Olivia Graham', 'Andrew Lewis',\n",
       "       'Una Poole', 'Ella Hart', 'Sophie Murray', 'Emma Greene',\n",
       "       'Dan Allan', 'Jack Hughes', 'Una Avery', 'Alexandra Sharp',\n",
       "       'Frank Ball', 'Emma Thomson', 'Audrey Young', 'Anna Clarkson',\n",
       "       'Olivia Taylor', 'Kylie Poole', 'Felicity Terry', 'Peter Knox',\n",
       "       'Kimberly Langdon', 'Emily Campbell', 'Hannah Hughes',\n",
       "       'Connor Roberts', 'Dan Rutherford', 'Justin Turner',\n",
       "       'Pippa Edmunds', 'Rose James', 'Rose Dyer', 'Michael Forsyth',\n",
       "       'Ruth Tucker', 'Alison Howard', 'Theresa Henderson', 'Sarah Alsop',\n",
       "       'Gordon Sanderson', 'Leah Murray', 'Kevin Jones', 'Alan Bailey',\n",
       "       'Boris Walsh', 'Alison Miller', 'Frank Piper', 'Blake Reid',\n",
       "       'Gordon Burgess', 'John Jones', 'Lisa Wilkins', 'Karen Vance',\n",
       "       'Felicity Sutherland', 'Charles Buckland', 'Molly Turner',\n",
       "       'Carol Berry', 'David Graham', 'Michelle Hemmings', 'Joan Ball',\n",
       "       'Sean Morrison', 'Joe Allan', 'Alexander Martin',\n",
       "       'Bernadette Scott', 'Edward Berry', 'Cameron Miller',\n",
       "       'Edward Hardacre', 'John Dyer', 'Karen Edmunds', 'Rebecca May',\n",
       "       'Luke Churchill', 'Ryan Turner', 'Trevor Rutherford',\n",
       "       'Emily Blake', 'Penelope Terry', 'Adrian Walker', 'Zoe Edmunds',\n",
       "       'Joanne Harris', 'Irene Johnston', 'Max James', 'Victoria Ellison',\n",
       "       'Adrian Clarkson', 'Vanessa Metcalfe', 'Keith Randall',\n",
       "       'Adam Nash', 'Maria James', 'Madeleine Cameron',\n",
       "       'Kimberly Manning', 'Gordon Dyer', 'Joanne Hemmings',\n",
       "       'Caroline Greene', 'Lucas Taylor', 'Caroline Gibson',\n",
       "       'Bella Morgan', 'Joanne Blake', 'Max Skinner', 'Owen Ellison',\n",
       "       'Brandon Vaughan', 'Warren Reid', 'Harry McLean',\n",
       "       'Nicholas Skinner', 'Jasmine Greene', 'Dominic Short',\n",
       "       'Alexander Pullman', 'Sonia Miller', 'Connor Nolan', 'Pippa Kerr',\n",
       "       'Gordon Bower', 'Leonard Kelly', 'Sue Miller', 'Brian Peters',\n",
       "       'Connor Paige', 'Lucas Newman', 'Grace Butler', 'Joe Lee',\n",
       "       'Max Langdon', 'Gordon Baker', 'Donna Bailey', 'Lucas Oliver',\n",
       "       'Victoria Wilkins', 'Sophie Pullman', 'Paul Harris',\n",
       "       'Warren Butler', 'Leonard Poole', 'Connor Morrison',\n",
       "       'Andrew Sanderson', 'Amelia Chapman', 'Andrea Hill', 'Blake Short',\n",
       "       'Donna Hemmings', 'Diane Murray', 'Steven Rees', 'Kimberly Harris',\n",
       "       'Christian Lyman', 'Karen Welch', 'Tracey Skinner',\n",
       "       'Natalie Newman', 'Max Hardacre', 'James Terry', 'Carl Ince',\n",
       "       'Frank Hart', 'Emma Stewart', 'Jennifer Bailey', 'Michael Lewis',\n",
       "       'Ava Oliver', 'Sophie Poole', 'Jasmine McDonald', 'Cameron Oliver',\n",
       "       'Evan Jackson', 'Kevin Brown', 'Benjamin Hughes', 'Felicity Peake',\n",
       "       'Alan Gill', 'Warren Abraham', 'Keith Mills', 'Jake Mackenzie',\n",
       "       'Rose Ball', 'Ryan Thomson', 'Christian Kerr', 'Caroline Smith',\n",
       "       'Molly Grant', 'Irene Lambert', 'Charles Wilkins', 'Ian Sharp',\n",
       "       'Harry Vaughan', 'Frank Metcalfe', 'Rachel Bond',\n",
       "       'Benjamin Bailey', 'Andrew Slater', 'Kimberly MacDonald',\n",
       "       'Jennifer Payne', 'Wanda Sharp', 'Jason Arnold', 'Kevin Burgess',\n",
       "       'Stephanie Kelly', 'Luke Ross', 'Joan Watson', 'Matt Bell',\n",
       "       'Keith Paige', 'Alexander Hill', 'Harry Sharp',\n",
       "       'Samantha Paterson', 'Andrea Rampling', 'Theresa Murray',\n",
       "       'Christian Glover', 'Kimberly Black', 'Julian Morrison',\n",
       "       'Oliver King', 'Sally Nolan', 'Claire Vance', 'Jonathan Grant',\n",
       "       'Olivia Hamilton', 'Julian Short', 'Phil Mills', 'Carl Avery',\n",
       "       'James Fisher', 'Liam Robertson', 'Ian Jones', 'Alexander Langdon',\n",
       "       'Stephen Robertson', 'Michael Nolan', 'Rachel Blake', 'Alan Berry',\n",
       "       'Felicity Abraham', 'Samantha Ince', 'Dylan Ince',\n",
       "       'Frank Davidson', 'Dan Hunter', 'Joshua Vaughan', 'Joanne Davies',\n",
       "       'Ella King', 'Emma Langdon', 'Jacob Paterson', 'Joan Glover',\n",
       "       'Leonard Ogden', 'Colin White', 'Jessica Hughes', 'Jennifer Avery',\n",
       "       'Jennifer Watson', 'Anna Reid', 'Penelope Brown', 'Anna Fisher',\n",
       "       'Matt Berry', 'Christopher Hodges', 'Ryan Jackson',\n",
       "       'Samantha Walker', 'Simon Taylor', 'Phil Tucker',\n",
       "       'Dorothy Pullman', 'Natalie Skinner', 'Katherine Manning',\n",
       "       'Keith Morrison', 'Austin Randall', 'Megan Rampling', 'Jan White',\n",
       "       'Peter Nolan', 'Gavin Clark', 'Keith Coleman', 'Nicholas Paterson',\n",
       "       'Chloe White', 'Theresa Cameron', 'Dominic Burgess', 'Grace Bell',\n",
       "       'Molly Watson', 'Julian Glover', 'Ella Thomson', 'Blake Hart',\n",
       "       'Lisa Lawrence', 'Rose MacDonald', 'Karen Langdon',\n",
       "       'Lauren Ellison', 'Joshua Short', 'Carl Langdon', 'Alison Mills',\n",
       "       'Justin Walsh', 'Ryan Kerr', 'Theresa McLean', 'Emma Baker',\n",
       "       'Ella Rees', 'Bernadette Black', 'Karen Howard', 'Boris Vance',\n",
       "       'John Davies', 'Jane Manning', 'Victor Avery', 'Nathan Hughes',\n",
       "       'Dylan Anderson', 'Thomas Watson', 'Peter Johnston', 'Peter Peake',\n",
       "       'Ella Clarkson', 'Victor Gill', 'Kevin Wilkins',\n",
       "       'Carolyn Metcalfe', 'Heather Dyer', 'Rebecca Mackay',\n",
       "       'Donna Scott', 'Simon Hart', 'Michael Watson', 'Joanne Forsyth',\n",
       "       'Diane Hart', 'Amelia Lee', 'Deirdre Ogden', 'Benjamin Bower',\n",
       "       'Lily Hart', 'Luke Rutherford', 'Jack Ince', 'Ryan Johnston',\n",
       "       'Gavin Nash', 'Kylie Lee', 'Max Morgan', 'Sophie Hill',\n",
       "       'Sebastian Young', 'Julian Newman', 'Lily Blake', 'Sean Randall',\n",
       "       'Lily Hardacre', 'Sam Lawrence', 'Victor Lewis', 'Molly MacDonald',\n",
       "       'Andrea Hunter', 'Oliver Cornish', 'Nathan Lambert',\n",
       "       'Trevor Metcalfe', 'Katherine Watson', 'Felicity Peters',\n",
       "       'Brian Campbell', 'Charles Ross', 'Sam Gill', 'Joshua Gibson',\n",
       "       'Katherine Rutherford', 'Katherine Baker', 'Boris Reid',\n",
       "       'Kylie Mackenzie', 'Stewart Vance', 'Molly Martin',\n",
       "       'Simon McDonald', 'Emma Watson', 'Phil Turner', 'Jacob Hart',\n",
       "       'Alexander Duncan', 'Ella Paige', 'Bernadette Hudson',\n",
       "       'Frank Ferguson', 'Chloe Vance'], dtype=object)"
      ]
     },
     "execution_count": 200,
     "metadata": {},
     "output_type": "execute_result"
    }
   ],
   "source": [
    "df['Contact Name'].unique()"
   ]
  },
  {
   "cell_type": "code",
   "execution_count": 201,
   "metadata": {},
   "outputs": [
    {
     "data": {
      "text/plain": [
       "array(['Ireland', 'United States', 'Germany', 'Sweden', 'Canada', 'Japan',\n",
       "       'Italy', 'Turkey', 'Costa Rica', 'France', 'Australia',\n",
       "       'Luxembourg', 'Brazil', 'Philippines', 'India', 'United Kingdom',\n",
       "       'Chile', 'Spain', 'South Africa', 'Portugal', 'Colombia',\n",
       "       'Belgium', 'Russia', 'Netherlands', 'Mexico', 'Poland',\n",
       "       'Singapore', 'New Zealand', 'Czech Republic', 'Saudi Arabia',\n",
       "       'Argentina', 'South Korea', 'Finland', 'Israel', 'Norway',\n",
       "       'Ukraine', 'United Arab Emirates', 'Greece', 'China', 'Austria',\n",
       "       'Indonesia', 'Egypt', 'Denmark', 'Croatia', 'Taiwan', 'Qatar',\n",
       "       'Slovenia', 'Iceland'], dtype=object)"
      ]
     },
     "execution_count": 201,
     "metadata": {},
     "output_type": "execute_result"
    }
   ],
   "source": [
    "df['Country'].unique()"
   ]
  },
  {
   "cell_type": "code",
   "execution_count": 202,
   "metadata": {},
   "outputs": [
    {
     "data": {
      "text/plain": [
       "array(['Dublin', 'New York City', 'Stuttgart', 'Stockholm', 'Toronto',\n",
       "       'Saitama', 'Naples', 'Ankara', 'Los Angeles', 'San José', 'Paris',\n",
       "       'Istanbul', 'Tokyo', 'Aichi', 'Wollongong', 'Hanover',\n",
       "       'Luxembourg', 'Salvador', 'Davao City', 'Kolkata', 'London',\n",
       "       'Brighton', 'Sydney', 'Puente Alto', 'Madrid', 'Rio de Janeiro',\n",
       "       'Cape Town', 'Lisboa', 'Uppsala', 'Bogotá', 'Brussels', 'Moscow',\n",
       "       'Canberra', 'The Hague', 'Mexico City', 'Manila', 'Geelong',\n",
       "       'Santiago', 'Aurora', 'Warsaw', 'Newark', 'Monterrey', 'Rome',\n",
       "       'Chicago', 'Singapore', 'Wellington', 'Osaka', 'Melbourne',\n",
       "       'Prague', 'Riyadh', 'Raleigh', 'Providence', 'Córdoba',\n",
       "       'Guadalajara', 'Oklahoma City', 'Puerto Vallarta', 'São Paulo',\n",
       "       'Johannesburg', 'Cologne', 'Rochester', 'Seattle', 'Detroit',\n",
       "       'Lafayette', 'Munich', 'St Petersburg', 'Buenos Aires', 'Mendoza',\n",
       "       'Leipzig', 'Jacksonville', 'Long Beach', 'Chiba', 'Incheon',\n",
       "       'Helsinki', 'Dhahran', 'Seoul', 'Dresden', 'Vancouver', 'Adelaide',\n",
       "       'Tel Aviv', 'Hordaland', 'Hamburg', 'Henderson', 'Kyiv',\n",
       "       'Leicester', 'Malmö', 'Berlin', 'Mumbai', 'Cardiff', 'Columbus',\n",
       "       'Fukuoka', 'Birmingham', 'Kanagawa', 'Liverpool', 'Abu Dhabi',\n",
       "       'Milwaukee', 'Yekaterinburg', 'Krakow', 'Frankfurt', 'Porto',\n",
       "       'Antofagasta', 'Genoa', 'Toluca', 'San Francisco', 'Hamilton',\n",
       "       'Tampere', 'Miami', 'Yonkers', 'Manaus', 'Rosario', 'Ottawa',\n",
       "       'Hyogo', 'Tijuana', 'Gothenburg', 'Lyon', 'Edinburgh', 'Leeds',\n",
       "       'Brisbane', 'Belo Horizonte', 'Ostrava', 'Amsterdam', 'Roswell',\n",
       "       'Murcia', 'Baltimore', 'Brno', 'Montreal', 'Atlanta', 'Milan',\n",
       "       'Cork', 'Jackson', 'Nice', 'Athens', 'Shanghai', 'Alicante',\n",
       "       'Cancun', 'Auckland', 'Springfield', 'Sapporo', 'Richmond',\n",
       "       'Seville', 'Huntsville', 'Calgary', 'Vienna', 'Woking',\n",
       "       'San Diego', 'Shenzhen', 'Louisville', 'Dubai', 'Tampa',\n",
       "       'Jerusalem', 'Zaragoza', 'Virginia Beach', 'Guangzhou',\n",
       "       'Manchester', 'Kharkiv', 'Philadelphia', 'Vantaa', 'Oslo',\n",
       "       'Novosibirsk', 'Columbia', 'Belfast', 'Oakland', 'Izmir',\n",
       "       'Cabo San Lucas', 'Daegu', 'Dallas', 'Phoenix', 'Bristol',\n",
       "       'Venice', 'Quebec', 'Shizuoka', 'Kyoto', 'Antwerp', 'Ibaraki',\n",
       "       'Barcelona', 'Delhi', 'Beijing', 'Turin', 'Jakarta', 'Jeddah',\n",
       "       'Valencia', 'Anaheim', 'Gwangju', 'Lawrence', 'Austin',\n",
       "       'Burlington', 'Sacramento', 'Nantes', 'Fort Worth', 'Brasília',\n",
       "       'Cairo', 'Copenhagen', 'Odessa', 'Zagreb', 'Nizhny Novogorod',\n",
       "       'Houston', 'Nashville', 'Hobart', 'Medellín', 'Granada', 'Glasgow',\n",
       "       'Bangalore', 'Gold Coast', 'Wilmington', 'Bologna', 'Indianapolis',\n",
       "       'Nuremberg', 'Hiroshima', 'Lakewood', 'Chennai', 'Florence',\n",
       "       'Ghent', 'Taipei', 'Arlington', 'San Jose', 'Fresno', 'Busan',\n",
       "       'Lakeland', 'Rotterdam', 'Mannheim', 'Cali', 'Brescia', 'Bari',\n",
       "       'Regina', 'Surabaya', 'Newcastle', 'Hyderabad', 'Doha', 'Palermo',\n",
       "       'Donetsk', 'Lancaster', 'Espoo', 'Catania', 'Tianjin', 'Bursa',\n",
       "       'Buffalo', 'Limerick', 'Quezon City', 'Perth', 'Marseille',\n",
       "       'San Antonio', 'Cleveland', 'Charlotte', 'Tucson', 'Ljubljana',\n",
       "       'Tulsa', 'Winnipeg', 'Thessaloniki', 'Denver', 'Victoria',\n",
       "       'Alexandria', 'Las Vegas', 'Minneapolis', 'Omaha', 'Bandung',\n",
       "       'Franklin', 'Reykjavík', 'Tallahassee', 'Suzhou', 'Chengdu',\n",
       "       'Everett', 'Clinton', 'Memphis'], dtype=object)"
      ]
     },
     "execution_count": 202,
     "metadata": {},
     "output_type": "execute_result"
    }
   ],
   "source": [
    "df['City'].unique()"
   ]
  },
  {
   "cell_type": "code",
   "execution_count": 203,
   "metadata": {},
   "outputs": [
    {
     "data": {
      "text/plain": [
       "array(['EMEA', 'AMER', 'APJ'], dtype=object)"
      ]
     },
     "execution_count": 203,
     "metadata": {},
     "output_type": "execute_result"
    }
   ],
   "source": [
    "df['Region'].unique()"
   ]
  },
  {
   "cell_type": "code",
   "execution_count": 204,
   "metadata": {},
   "outputs": [
    {
     "data": {
      "text/plain": [
       "array(['UKIR', 'NAMER', 'EU-WEST', 'NOR', 'JAPN', 'EU', 'MEA', 'LATAM',\n",
       "       'ANZ', 'APAC', 'IND', 'EU-EAST'], dtype=object)"
      ]
     },
     "execution_count": 204,
     "metadata": {},
     "output_type": "execute_result"
    }
   ],
   "source": [
    "df['Subregion'].unique()"
   ]
  },
  {
   "cell_type": "code",
   "execution_count": 205,
   "metadata": {},
   "outputs": [
    {
     "data": {
      "text/plain": [
       "array(['Chevron', 'Phillips 66', 'Royal Dutch Shell', 'BNP Paribas',\n",
       "       'Engie', 'Microsoft', 'Pfizer', 'Toyota Motor', 'Home Depot',\n",
       "       'Wells Fargo', 'Carrefour', 'Costco Wholesale', 'McKesson',\n",
       "       'Siemens', 'Intel', 'Glencore', 'Procter & Gamble',\n",
       "       'Banco Santander', 'Pemex', 'Samsung Electronics', 'Sony',\n",
       "       'Morgan Stanley', 'Bank of America Corp.', 'Tesco', 'Aviva',\n",
       "       'Mondelez International', 'Abbott Laboratories', 'Fannie Mae',\n",
       "       'Aetna', 'Oracle', 'Nissan Motor', 'Tyson Foods',\n",
       "       'Verizon Communications', 'Itochu', 'Daimler', 'Walgreens',\n",
       "       'Boeing', 'Valero Energy', 'Nestle', 'Philip Morris International',\n",
       "       'Trafigura Group', 'Walmart', 'Cisco Systems',\n",
       "       'Prudential Financial', 'Amazon', 'Gazprom', 'FedEx',\n",
       "       'Honda Motor', 'CVS Health', 'General Motors',\n",
       "       'State Farm Insurance Cos.', 'Comcast', 'AmerisourceBergen',\n",
       "       'Johnson & Johnson', 'HonHai Precision Industry',\n",
       "       'American Express', 'J.P. Morgan Chase & Co.', 'Kroger',\n",
       "       'Volkswagen', 'Merck', 'AT&T', 'Allstate', 'BMW', 'Humana',\n",
       "       'Sprint Nextel', 'Allianz', 'United Parcel Service', 'Target',\n",
       "       'Airbus', 'Cigna', 'Goldman Sachs Group', 'Lowes', 'Ford Motor',\n",
       "       'Apple', 'China National Petroleum', 'ConocoPhillips', 'Bosch',\n",
       "       'HSBC Holdings', 'Enel', 'Sysco', 'Marathon Petroleum',\n",
       "       'UnitedHealth Group', 'Mitsubishi', 'Exxon Mobil', 'Anthem',\n",
       "       'Petrobras', 'Lukoil', 'Coca-Cola', 'PepsiCo', 'General Electric',\n",
       "       'Berkshire Hathaway', 'Walt Disney', 'Alphabet', 'Huawei',\n",
       "       'News Corp.', 'Caterpillar', 'Citigroup', 'Panasonic', 'Safeway'],\n",
       "      dtype=object)"
      ]
     },
     "execution_count": 205,
     "metadata": {},
     "output_type": "execute_result"
    }
   ],
   "source": [
    "df['Customer'].unique()"
   ]
  },
  {
   "cell_type": "code",
   "execution_count": 206,
   "metadata": {},
   "outputs": [
    {
     "data": {
      "text/plain": [
       "array(['Energy', 'Finance', 'Tech', 'Healthcare', 'Manufacturing',\n",
       "       'Retail', 'Consumer Products', 'Misc', 'Transportation',\n",
       "       'Communications'], dtype=object)"
      ]
     },
     "execution_count": 206,
     "metadata": {},
     "output_type": "execute_result"
    }
   ],
   "source": [
    "df['Industry'].unique()"
   ]
  },
  {
   "cell_type": "code",
   "execution_count": 207,
   "metadata": {},
   "outputs": [
    {
     "data": {
      "text/plain": [
       "array(['SMB', 'Strategic', 'Enterprise'], dtype=object)"
      ]
     },
     "execution_count": 207,
     "metadata": {},
     "output_type": "execute_result"
    }
   ],
   "source": [
    "df['Segment'].unique()"
   ]
  },
  {
   "cell_type": "code",
   "execution_count": 208,
   "metadata": {},
   "outputs": [
    {
     "data": {
      "text/plain": [
       "array(['Marketing Suite', 'FinanceHub', 'ContactMatcher',\n",
       "       'Marketing Suite - Gold', 'SaaS Connector Pack', 'ChatBot Plugin',\n",
       "       'Site Analytics', 'OneView', 'Support', 'Data Smasher',\n",
       "       'SaaS Connector Pack - Gold', 'Storage', 'Big Ol Database',\n",
       "       'Alchemy'], dtype=object)"
      ]
     },
     "execution_count": 208,
     "metadata": {},
     "output_type": "execute_result"
    }
   ],
   "source": [
    "df['Product'].unique()"
   ]
  },
  {
   "cell_type": "code",
   "execution_count": 209,
   "metadata": {},
   "outputs": [
    {
     "data": {
      "text/plain": [
       "array(['16GRM07R1K', 'QLIW57KZUV', 'JI6BVL70HQ', ..., 'I5SVMI6M88',\n",
       "       'JHLW4P6LQ2', '3NTBV9B3PS'], dtype=object)"
      ]
     },
     "execution_count": 209,
     "metadata": {},
     "output_type": "execute_result"
    }
   ],
   "source": [
    "df['License'].unique()"
   ]
  },
  {
   "cell_type": "markdown",
   "metadata": {},
   "source": [
    "# CHECKING DATA TYPES\n",
    "We are looking of the type of the data.  We can use the `type()` function to check the data type of a variable.\n"
   ]
  },
  {
   "cell_type": "code",
   "execution_count": 210,
   "metadata": {},
   "outputs": [
    {
     "data": {
      "text/html": [
       "<div>\n",
       "<style scoped>\n",
       "    .dataframe tbody tr th:only-of-type {\n",
       "        vertical-align: middle;\n",
       "    }\n",
       "\n",
       "    .dataframe tbody tr th {\n",
       "        vertical-align: top;\n",
       "    }\n",
       "\n",
       "    .dataframe thead th {\n",
       "        text-align: right;\n",
       "    }\n",
       "</style>\n",
       "<table border=\"1\" class=\"dataframe\">\n",
       "  <thead>\n",
       "    <tr style=\"text-align: right;\">\n",
       "      <th></th>\n",
       "      <th>Row ID</th>\n",
       "      <th>Order ID</th>\n",
       "      <th>Order Date</th>\n",
       "      <th>Date Key</th>\n",
       "      <th>Contact Name</th>\n",
       "      <th>Country</th>\n",
       "      <th>City</th>\n",
       "      <th>Region</th>\n",
       "      <th>Subregion</th>\n",
       "      <th>Customer</th>\n",
       "      <th>Customer ID</th>\n",
       "      <th>Industry</th>\n",
       "      <th>Segment</th>\n",
       "      <th>Product</th>\n",
       "      <th>License</th>\n",
       "      <th>Sales</th>\n",
       "      <th>Quantity</th>\n",
       "      <th>Discount</th>\n",
       "      <th>Profit</th>\n",
       "    </tr>\n",
       "  </thead>\n",
       "  <tbody>\n",
       "    <tr>\n",
       "      <th>0</th>\n",
       "      <td>1</td>\n",
       "      <td>EMEA-2022-152156</td>\n",
       "      <td>11/9/2022</td>\n",
       "      <td>20221109</td>\n",
       "      <td>Nathan Bell</td>\n",
       "      <td>Ireland</td>\n",
       "      <td>Dublin</td>\n",
       "      <td>EMEA</td>\n",
       "      <td>UKIR</td>\n",
       "      <td>Chevron</td>\n",
       "      <td>1017</td>\n",
       "      <td>Energy</td>\n",
       "      <td>SMB</td>\n",
       "      <td>Marketing Suite</td>\n",
       "      <td>16GRM07R1K</td>\n",
       "      <td>261.9600</td>\n",
       "      <td>2</td>\n",
       "      <td>0.00</td>\n",
       "      <td>41.9136</td>\n",
       "    </tr>\n",
       "    <tr>\n",
       "      <th>1</th>\n",
       "      <td>2</td>\n",
       "      <td>EMEA-2022-152156</td>\n",
       "      <td>11/9/2022</td>\n",
       "      <td>20221109</td>\n",
       "      <td>Nathan Bell</td>\n",
       "      <td>Ireland</td>\n",
       "      <td>Dublin</td>\n",
       "      <td>EMEA</td>\n",
       "      <td>UKIR</td>\n",
       "      <td>Chevron</td>\n",
       "      <td>1017</td>\n",
       "      <td>Energy</td>\n",
       "      <td>SMB</td>\n",
       "      <td>FinanceHub</td>\n",
       "      <td>QLIW57KZUV</td>\n",
       "      <td>731.9400</td>\n",
       "      <td>3</td>\n",
       "      <td>0.00</td>\n",
       "      <td>219.5820</td>\n",
       "    </tr>\n",
       "    <tr>\n",
       "      <th>2</th>\n",
       "      <td>3</td>\n",
       "      <td>AMER-2022-138688</td>\n",
       "      <td>6/13/2022</td>\n",
       "      <td>20220613</td>\n",
       "      <td>Deirdre Bailey</td>\n",
       "      <td>United States</td>\n",
       "      <td>New York City</td>\n",
       "      <td>AMER</td>\n",
       "      <td>NAMER</td>\n",
       "      <td>Phillips 66</td>\n",
       "      <td>1056</td>\n",
       "      <td>Energy</td>\n",
       "      <td>Strategic</td>\n",
       "      <td>FinanceHub</td>\n",
       "      <td>JI6BVL70HQ</td>\n",
       "      <td>14.6200</td>\n",
       "      <td>2</td>\n",
       "      <td>0.00</td>\n",
       "      <td>6.8714</td>\n",
       "    </tr>\n",
       "    <tr>\n",
       "      <th>3</th>\n",
       "      <td>4</td>\n",
       "      <td>EMEA-2021-108966</td>\n",
       "      <td>10/11/2021</td>\n",
       "      <td>20211011</td>\n",
       "      <td>Zoe Hodges</td>\n",
       "      <td>Germany</td>\n",
       "      <td>Stuttgart</td>\n",
       "      <td>EMEA</td>\n",
       "      <td>EU-WEST</td>\n",
       "      <td>Royal Dutch Shell</td>\n",
       "      <td>1031</td>\n",
       "      <td>Energy</td>\n",
       "      <td>SMB</td>\n",
       "      <td>ContactMatcher</td>\n",
       "      <td>DE9GJKGD44</td>\n",
       "      <td>957.5775</td>\n",
       "      <td>5</td>\n",
       "      <td>0.45</td>\n",
       "      <td>-383.0310</td>\n",
       "    </tr>\n",
       "    <tr>\n",
       "      <th>4</th>\n",
       "      <td>5</td>\n",
       "      <td>EMEA-2021-108966</td>\n",
       "      <td>10/11/2021</td>\n",
       "      <td>20211011</td>\n",
       "      <td>Zoe Hodges</td>\n",
       "      <td>Germany</td>\n",
       "      <td>Stuttgart</td>\n",
       "      <td>EMEA</td>\n",
       "      <td>EU-WEST</td>\n",
       "      <td>Royal Dutch Shell</td>\n",
       "      <td>1031</td>\n",
       "      <td>Energy</td>\n",
       "      <td>SMB</td>\n",
       "      <td>Marketing Suite - Gold</td>\n",
       "      <td>OIF7NY23WD</td>\n",
       "      <td>22.3680</td>\n",
       "      <td>2</td>\n",
       "      <td>0.20</td>\n",
       "      <td>2.5164</td>\n",
       "    </tr>\n",
       "    <tr>\n",
       "      <th>...</th>\n",
       "      <td>...</td>\n",
       "      <td>...</td>\n",
       "      <td>...</td>\n",
       "      <td>...</td>\n",
       "      <td>...</td>\n",
       "      <td>...</td>\n",
       "      <td>...</td>\n",
       "      <td>...</td>\n",
       "      <td>...</td>\n",
       "      <td>...</td>\n",
       "      <td>...</td>\n",
       "      <td>...</td>\n",
       "      <td>...</td>\n",
       "      <td>...</td>\n",
       "      <td>...</td>\n",
       "      <td>...</td>\n",
       "      <td>...</td>\n",
       "      <td>...</td>\n",
       "      <td>...</td>\n",
       "    </tr>\n",
       "    <tr>\n",
       "      <th>9989</th>\n",
       "      <td>9990</td>\n",
       "      <td>EMEA-2020-110422</td>\n",
       "      <td>1/22/2020</td>\n",
       "      <td>20200122</td>\n",
       "      <td>Dan Allan</td>\n",
       "      <td>Germany</td>\n",
       "      <td>Hamburg</td>\n",
       "      <td>EMEA</td>\n",
       "      <td>EU-WEST</td>\n",
       "      <td>Johnson &amp; Johnson</td>\n",
       "      <td>1055</td>\n",
       "      <td>Healthcare</td>\n",
       "      <td>SMB</td>\n",
       "      <td>SaaS Connector Pack</td>\n",
       "      <td>ETHXMB5TMD</td>\n",
       "      <td>25.2480</td>\n",
       "      <td>3</td>\n",
       "      <td>0.20</td>\n",
       "      <td>4.1028</td>\n",
       "    </tr>\n",
       "    <tr>\n",
       "      <th>9990</th>\n",
       "      <td>9991</td>\n",
       "      <td>AMER-2023-121258</td>\n",
       "      <td>2/27/2023</td>\n",
       "      <td>20230227</td>\n",
       "      <td>Anthony Sanderson</td>\n",
       "      <td>United States</td>\n",
       "      <td>Milwaukee</td>\n",
       "      <td>AMER</td>\n",
       "      <td>NAMER</td>\n",
       "      <td>American Express</td>\n",
       "      <td>1005</td>\n",
       "      <td>Finance</td>\n",
       "      <td>SMB</td>\n",
       "      <td>SaaS Connector Pack</td>\n",
       "      <td>LYHOKTRY7L</td>\n",
       "      <td>91.9600</td>\n",
       "      <td>2</td>\n",
       "      <td>0.00</td>\n",
       "      <td>15.6332</td>\n",
       "    </tr>\n",
       "    <tr>\n",
       "      <th>9991</th>\n",
       "      <td>9992</td>\n",
       "      <td>AMER-2023-121258</td>\n",
       "      <td>2/27/2023</td>\n",
       "      <td>20230227</td>\n",
       "      <td>Anthony Sanderson</td>\n",
       "      <td>United States</td>\n",
       "      <td>Milwaukee</td>\n",
       "      <td>AMER</td>\n",
       "      <td>NAMER</td>\n",
       "      <td>American Express</td>\n",
       "      <td>1005</td>\n",
       "      <td>Finance</td>\n",
       "      <td>SMB</td>\n",
       "      <td>Site Analytics</td>\n",
       "      <td>I5SVMI6M88</td>\n",
       "      <td>258.5760</td>\n",
       "      <td>2</td>\n",
       "      <td>0.20</td>\n",
       "      <td>19.3932</td>\n",
       "    </tr>\n",
       "    <tr>\n",
       "      <th>9992</th>\n",
       "      <td>9993</td>\n",
       "      <td>AMER-2023-121258</td>\n",
       "      <td>2/27/2023</td>\n",
       "      <td>20230227</td>\n",
       "      <td>Anthony Sanderson</td>\n",
       "      <td>United States</td>\n",
       "      <td>Milwaukee</td>\n",
       "      <td>AMER</td>\n",
       "      <td>NAMER</td>\n",
       "      <td>American Express</td>\n",
       "      <td>1005</td>\n",
       "      <td>Finance</td>\n",
       "      <td>SMB</td>\n",
       "      <td>Support</td>\n",
       "      <td>JHLW4P6LQ2</td>\n",
       "      <td>29.6000</td>\n",
       "      <td>4</td>\n",
       "      <td>0.00</td>\n",
       "      <td>13.3200</td>\n",
       "    </tr>\n",
       "    <tr>\n",
       "      <th>9993</th>\n",
       "      <td>9994</td>\n",
       "      <td>AMER-2023-119914</td>\n",
       "      <td>5/5/2023</td>\n",
       "      <td>20230505</td>\n",
       "      <td>Jasmine Springer</td>\n",
       "      <td>United States</td>\n",
       "      <td>Dallas</td>\n",
       "      <td>AMER</td>\n",
       "      <td>NAMER</td>\n",
       "      <td>Comcast</td>\n",
       "      <td>1022</td>\n",
       "      <td>Communications</td>\n",
       "      <td>SMB</td>\n",
       "      <td>OneView</td>\n",
       "      <td>3NTBV9B3PS</td>\n",
       "      <td>243.1600</td>\n",
       "      <td>2</td>\n",
       "      <td>0.00</td>\n",
       "      <td>72.9480</td>\n",
       "    </tr>\n",
       "  </tbody>\n",
       "</table>\n",
       "<p>9994 rows × 19 columns</p>\n",
       "</div>"
      ],
      "text/plain": [
       "      Row ID          Order ID  Order Date  Date Key       Contact Name  \\\n",
       "0          1  EMEA-2022-152156   11/9/2022  20221109        Nathan Bell   \n",
       "1          2  EMEA-2022-152156   11/9/2022  20221109        Nathan Bell   \n",
       "2          3  AMER-2022-138688   6/13/2022  20220613     Deirdre Bailey   \n",
       "3          4  EMEA-2021-108966  10/11/2021  20211011         Zoe Hodges   \n",
       "4          5  EMEA-2021-108966  10/11/2021  20211011         Zoe Hodges   \n",
       "...      ...               ...         ...       ...                ...   \n",
       "9989    9990  EMEA-2020-110422   1/22/2020  20200122          Dan Allan   \n",
       "9990    9991  AMER-2023-121258   2/27/2023  20230227  Anthony Sanderson   \n",
       "9991    9992  AMER-2023-121258   2/27/2023  20230227  Anthony Sanderson   \n",
       "9992    9993  AMER-2023-121258   2/27/2023  20230227  Anthony Sanderson   \n",
       "9993    9994  AMER-2023-119914    5/5/2023  20230505   Jasmine Springer   \n",
       "\n",
       "            Country           City Region Subregion           Customer  \\\n",
       "0           Ireland         Dublin   EMEA      UKIR            Chevron   \n",
       "1           Ireland         Dublin   EMEA      UKIR            Chevron   \n",
       "2     United States  New York City   AMER     NAMER        Phillips 66   \n",
       "3           Germany      Stuttgart   EMEA   EU-WEST  Royal Dutch Shell   \n",
       "4           Germany      Stuttgart   EMEA   EU-WEST  Royal Dutch Shell   \n",
       "...             ...            ...    ...       ...                ...   \n",
       "9989        Germany        Hamburg   EMEA   EU-WEST  Johnson & Johnson   \n",
       "9990  United States      Milwaukee   AMER     NAMER   American Express   \n",
       "9991  United States      Milwaukee   AMER     NAMER   American Express   \n",
       "9992  United States      Milwaukee   AMER     NAMER   American Express   \n",
       "9993  United States         Dallas   AMER     NAMER            Comcast   \n",
       "\n",
       "      Customer ID        Industry    Segment                 Product  \\\n",
       "0            1017          Energy        SMB         Marketing Suite   \n",
       "1            1017          Energy        SMB              FinanceHub   \n",
       "2            1056          Energy  Strategic              FinanceHub   \n",
       "3            1031          Energy        SMB          ContactMatcher   \n",
       "4            1031          Energy        SMB  Marketing Suite - Gold   \n",
       "...           ...             ...        ...                     ...   \n",
       "9989         1055      Healthcare        SMB     SaaS Connector Pack   \n",
       "9990         1005         Finance        SMB     SaaS Connector Pack   \n",
       "9991         1005         Finance        SMB          Site Analytics   \n",
       "9992         1005         Finance        SMB                 Support   \n",
       "9993         1022  Communications        SMB                 OneView   \n",
       "\n",
       "         License     Sales  Quantity  Discount    Profit  \n",
       "0     16GRM07R1K  261.9600         2      0.00   41.9136  \n",
       "1     QLIW57KZUV  731.9400         3      0.00  219.5820  \n",
       "2     JI6BVL70HQ   14.6200         2      0.00    6.8714  \n",
       "3     DE9GJKGD44  957.5775         5      0.45 -383.0310  \n",
       "4     OIF7NY23WD   22.3680         2      0.20    2.5164  \n",
       "...          ...       ...       ...       ...       ...  \n",
       "9989  ETHXMB5TMD   25.2480         3      0.20    4.1028  \n",
       "9990  LYHOKTRY7L   91.9600         2      0.00   15.6332  \n",
       "9991  I5SVMI6M88  258.5760         2      0.20   19.3932  \n",
       "9992  JHLW4P6LQ2   29.6000         4      0.00   13.3200  \n",
       "9993  3NTBV9B3PS  243.1600         2      0.00   72.9480  \n",
       "\n",
       "[9994 rows x 19 columns]"
      ]
     },
     "execution_count": 210,
     "metadata": {},
     "output_type": "execute_result"
    }
   ],
   "source": [
    "df"
   ]
  },
  {
   "cell_type": "code",
   "execution_count": 211,
   "metadata": {},
   "outputs": [
    {
     "name": "stdout",
     "output_type": "stream",
     "text": [
      "<class 'pandas.core.frame.DataFrame'>\n",
      "RangeIndex: 9994 entries, 0 to 9993\n",
      "Data columns (total 19 columns):\n",
      " #   Column        Non-Null Count  Dtype  \n",
      "---  ------        --------------  -----  \n",
      " 0   Row ID        9994 non-null   int64  \n",
      " 1   Order ID      9994 non-null   object \n",
      " 2   Order Date    9994 non-null   object \n",
      " 3   Date Key      9994 non-null   int64  \n",
      " 4   Contact Name  9994 non-null   object \n",
      " 5   Country       9994 non-null   object \n",
      " 6   City          9994 non-null   object \n",
      " 7   Region        9994 non-null   object \n",
      " 8   Subregion     9994 non-null   object \n",
      " 9   Customer      9994 non-null   object \n",
      " 10  Customer ID   9994 non-null   int64  \n",
      " 11  Industry      9994 non-null   object \n",
      " 12  Segment       9994 non-null   object \n",
      " 13  Product       9994 non-null   object \n",
      " 14  License       9994 non-null   object \n",
      " 15  Sales         9994 non-null   float64\n",
      " 16  Quantity      9994 non-null   int64  \n",
      " 17  Discount      9994 non-null   float64\n",
      " 18  Profit        9994 non-null   float64\n",
      "dtypes: float64(3), int64(4), object(12)\n",
      "memory usage: 1.4+ MB\n"
     ]
    }
   ],
   "source": [
    "df.info()"
   ]
  },
  {
   "cell_type": "code",
   "execution_count": 212,
   "metadata": {},
   "outputs": [
    {
     "data": {
      "text/html": [
       "<div>\n",
       "<style scoped>\n",
       "    .dataframe tbody tr th:only-of-type {\n",
       "        vertical-align: middle;\n",
       "    }\n",
       "\n",
       "    .dataframe tbody tr th {\n",
       "        vertical-align: top;\n",
       "    }\n",
       "\n",
       "    .dataframe thead th {\n",
       "        text-align: right;\n",
       "    }\n",
       "</style>\n",
       "<table border=\"1\" class=\"dataframe\">\n",
       "  <thead>\n",
       "    <tr style=\"text-align: right;\">\n",
       "      <th></th>\n",
       "      <th>Row ID</th>\n",
       "      <th>Order ID</th>\n",
       "      <th>Order Date</th>\n",
       "      <th>Date Key</th>\n",
       "      <th>Contact Name</th>\n",
       "      <th>Country</th>\n",
       "      <th>City</th>\n",
       "      <th>Region</th>\n",
       "      <th>Subregion</th>\n",
       "      <th>Customer</th>\n",
       "      <th>Customer ID</th>\n",
       "      <th>Industry</th>\n",
       "      <th>Segment</th>\n",
       "      <th>Product</th>\n",
       "      <th>License</th>\n",
       "      <th>Sales</th>\n",
       "      <th>Quantity</th>\n",
       "      <th>Discount</th>\n",
       "      <th>Profit</th>\n",
       "    </tr>\n",
       "  </thead>\n",
       "  <tbody>\n",
       "    <tr>\n",
       "      <th>0</th>\n",
       "      <td>1</td>\n",
       "      <td>EMEA-2022-152156</td>\n",
       "      <td>11/9/2022</td>\n",
       "      <td>20221109</td>\n",
       "      <td>Nathan Bell</td>\n",
       "      <td>Ireland</td>\n",
       "      <td>Dublin</td>\n",
       "      <td>EMEA</td>\n",
       "      <td>UKIR</td>\n",
       "      <td>Chevron</td>\n",
       "      <td>1017</td>\n",
       "      <td>Energy</td>\n",
       "      <td>SMB</td>\n",
       "      <td>Marketing Suite</td>\n",
       "      <td>16GRM07R1K</td>\n",
       "      <td>261.9600</td>\n",
       "      <td>2</td>\n",
       "      <td>0.00</td>\n",
       "      <td>41.9136</td>\n",
       "    </tr>\n",
       "    <tr>\n",
       "      <th>1</th>\n",
       "      <td>2</td>\n",
       "      <td>EMEA-2022-152156</td>\n",
       "      <td>11/9/2022</td>\n",
       "      <td>20221109</td>\n",
       "      <td>Nathan Bell</td>\n",
       "      <td>Ireland</td>\n",
       "      <td>Dublin</td>\n",
       "      <td>EMEA</td>\n",
       "      <td>UKIR</td>\n",
       "      <td>Chevron</td>\n",
       "      <td>1017</td>\n",
       "      <td>Energy</td>\n",
       "      <td>SMB</td>\n",
       "      <td>FinanceHub</td>\n",
       "      <td>QLIW57KZUV</td>\n",
       "      <td>731.9400</td>\n",
       "      <td>3</td>\n",
       "      <td>0.00</td>\n",
       "      <td>219.5820</td>\n",
       "    </tr>\n",
       "    <tr>\n",
       "      <th>2</th>\n",
       "      <td>3</td>\n",
       "      <td>AMER-2022-138688</td>\n",
       "      <td>6/13/2022</td>\n",
       "      <td>20220613</td>\n",
       "      <td>Deirdre Bailey</td>\n",
       "      <td>United States</td>\n",
       "      <td>New York City</td>\n",
       "      <td>AMER</td>\n",
       "      <td>NAMER</td>\n",
       "      <td>Phillips 66</td>\n",
       "      <td>1056</td>\n",
       "      <td>Energy</td>\n",
       "      <td>Strategic</td>\n",
       "      <td>FinanceHub</td>\n",
       "      <td>JI6BVL70HQ</td>\n",
       "      <td>14.6200</td>\n",
       "      <td>2</td>\n",
       "      <td>0.00</td>\n",
       "      <td>6.8714</td>\n",
       "    </tr>\n",
       "    <tr>\n",
       "      <th>3</th>\n",
       "      <td>4</td>\n",
       "      <td>EMEA-2021-108966</td>\n",
       "      <td>10/11/2021</td>\n",
       "      <td>20211011</td>\n",
       "      <td>Zoe Hodges</td>\n",
       "      <td>Germany</td>\n",
       "      <td>Stuttgart</td>\n",
       "      <td>EMEA</td>\n",
       "      <td>EU-WEST</td>\n",
       "      <td>Royal Dutch Shell</td>\n",
       "      <td>1031</td>\n",
       "      <td>Energy</td>\n",
       "      <td>SMB</td>\n",
       "      <td>ContactMatcher</td>\n",
       "      <td>DE9GJKGD44</td>\n",
       "      <td>957.5775</td>\n",
       "      <td>5</td>\n",
       "      <td>0.45</td>\n",
       "      <td>-383.0310</td>\n",
       "    </tr>\n",
       "    <tr>\n",
       "      <th>4</th>\n",
       "      <td>5</td>\n",
       "      <td>EMEA-2021-108966</td>\n",
       "      <td>10/11/2021</td>\n",
       "      <td>20211011</td>\n",
       "      <td>Zoe Hodges</td>\n",
       "      <td>Germany</td>\n",
       "      <td>Stuttgart</td>\n",
       "      <td>EMEA</td>\n",
       "      <td>EU-WEST</td>\n",
       "      <td>Royal Dutch Shell</td>\n",
       "      <td>1031</td>\n",
       "      <td>Energy</td>\n",
       "      <td>SMB</td>\n",
       "      <td>Marketing Suite - Gold</td>\n",
       "      <td>OIF7NY23WD</td>\n",
       "      <td>22.3680</td>\n",
       "      <td>2</td>\n",
       "      <td>0.20</td>\n",
       "      <td>2.5164</td>\n",
       "    </tr>\n",
       "    <tr>\n",
       "      <th>...</th>\n",
       "      <td>...</td>\n",
       "      <td>...</td>\n",
       "      <td>...</td>\n",
       "      <td>...</td>\n",
       "      <td>...</td>\n",
       "      <td>...</td>\n",
       "      <td>...</td>\n",
       "      <td>...</td>\n",
       "      <td>...</td>\n",
       "      <td>...</td>\n",
       "      <td>...</td>\n",
       "      <td>...</td>\n",
       "      <td>...</td>\n",
       "      <td>...</td>\n",
       "      <td>...</td>\n",
       "      <td>...</td>\n",
       "      <td>...</td>\n",
       "      <td>...</td>\n",
       "      <td>...</td>\n",
       "    </tr>\n",
       "    <tr>\n",
       "      <th>9989</th>\n",
       "      <td>9990</td>\n",
       "      <td>EMEA-2020-110422</td>\n",
       "      <td>1/22/2020</td>\n",
       "      <td>20200122</td>\n",
       "      <td>Dan Allan</td>\n",
       "      <td>Germany</td>\n",
       "      <td>Hamburg</td>\n",
       "      <td>EMEA</td>\n",
       "      <td>EU-WEST</td>\n",
       "      <td>Johnson &amp; Johnson</td>\n",
       "      <td>1055</td>\n",
       "      <td>Healthcare</td>\n",
       "      <td>SMB</td>\n",
       "      <td>SaaS Connector Pack</td>\n",
       "      <td>ETHXMB5TMD</td>\n",
       "      <td>25.2480</td>\n",
       "      <td>3</td>\n",
       "      <td>0.20</td>\n",
       "      <td>4.1028</td>\n",
       "    </tr>\n",
       "    <tr>\n",
       "      <th>9990</th>\n",
       "      <td>9991</td>\n",
       "      <td>AMER-2023-121258</td>\n",
       "      <td>2/27/2023</td>\n",
       "      <td>20230227</td>\n",
       "      <td>Anthony Sanderson</td>\n",
       "      <td>United States</td>\n",
       "      <td>Milwaukee</td>\n",
       "      <td>AMER</td>\n",
       "      <td>NAMER</td>\n",
       "      <td>American Express</td>\n",
       "      <td>1005</td>\n",
       "      <td>Finance</td>\n",
       "      <td>SMB</td>\n",
       "      <td>SaaS Connector Pack</td>\n",
       "      <td>LYHOKTRY7L</td>\n",
       "      <td>91.9600</td>\n",
       "      <td>2</td>\n",
       "      <td>0.00</td>\n",
       "      <td>15.6332</td>\n",
       "    </tr>\n",
       "    <tr>\n",
       "      <th>9991</th>\n",
       "      <td>9992</td>\n",
       "      <td>AMER-2023-121258</td>\n",
       "      <td>2/27/2023</td>\n",
       "      <td>20230227</td>\n",
       "      <td>Anthony Sanderson</td>\n",
       "      <td>United States</td>\n",
       "      <td>Milwaukee</td>\n",
       "      <td>AMER</td>\n",
       "      <td>NAMER</td>\n",
       "      <td>American Express</td>\n",
       "      <td>1005</td>\n",
       "      <td>Finance</td>\n",
       "      <td>SMB</td>\n",
       "      <td>Site Analytics</td>\n",
       "      <td>I5SVMI6M88</td>\n",
       "      <td>258.5760</td>\n",
       "      <td>2</td>\n",
       "      <td>0.20</td>\n",
       "      <td>19.3932</td>\n",
       "    </tr>\n",
       "    <tr>\n",
       "      <th>9992</th>\n",
       "      <td>9993</td>\n",
       "      <td>AMER-2023-121258</td>\n",
       "      <td>2/27/2023</td>\n",
       "      <td>20230227</td>\n",
       "      <td>Anthony Sanderson</td>\n",
       "      <td>United States</td>\n",
       "      <td>Milwaukee</td>\n",
       "      <td>AMER</td>\n",
       "      <td>NAMER</td>\n",
       "      <td>American Express</td>\n",
       "      <td>1005</td>\n",
       "      <td>Finance</td>\n",
       "      <td>SMB</td>\n",
       "      <td>Support</td>\n",
       "      <td>JHLW4P6LQ2</td>\n",
       "      <td>29.6000</td>\n",
       "      <td>4</td>\n",
       "      <td>0.00</td>\n",
       "      <td>13.3200</td>\n",
       "    </tr>\n",
       "    <tr>\n",
       "      <th>9993</th>\n",
       "      <td>9994</td>\n",
       "      <td>AMER-2023-119914</td>\n",
       "      <td>5/5/2023</td>\n",
       "      <td>20230505</td>\n",
       "      <td>Jasmine Springer</td>\n",
       "      <td>United States</td>\n",
       "      <td>Dallas</td>\n",
       "      <td>AMER</td>\n",
       "      <td>NAMER</td>\n",
       "      <td>Comcast</td>\n",
       "      <td>1022</td>\n",
       "      <td>Communications</td>\n",
       "      <td>SMB</td>\n",
       "      <td>OneView</td>\n",
       "      <td>3NTBV9B3PS</td>\n",
       "      <td>243.1600</td>\n",
       "      <td>2</td>\n",
       "      <td>0.00</td>\n",
       "      <td>72.9480</td>\n",
       "    </tr>\n",
       "  </tbody>\n",
       "</table>\n",
       "<p>9994 rows × 19 columns</p>\n",
       "</div>"
      ],
      "text/plain": [
       "      Row ID          Order ID  Order Date  Date Key       Contact Name  \\\n",
       "0          1  EMEA-2022-152156   11/9/2022  20221109        Nathan Bell   \n",
       "1          2  EMEA-2022-152156   11/9/2022  20221109        Nathan Bell   \n",
       "2          3  AMER-2022-138688   6/13/2022  20220613     Deirdre Bailey   \n",
       "3          4  EMEA-2021-108966  10/11/2021  20211011         Zoe Hodges   \n",
       "4          5  EMEA-2021-108966  10/11/2021  20211011         Zoe Hodges   \n",
       "...      ...               ...         ...       ...                ...   \n",
       "9989    9990  EMEA-2020-110422   1/22/2020  20200122          Dan Allan   \n",
       "9990    9991  AMER-2023-121258   2/27/2023  20230227  Anthony Sanderson   \n",
       "9991    9992  AMER-2023-121258   2/27/2023  20230227  Anthony Sanderson   \n",
       "9992    9993  AMER-2023-121258   2/27/2023  20230227  Anthony Sanderson   \n",
       "9993    9994  AMER-2023-119914    5/5/2023  20230505   Jasmine Springer   \n",
       "\n",
       "            Country           City Region Subregion           Customer  \\\n",
       "0           Ireland         Dublin   EMEA      UKIR            Chevron   \n",
       "1           Ireland         Dublin   EMEA      UKIR            Chevron   \n",
       "2     United States  New York City   AMER     NAMER        Phillips 66   \n",
       "3           Germany      Stuttgart   EMEA   EU-WEST  Royal Dutch Shell   \n",
       "4           Germany      Stuttgart   EMEA   EU-WEST  Royal Dutch Shell   \n",
       "...             ...            ...    ...       ...                ...   \n",
       "9989        Germany        Hamburg   EMEA   EU-WEST  Johnson & Johnson   \n",
       "9990  United States      Milwaukee   AMER     NAMER   American Express   \n",
       "9991  United States      Milwaukee   AMER     NAMER   American Express   \n",
       "9992  United States      Milwaukee   AMER     NAMER   American Express   \n",
       "9993  United States         Dallas   AMER     NAMER            Comcast   \n",
       "\n",
       "      Customer ID        Industry    Segment                 Product  \\\n",
       "0            1017          Energy        SMB         Marketing Suite   \n",
       "1            1017          Energy        SMB              FinanceHub   \n",
       "2            1056          Energy  Strategic              FinanceHub   \n",
       "3            1031          Energy        SMB          ContactMatcher   \n",
       "4            1031          Energy        SMB  Marketing Suite - Gold   \n",
       "...           ...             ...        ...                     ...   \n",
       "9989         1055      Healthcare        SMB     SaaS Connector Pack   \n",
       "9990         1005         Finance        SMB     SaaS Connector Pack   \n",
       "9991         1005         Finance        SMB          Site Analytics   \n",
       "9992         1005         Finance        SMB                 Support   \n",
       "9993         1022  Communications        SMB                 OneView   \n",
       "\n",
       "         License     Sales  Quantity  Discount    Profit  \n",
       "0     16GRM07R1K  261.9600         2      0.00   41.9136  \n",
       "1     QLIW57KZUV  731.9400         3      0.00  219.5820  \n",
       "2     JI6BVL70HQ   14.6200         2      0.00    6.8714  \n",
       "3     DE9GJKGD44  957.5775         5      0.45 -383.0310  \n",
       "4     OIF7NY23WD   22.3680         2      0.20    2.5164  \n",
       "...          ...       ...       ...       ...       ...  \n",
       "9989  ETHXMB5TMD   25.2480         3      0.20    4.1028  \n",
       "9990  LYHOKTRY7L   91.9600         2      0.00   15.6332  \n",
       "9991  I5SVMI6M88  258.5760         2      0.20   19.3932  \n",
       "9992  JHLW4P6LQ2   29.6000         4      0.00   13.3200  \n",
       "9993  3NTBV9B3PS  243.1600         2      0.00   72.9480  \n",
       "\n",
       "[9994 rows x 19 columns]"
      ]
     },
     "execution_count": 212,
     "metadata": {},
     "output_type": "execute_result"
    }
   ],
   "source": [
    "df"
   ]
  },
  {
   "cell_type": "code",
   "execution_count": 213,
   "metadata": {},
   "outputs": [
    {
     "data": {
      "text/html": [
       "<div>\n",
       "<style scoped>\n",
       "    .dataframe tbody tr th:only-of-type {\n",
       "        vertical-align: middle;\n",
       "    }\n",
       "\n",
       "    .dataframe tbody tr th {\n",
       "        vertical-align: top;\n",
       "    }\n",
       "\n",
       "    .dataframe thead th {\n",
       "        text-align: right;\n",
       "    }\n",
       "</style>\n",
       "<table border=\"1\" class=\"dataframe\">\n",
       "  <thead>\n",
       "    <tr style=\"text-align: right;\">\n",
       "      <th></th>\n",
       "      <th>Row ID</th>\n",
       "      <th>Order ID</th>\n",
       "      <th>Order Date</th>\n",
       "      <th>Date Key</th>\n",
       "      <th>Contact Name</th>\n",
       "      <th>Country</th>\n",
       "      <th>City</th>\n",
       "      <th>Region</th>\n",
       "      <th>Subregion</th>\n",
       "      <th>Customer</th>\n",
       "      <th>Customer ID</th>\n",
       "      <th>Industry</th>\n",
       "      <th>Segment</th>\n",
       "      <th>Product</th>\n",
       "      <th>License</th>\n",
       "      <th>Sales</th>\n",
       "      <th>Quantity</th>\n",
       "      <th>Discount</th>\n",
       "      <th>Profit</th>\n",
       "    </tr>\n",
       "  </thead>\n",
       "  <tbody>\n",
       "    <tr>\n",
       "      <th>0</th>\n",
       "      <td>1</td>\n",
       "      <td>EMEA-2022-152156</td>\n",
       "      <td>11/9/2022</td>\n",
       "      <td>20221109</td>\n",
       "      <td>Nathan Bell</td>\n",
       "      <td>Ireland</td>\n",
       "      <td>Dublin</td>\n",
       "      <td>EMEA</td>\n",
       "      <td>UKIR</td>\n",
       "      <td>Chevron</td>\n",
       "      <td>1017</td>\n",
       "      <td>Energy</td>\n",
       "      <td>SMB</td>\n",
       "      <td>Marketing Suite</td>\n",
       "      <td>16GRM07R1K</td>\n",
       "      <td>261.9600</td>\n",
       "      <td>2</td>\n",
       "      <td>0.00</td>\n",
       "      <td>41.9136</td>\n",
       "    </tr>\n",
       "    <tr>\n",
       "      <th>1</th>\n",
       "      <td>2</td>\n",
       "      <td>EMEA-2022-152156</td>\n",
       "      <td>11/9/2022</td>\n",
       "      <td>20221109</td>\n",
       "      <td>Nathan Bell</td>\n",
       "      <td>Ireland</td>\n",
       "      <td>Dublin</td>\n",
       "      <td>EMEA</td>\n",
       "      <td>UKIR</td>\n",
       "      <td>Chevron</td>\n",
       "      <td>1017</td>\n",
       "      <td>Energy</td>\n",
       "      <td>SMB</td>\n",
       "      <td>FinanceHub</td>\n",
       "      <td>QLIW57KZUV</td>\n",
       "      <td>731.9400</td>\n",
       "      <td>3</td>\n",
       "      <td>0.00</td>\n",
       "      <td>219.5820</td>\n",
       "    </tr>\n",
       "    <tr>\n",
       "      <th>2</th>\n",
       "      <td>3</td>\n",
       "      <td>AMER-2022-138688</td>\n",
       "      <td>6/13/2022</td>\n",
       "      <td>20220613</td>\n",
       "      <td>Deirdre Bailey</td>\n",
       "      <td>United States</td>\n",
       "      <td>New York City</td>\n",
       "      <td>AMER</td>\n",
       "      <td>NAMER</td>\n",
       "      <td>Phillips 66</td>\n",
       "      <td>1056</td>\n",
       "      <td>Energy</td>\n",
       "      <td>Strategic</td>\n",
       "      <td>FinanceHub</td>\n",
       "      <td>JI6BVL70HQ</td>\n",
       "      <td>14.6200</td>\n",
       "      <td>2</td>\n",
       "      <td>0.00</td>\n",
       "      <td>6.8714</td>\n",
       "    </tr>\n",
       "    <tr>\n",
       "      <th>3</th>\n",
       "      <td>4</td>\n",
       "      <td>EMEA-2021-108966</td>\n",
       "      <td>10/11/2021</td>\n",
       "      <td>20211011</td>\n",
       "      <td>Zoe Hodges</td>\n",
       "      <td>Germany</td>\n",
       "      <td>Stuttgart</td>\n",
       "      <td>EMEA</td>\n",
       "      <td>EU-WEST</td>\n",
       "      <td>Royal Dutch Shell</td>\n",
       "      <td>1031</td>\n",
       "      <td>Energy</td>\n",
       "      <td>SMB</td>\n",
       "      <td>ContactMatcher</td>\n",
       "      <td>DE9GJKGD44</td>\n",
       "      <td>957.5775</td>\n",
       "      <td>5</td>\n",
       "      <td>0.45</td>\n",
       "      <td>-383.0310</td>\n",
       "    </tr>\n",
       "    <tr>\n",
       "      <th>4</th>\n",
       "      <td>5</td>\n",
       "      <td>EMEA-2021-108966</td>\n",
       "      <td>10/11/2021</td>\n",
       "      <td>20211011</td>\n",
       "      <td>Zoe Hodges</td>\n",
       "      <td>Germany</td>\n",
       "      <td>Stuttgart</td>\n",
       "      <td>EMEA</td>\n",
       "      <td>EU-WEST</td>\n",
       "      <td>Royal Dutch Shell</td>\n",
       "      <td>1031</td>\n",
       "      <td>Energy</td>\n",
       "      <td>SMB</td>\n",
       "      <td>Marketing Suite - Gold</td>\n",
       "      <td>OIF7NY23WD</td>\n",
       "      <td>22.3680</td>\n",
       "      <td>2</td>\n",
       "      <td>0.20</td>\n",
       "      <td>2.5164</td>\n",
       "    </tr>\n",
       "  </tbody>\n",
       "</table>\n",
       "</div>"
      ],
      "text/plain": [
       "   Row ID          Order ID  Order Date  Date Key    Contact Name  \\\n",
       "0       1  EMEA-2022-152156   11/9/2022  20221109     Nathan Bell   \n",
       "1       2  EMEA-2022-152156   11/9/2022  20221109     Nathan Bell   \n",
       "2       3  AMER-2022-138688   6/13/2022  20220613  Deirdre Bailey   \n",
       "3       4  EMEA-2021-108966  10/11/2021  20211011      Zoe Hodges   \n",
       "4       5  EMEA-2021-108966  10/11/2021  20211011      Zoe Hodges   \n",
       "\n",
       "         Country           City Region Subregion           Customer  \\\n",
       "0        Ireland         Dublin   EMEA      UKIR            Chevron   \n",
       "1        Ireland         Dublin   EMEA      UKIR            Chevron   \n",
       "2  United States  New York City   AMER     NAMER        Phillips 66   \n",
       "3        Germany      Stuttgart   EMEA   EU-WEST  Royal Dutch Shell   \n",
       "4        Germany      Stuttgart   EMEA   EU-WEST  Royal Dutch Shell   \n",
       "\n",
       "   Customer ID Industry    Segment                 Product     License  \\\n",
       "0         1017   Energy        SMB         Marketing Suite  16GRM07R1K   \n",
       "1         1017   Energy        SMB              FinanceHub  QLIW57KZUV   \n",
       "2         1056   Energy  Strategic              FinanceHub  JI6BVL70HQ   \n",
       "3         1031   Energy        SMB          ContactMatcher  DE9GJKGD44   \n",
       "4         1031   Energy        SMB  Marketing Suite - Gold  OIF7NY23WD   \n",
       "\n",
       "      Sales  Quantity  Discount    Profit  \n",
       "0  261.9600         2      0.00   41.9136  \n",
       "1  731.9400         3      0.00  219.5820  \n",
       "2   14.6200         2      0.00    6.8714  \n",
       "3  957.5775         5      0.45 -383.0310  \n",
       "4   22.3680         2      0.20    2.5164  "
      ]
     },
     "execution_count": 213,
     "metadata": {},
     "output_type": "execute_result"
    }
   ],
   "source": [
    "df.head()"
   ]
  },
  {
   "cell_type": "code",
   "execution_count": 214,
   "metadata": {},
   "outputs": [
    {
     "data": {
      "text/html": [
       "<div>\n",
       "<style scoped>\n",
       "    .dataframe tbody tr th:only-of-type {\n",
       "        vertical-align: middle;\n",
       "    }\n",
       "\n",
       "    .dataframe tbody tr th {\n",
       "        vertical-align: top;\n",
       "    }\n",
       "\n",
       "    .dataframe thead th {\n",
       "        text-align: right;\n",
       "    }\n",
       "</style>\n",
       "<table border=\"1\" class=\"dataframe\">\n",
       "  <thead>\n",
       "    <tr style=\"text-align: right;\">\n",
       "      <th></th>\n",
       "      <th>Row ID</th>\n",
       "      <th>Order ID</th>\n",
       "      <th>Order Date</th>\n",
       "      <th>Date Key</th>\n",
       "      <th>Contact Name</th>\n",
       "      <th>Country</th>\n",
       "      <th>City</th>\n",
       "      <th>Region</th>\n",
       "      <th>Subregion</th>\n",
       "      <th>Customer</th>\n",
       "      <th>Customer ID</th>\n",
       "      <th>Industry</th>\n",
       "      <th>Segment</th>\n",
       "      <th>Product</th>\n",
       "      <th>License</th>\n",
       "      <th>Sales</th>\n",
       "      <th>Quantity</th>\n",
       "      <th>Discount</th>\n",
       "      <th>Profit</th>\n",
       "    </tr>\n",
       "  </thead>\n",
       "  <tbody>\n",
       "    <tr>\n",
       "      <th>count</th>\n",
       "      <td>9994.000000</td>\n",
       "      <td>9994</td>\n",
       "      <td>9994</td>\n",
       "      <td>9.994000e+03</td>\n",
       "      <td>9994</td>\n",
       "      <td>9994</td>\n",
       "      <td>9994</td>\n",
       "      <td>9994</td>\n",
       "      <td>9994</td>\n",
       "      <td>9994</td>\n",
       "      <td>9994.000000</td>\n",
       "      <td>9994</td>\n",
       "      <td>9994</td>\n",
       "      <td>9994</td>\n",
       "      <td>9994</td>\n",
       "      <td>9994.000000</td>\n",
       "      <td>9994.000000</td>\n",
       "      <td>9994.000000</td>\n",
       "      <td>9994.000000</td>\n",
       "    </tr>\n",
       "    <tr>\n",
       "      <th>unique</th>\n",
       "      <td>NaN</td>\n",
       "      <td>5009</td>\n",
       "      <td>1237</td>\n",
       "      <td>NaN</td>\n",
       "      <td>793</td>\n",
       "      <td>48</td>\n",
       "      <td>262</td>\n",
       "      <td>3</td>\n",
       "      <td>12</td>\n",
       "      <td>99</td>\n",
       "      <td>NaN</td>\n",
       "      <td>10</td>\n",
       "      <td>3</td>\n",
       "      <td>14</td>\n",
       "      <td>9994</td>\n",
       "      <td>NaN</td>\n",
       "      <td>NaN</td>\n",
       "      <td>NaN</td>\n",
       "      <td>NaN</td>\n",
       "    </tr>\n",
       "    <tr>\n",
       "      <th>top</th>\n",
       "      <td>NaN</td>\n",
       "      <td>EMEA-2023-100111</td>\n",
       "      <td>9/6/2022</td>\n",
       "      <td>NaN</td>\n",
       "      <td>Leonard Kelly</td>\n",
       "      <td>United States</td>\n",
       "      <td>London</td>\n",
       "      <td>EMEA</td>\n",
       "      <td>NAMER</td>\n",
       "      <td>Allianz</td>\n",
       "      <td>NaN</td>\n",
       "      <td>Finance</td>\n",
       "      <td>SMB</td>\n",
       "      <td>ContactMatcher</td>\n",
       "      <td>16GRM07R1K</td>\n",
       "      <td>NaN</td>\n",
       "      <td>NaN</td>\n",
       "      <td>NaN</td>\n",
       "      <td>NaN</td>\n",
       "    </tr>\n",
       "    <tr>\n",
       "      <th>freq</th>\n",
       "      <td>NaN</td>\n",
       "      <td>14</td>\n",
       "      <td>38</td>\n",
       "      <td>NaN</td>\n",
       "      <td>37</td>\n",
       "      <td>2001</td>\n",
       "      <td>922</td>\n",
       "      <td>4219</td>\n",
       "      <td>2507</td>\n",
       "      <td>192</td>\n",
       "      <td>NaN</td>\n",
       "      <td>2127</td>\n",
       "      <td>5191</td>\n",
       "      <td>1842</td>\n",
       "      <td>1</td>\n",
       "      <td>NaN</td>\n",
       "      <td>NaN</td>\n",
       "      <td>NaN</td>\n",
       "      <td>NaN</td>\n",
       "    </tr>\n",
       "    <tr>\n",
       "      <th>mean</th>\n",
       "      <td>4997.500000</td>\n",
       "      <td>NaN</td>\n",
       "      <td>NaN</td>\n",
       "      <td>2.021803e+07</td>\n",
       "      <td>NaN</td>\n",
       "      <td>NaN</td>\n",
       "      <td>NaN</td>\n",
       "      <td>NaN</td>\n",
       "      <td>NaN</td>\n",
       "      <td>NaN</td>\n",
       "      <td>1049.771963</td>\n",
       "      <td>NaN</td>\n",
       "      <td>NaN</td>\n",
       "      <td>NaN</td>\n",
       "      <td>NaN</td>\n",
       "      <td>229.858001</td>\n",
       "      <td>3.789574</td>\n",
       "      <td>0.156203</td>\n",
       "      <td>28.656896</td>\n",
       "    </tr>\n",
       "    <tr>\n",
       "      <th>std</th>\n",
       "      <td>2885.163629</td>\n",
       "      <td>NaN</td>\n",
       "      <td>NaN</td>\n",
       "      <td>1.123898e+04</td>\n",
       "      <td>NaN</td>\n",
       "      <td>NaN</td>\n",
       "      <td>NaN</td>\n",
       "      <td>NaN</td>\n",
       "      <td>NaN</td>\n",
       "      <td>NaN</td>\n",
       "      <td>29.719388</td>\n",
       "      <td>NaN</td>\n",
       "      <td>NaN</td>\n",
       "      <td>NaN</td>\n",
       "      <td>NaN</td>\n",
       "      <td>623.245101</td>\n",
       "      <td>2.225110</td>\n",
       "      <td>0.206452</td>\n",
       "      <td>234.260108</td>\n",
       "    </tr>\n",
       "    <tr>\n",
       "      <th>min</th>\n",
       "      <td>1.000000</td>\n",
       "      <td>NaN</td>\n",
       "      <td>NaN</td>\n",
       "      <td>2.020010e+07</td>\n",
       "      <td>NaN</td>\n",
       "      <td>NaN</td>\n",
       "      <td>NaN</td>\n",
       "      <td>NaN</td>\n",
       "      <td>NaN</td>\n",
       "      <td>NaN</td>\n",
       "      <td>1001.000000</td>\n",
       "      <td>NaN</td>\n",
       "      <td>NaN</td>\n",
       "      <td>NaN</td>\n",
       "      <td>NaN</td>\n",
       "      <td>0.444000</td>\n",
       "      <td>1.000000</td>\n",
       "      <td>0.000000</td>\n",
       "      <td>-6599.978000</td>\n",
       "    </tr>\n",
       "    <tr>\n",
       "      <th>25%</th>\n",
       "      <td>2499.250000</td>\n",
       "      <td>NaN</td>\n",
       "      <td>NaN</td>\n",
       "      <td>2.021052e+07</td>\n",
       "      <td>NaN</td>\n",
       "      <td>NaN</td>\n",
       "      <td>NaN</td>\n",
       "      <td>NaN</td>\n",
       "      <td>NaN</td>\n",
       "      <td>NaN</td>\n",
       "      <td>1024.000000</td>\n",
       "      <td>NaN</td>\n",
       "      <td>NaN</td>\n",
       "      <td>NaN</td>\n",
       "      <td>NaN</td>\n",
       "      <td>17.280000</td>\n",
       "      <td>2.000000</td>\n",
       "      <td>0.000000</td>\n",
       "      <td>1.728750</td>\n",
       "    </tr>\n",
       "    <tr>\n",
       "      <th>50%</th>\n",
       "      <td>4997.500000</td>\n",
       "      <td>NaN</td>\n",
       "      <td>NaN</td>\n",
       "      <td>2.022063e+07</td>\n",
       "      <td>NaN</td>\n",
       "      <td>NaN</td>\n",
       "      <td>NaN</td>\n",
       "      <td>NaN</td>\n",
       "      <td>NaN</td>\n",
       "      <td>NaN</td>\n",
       "      <td>1049.000000</td>\n",
       "      <td>NaN</td>\n",
       "      <td>NaN</td>\n",
       "      <td>NaN</td>\n",
       "      <td>NaN</td>\n",
       "      <td>54.490000</td>\n",
       "      <td>3.000000</td>\n",
       "      <td>0.200000</td>\n",
       "      <td>8.666500</td>\n",
       "    </tr>\n",
       "    <tr>\n",
       "      <th>75%</th>\n",
       "      <td>7495.750000</td>\n",
       "      <td>NaN</td>\n",
       "      <td>NaN</td>\n",
       "      <td>2.023052e+07</td>\n",
       "      <td>NaN</td>\n",
       "      <td>NaN</td>\n",
       "      <td>NaN</td>\n",
       "      <td>NaN</td>\n",
       "      <td>NaN</td>\n",
       "      <td>NaN</td>\n",
       "      <td>1076.000000</td>\n",
       "      <td>NaN</td>\n",
       "      <td>NaN</td>\n",
       "      <td>NaN</td>\n",
       "      <td>NaN</td>\n",
       "      <td>209.940000</td>\n",
       "      <td>5.000000</td>\n",
       "      <td>0.200000</td>\n",
       "      <td>29.364000</td>\n",
       "    </tr>\n",
       "    <tr>\n",
       "      <th>max</th>\n",
       "      <td>9994.000000</td>\n",
       "      <td>NaN</td>\n",
       "      <td>NaN</td>\n",
       "      <td>2.023123e+07</td>\n",
       "      <td>NaN</td>\n",
       "      <td>NaN</td>\n",
       "      <td>NaN</td>\n",
       "      <td>NaN</td>\n",
       "      <td>NaN</td>\n",
       "      <td>NaN</td>\n",
       "      <td>1101.000000</td>\n",
       "      <td>NaN</td>\n",
       "      <td>NaN</td>\n",
       "      <td>NaN</td>\n",
       "      <td>NaN</td>\n",
       "      <td>22638.480000</td>\n",
       "      <td>14.000000</td>\n",
       "      <td>0.800000</td>\n",
       "      <td>8399.976000</td>\n",
       "    </tr>\n",
       "  </tbody>\n",
       "</table>\n",
       "</div>"
      ],
      "text/plain": [
       "             Row ID          Order ID Order Date      Date Key   Contact Name  \\\n",
       "count   9994.000000              9994       9994  9.994000e+03           9994   \n",
       "unique          NaN              5009       1237           NaN            793   \n",
       "top             NaN  EMEA-2023-100111   9/6/2022           NaN  Leonard Kelly   \n",
       "freq            NaN                14         38           NaN             37   \n",
       "mean    4997.500000               NaN        NaN  2.021803e+07            NaN   \n",
       "std     2885.163629               NaN        NaN  1.123898e+04            NaN   \n",
       "min        1.000000               NaN        NaN  2.020010e+07            NaN   \n",
       "25%     2499.250000               NaN        NaN  2.021052e+07            NaN   \n",
       "50%     4997.500000               NaN        NaN  2.022063e+07            NaN   \n",
       "75%     7495.750000               NaN        NaN  2.023052e+07            NaN   \n",
       "max     9994.000000               NaN        NaN  2.023123e+07            NaN   \n",
       "\n",
       "              Country    City Region Subregion Customer  Customer ID Industry  \\\n",
       "count            9994    9994   9994      9994     9994  9994.000000     9994   \n",
       "unique             48     262      3        12       99          NaN       10   \n",
       "top     United States  London   EMEA     NAMER  Allianz          NaN  Finance   \n",
       "freq             2001     922   4219      2507      192          NaN     2127   \n",
       "mean              NaN     NaN    NaN       NaN      NaN  1049.771963      NaN   \n",
       "std               NaN     NaN    NaN       NaN      NaN    29.719388      NaN   \n",
       "min               NaN     NaN    NaN       NaN      NaN  1001.000000      NaN   \n",
       "25%               NaN     NaN    NaN       NaN      NaN  1024.000000      NaN   \n",
       "50%               NaN     NaN    NaN       NaN      NaN  1049.000000      NaN   \n",
       "75%               NaN     NaN    NaN       NaN      NaN  1076.000000      NaN   \n",
       "max               NaN     NaN    NaN       NaN      NaN  1101.000000      NaN   \n",
       "\n",
       "       Segment         Product     License         Sales     Quantity  \\\n",
       "count     9994            9994        9994   9994.000000  9994.000000   \n",
       "unique       3              14        9994           NaN          NaN   \n",
       "top        SMB  ContactMatcher  16GRM07R1K           NaN          NaN   \n",
       "freq      5191            1842           1           NaN          NaN   \n",
       "mean       NaN             NaN         NaN    229.858001     3.789574   \n",
       "std        NaN             NaN         NaN    623.245101     2.225110   \n",
       "min        NaN             NaN         NaN      0.444000     1.000000   \n",
       "25%        NaN             NaN         NaN     17.280000     2.000000   \n",
       "50%        NaN             NaN         NaN     54.490000     3.000000   \n",
       "75%        NaN             NaN         NaN    209.940000     5.000000   \n",
       "max        NaN             NaN         NaN  22638.480000    14.000000   \n",
       "\n",
       "           Discount       Profit  \n",
       "count   9994.000000  9994.000000  \n",
       "unique          NaN          NaN  \n",
       "top             NaN          NaN  \n",
       "freq            NaN          NaN  \n",
       "mean       0.156203    28.656896  \n",
       "std        0.206452   234.260108  \n",
       "min        0.000000 -6599.978000  \n",
       "25%        0.000000     1.728750  \n",
       "50%        0.200000     8.666500  \n",
       "75%        0.200000    29.364000  \n",
       "max        0.800000  8399.976000  "
      ]
     },
     "execution_count": 214,
     "metadata": {},
     "output_type": "execute_result"
    }
   ],
   "source": [
    "df.describe(include='all')"
   ]
  },
  {
   "cell_type": "markdown",
   "metadata": {},
   "source": [
    "# CLEAN DATA\n",
    "This is the clean data, without duplicat, missing values and miss spelling. We also doing adjustment to change the format of 'Order Date' itu 'datetime' format\n"
   ]
  },
  {
   "cell_type": "code",
   "execution_count": 215,
   "metadata": {},
   "outputs": [
    {
     "data": {
      "text/html": [
       "<div>\n",
       "<style scoped>\n",
       "    .dataframe tbody tr th:only-of-type {\n",
       "        vertical-align: middle;\n",
       "    }\n",
       "\n",
       "    .dataframe tbody tr th {\n",
       "        vertical-align: top;\n",
       "    }\n",
       "\n",
       "    .dataframe thead th {\n",
       "        text-align: right;\n",
       "    }\n",
       "</style>\n",
       "<table border=\"1\" class=\"dataframe\">\n",
       "  <thead>\n",
       "    <tr style=\"text-align: right;\">\n",
       "      <th></th>\n",
       "      <th>Row ID</th>\n",
       "      <th>Order ID</th>\n",
       "      <th>Order Date</th>\n",
       "      <th>Date Key</th>\n",
       "      <th>Contact Name</th>\n",
       "      <th>Country</th>\n",
       "      <th>City</th>\n",
       "      <th>Region</th>\n",
       "      <th>Subregion</th>\n",
       "      <th>Customer</th>\n",
       "      <th>Customer ID</th>\n",
       "      <th>Industry</th>\n",
       "      <th>Segment</th>\n",
       "      <th>Product</th>\n",
       "      <th>License</th>\n",
       "      <th>Sales</th>\n",
       "      <th>Quantity</th>\n",
       "      <th>Discount</th>\n",
       "      <th>Profit</th>\n",
       "    </tr>\n",
       "  </thead>\n",
       "  <tbody>\n",
       "    <tr>\n",
       "      <th>0</th>\n",
       "      <td>1</td>\n",
       "      <td>EMEA-2022-152156</td>\n",
       "      <td>2022-11-09</td>\n",
       "      <td>20221109</td>\n",
       "      <td>Nathan Bell</td>\n",
       "      <td>Ireland</td>\n",
       "      <td>Dublin</td>\n",
       "      <td>EMEA</td>\n",
       "      <td>UKIR</td>\n",
       "      <td>Chevron</td>\n",
       "      <td>1017</td>\n",
       "      <td>Energy</td>\n",
       "      <td>SMB</td>\n",
       "      <td>Marketing Suite</td>\n",
       "      <td>16GRM07R1K</td>\n",
       "      <td>261.9600</td>\n",
       "      <td>2</td>\n",
       "      <td>0.00</td>\n",
       "      <td>41.9136</td>\n",
       "    </tr>\n",
       "    <tr>\n",
       "      <th>1</th>\n",
       "      <td>2</td>\n",
       "      <td>EMEA-2022-152156</td>\n",
       "      <td>2022-11-09</td>\n",
       "      <td>20221109</td>\n",
       "      <td>Nathan Bell</td>\n",
       "      <td>Ireland</td>\n",
       "      <td>Dublin</td>\n",
       "      <td>EMEA</td>\n",
       "      <td>UKIR</td>\n",
       "      <td>Chevron</td>\n",
       "      <td>1017</td>\n",
       "      <td>Energy</td>\n",
       "      <td>SMB</td>\n",
       "      <td>FinanceHub</td>\n",
       "      <td>QLIW57KZUV</td>\n",
       "      <td>731.9400</td>\n",
       "      <td>3</td>\n",
       "      <td>0.00</td>\n",
       "      <td>219.5820</td>\n",
       "    </tr>\n",
       "    <tr>\n",
       "      <th>2</th>\n",
       "      <td>3</td>\n",
       "      <td>AMER-2022-138688</td>\n",
       "      <td>2022-06-13</td>\n",
       "      <td>20220613</td>\n",
       "      <td>Deirdre Bailey</td>\n",
       "      <td>United States</td>\n",
       "      <td>New York City</td>\n",
       "      <td>AMER</td>\n",
       "      <td>NAMER</td>\n",
       "      <td>Phillips 66</td>\n",
       "      <td>1056</td>\n",
       "      <td>Energy</td>\n",
       "      <td>Strategic</td>\n",
       "      <td>FinanceHub</td>\n",
       "      <td>JI6BVL70HQ</td>\n",
       "      <td>14.6200</td>\n",
       "      <td>2</td>\n",
       "      <td>0.00</td>\n",
       "      <td>6.8714</td>\n",
       "    </tr>\n",
       "    <tr>\n",
       "      <th>3</th>\n",
       "      <td>4</td>\n",
       "      <td>EMEA-2021-108966</td>\n",
       "      <td>2021-10-11</td>\n",
       "      <td>20211011</td>\n",
       "      <td>Zoe Hodges</td>\n",
       "      <td>Germany</td>\n",
       "      <td>Stuttgart</td>\n",
       "      <td>EMEA</td>\n",
       "      <td>EU-WEST</td>\n",
       "      <td>Royal Dutch Shell</td>\n",
       "      <td>1031</td>\n",
       "      <td>Energy</td>\n",
       "      <td>SMB</td>\n",
       "      <td>ContactMatcher</td>\n",
       "      <td>DE9GJKGD44</td>\n",
       "      <td>957.5775</td>\n",
       "      <td>5</td>\n",
       "      <td>0.45</td>\n",
       "      <td>-383.0310</td>\n",
       "    </tr>\n",
       "    <tr>\n",
       "      <th>4</th>\n",
       "      <td>5</td>\n",
       "      <td>EMEA-2021-108966</td>\n",
       "      <td>2021-10-11</td>\n",
       "      <td>20211011</td>\n",
       "      <td>Zoe Hodges</td>\n",
       "      <td>Germany</td>\n",
       "      <td>Stuttgart</td>\n",
       "      <td>EMEA</td>\n",
       "      <td>EU-WEST</td>\n",
       "      <td>Royal Dutch Shell</td>\n",
       "      <td>1031</td>\n",
       "      <td>Energy</td>\n",
       "      <td>SMB</td>\n",
       "      <td>Marketing Suite - Gold</td>\n",
       "      <td>OIF7NY23WD</td>\n",
       "      <td>22.3680</td>\n",
       "      <td>2</td>\n",
       "      <td>0.20</td>\n",
       "      <td>2.5164</td>\n",
       "    </tr>\n",
       "    <tr>\n",
       "      <th>...</th>\n",
       "      <td>...</td>\n",
       "      <td>...</td>\n",
       "      <td>...</td>\n",
       "      <td>...</td>\n",
       "      <td>...</td>\n",
       "      <td>...</td>\n",
       "      <td>...</td>\n",
       "      <td>...</td>\n",
       "      <td>...</td>\n",
       "      <td>...</td>\n",
       "      <td>...</td>\n",
       "      <td>...</td>\n",
       "      <td>...</td>\n",
       "      <td>...</td>\n",
       "      <td>...</td>\n",
       "      <td>...</td>\n",
       "      <td>...</td>\n",
       "      <td>...</td>\n",
       "      <td>...</td>\n",
       "    </tr>\n",
       "    <tr>\n",
       "      <th>9989</th>\n",
       "      <td>9990</td>\n",
       "      <td>EMEA-2020-110422</td>\n",
       "      <td>2020-01-22</td>\n",
       "      <td>20200122</td>\n",
       "      <td>Dan Allan</td>\n",
       "      <td>Germany</td>\n",
       "      <td>Hamburg</td>\n",
       "      <td>EMEA</td>\n",
       "      <td>EU-WEST</td>\n",
       "      <td>Johnson &amp; Johnson</td>\n",
       "      <td>1055</td>\n",
       "      <td>Healthcare</td>\n",
       "      <td>SMB</td>\n",
       "      <td>SaaS Connector Pack</td>\n",
       "      <td>ETHXMB5TMD</td>\n",
       "      <td>25.2480</td>\n",
       "      <td>3</td>\n",
       "      <td>0.20</td>\n",
       "      <td>4.1028</td>\n",
       "    </tr>\n",
       "    <tr>\n",
       "      <th>9990</th>\n",
       "      <td>9991</td>\n",
       "      <td>AMER-2023-121258</td>\n",
       "      <td>2023-02-27</td>\n",
       "      <td>20230227</td>\n",
       "      <td>Anthony Sanderson</td>\n",
       "      <td>United States</td>\n",
       "      <td>Milwaukee</td>\n",
       "      <td>AMER</td>\n",
       "      <td>NAMER</td>\n",
       "      <td>American Express</td>\n",
       "      <td>1005</td>\n",
       "      <td>Finance</td>\n",
       "      <td>SMB</td>\n",
       "      <td>SaaS Connector Pack</td>\n",
       "      <td>LYHOKTRY7L</td>\n",
       "      <td>91.9600</td>\n",
       "      <td>2</td>\n",
       "      <td>0.00</td>\n",
       "      <td>15.6332</td>\n",
       "    </tr>\n",
       "    <tr>\n",
       "      <th>9991</th>\n",
       "      <td>9992</td>\n",
       "      <td>AMER-2023-121258</td>\n",
       "      <td>2023-02-27</td>\n",
       "      <td>20230227</td>\n",
       "      <td>Anthony Sanderson</td>\n",
       "      <td>United States</td>\n",
       "      <td>Milwaukee</td>\n",
       "      <td>AMER</td>\n",
       "      <td>NAMER</td>\n",
       "      <td>American Express</td>\n",
       "      <td>1005</td>\n",
       "      <td>Finance</td>\n",
       "      <td>SMB</td>\n",
       "      <td>Site Analytics</td>\n",
       "      <td>I5SVMI6M88</td>\n",
       "      <td>258.5760</td>\n",
       "      <td>2</td>\n",
       "      <td>0.20</td>\n",
       "      <td>19.3932</td>\n",
       "    </tr>\n",
       "    <tr>\n",
       "      <th>9992</th>\n",
       "      <td>9993</td>\n",
       "      <td>AMER-2023-121258</td>\n",
       "      <td>2023-02-27</td>\n",
       "      <td>20230227</td>\n",
       "      <td>Anthony Sanderson</td>\n",
       "      <td>United States</td>\n",
       "      <td>Milwaukee</td>\n",
       "      <td>AMER</td>\n",
       "      <td>NAMER</td>\n",
       "      <td>American Express</td>\n",
       "      <td>1005</td>\n",
       "      <td>Finance</td>\n",
       "      <td>SMB</td>\n",
       "      <td>Support</td>\n",
       "      <td>JHLW4P6LQ2</td>\n",
       "      <td>29.6000</td>\n",
       "      <td>4</td>\n",
       "      <td>0.00</td>\n",
       "      <td>13.3200</td>\n",
       "    </tr>\n",
       "    <tr>\n",
       "      <th>9993</th>\n",
       "      <td>9994</td>\n",
       "      <td>AMER-2023-119914</td>\n",
       "      <td>2023-05-05</td>\n",
       "      <td>20230505</td>\n",
       "      <td>Jasmine Springer</td>\n",
       "      <td>United States</td>\n",
       "      <td>Dallas</td>\n",
       "      <td>AMER</td>\n",
       "      <td>NAMER</td>\n",
       "      <td>Comcast</td>\n",
       "      <td>1022</td>\n",
       "      <td>Communications</td>\n",
       "      <td>SMB</td>\n",
       "      <td>OneView</td>\n",
       "      <td>3NTBV9B3PS</td>\n",
       "      <td>243.1600</td>\n",
       "      <td>2</td>\n",
       "      <td>0.00</td>\n",
       "      <td>72.9480</td>\n",
       "    </tr>\n",
       "  </tbody>\n",
       "</table>\n",
       "<p>9994 rows × 19 columns</p>\n",
       "</div>"
      ],
      "text/plain": [
       "      Row ID          Order ID Order Date  Date Key       Contact Name  \\\n",
       "0          1  EMEA-2022-152156 2022-11-09  20221109        Nathan Bell   \n",
       "1          2  EMEA-2022-152156 2022-11-09  20221109        Nathan Bell   \n",
       "2          3  AMER-2022-138688 2022-06-13  20220613     Deirdre Bailey   \n",
       "3          4  EMEA-2021-108966 2021-10-11  20211011         Zoe Hodges   \n",
       "4          5  EMEA-2021-108966 2021-10-11  20211011         Zoe Hodges   \n",
       "...      ...               ...        ...       ...                ...   \n",
       "9989    9990  EMEA-2020-110422 2020-01-22  20200122          Dan Allan   \n",
       "9990    9991  AMER-2023-121258 2023-02-27  20230227  Anthony Sanderson   \n",
       "9991    9992  AMER-2023-121258 2023-02-27  20230227  Anthony Sanderson   \n",
       "9992    9993  AMER-2023-121258 2023-02-27  20230227  Anthony Sanderson   \n",
       "9993    9994  AMER-2023-119914 2023-05-05  20230505   Jasmine Springer   \n",
       "\n",
       "            Country           City Region Subregion           Customer  \\\n",
       "0           Ireland         Dublin   EMEA      UKIR            Chevron   \n",
       "1           Ireland         Dublin   EMEA      UKIR            Chevron   \n",
       "2     United States  New York City   AMER     NAMER        Phillips 66   \n",
       "3           Germany      Stuttgart   EMEA   EU-WEST  Royal Dutch Shell   \n",
       "4           Germany      Stuttgart   EMEA   EU-WEST  Royal Dutch Shell   \n",
       "...             ...            ...    ...       ...                ...   \n",
       "9989        Germany        Hamburg   EMEA   EU-WEST  Johnson & Johnson   \n",
       "9990  United States      Milwaukee   AMER     NAMER   American Express   \n",
       "9991  United States      Milwaukee   AMER     NAMER   American Express   \n",
       "9992  United States      Milwaukee   AMER     NAMER   American Express   \n",
       "9993  United States         Dallas   AMER     NAMER            Comcast   \n",
       "\n",
       "      Customer ID        Industry    Segment                 Product  \\\n",
       "0            1017          Energy        SMB         Marketing Suite   \n",
       "1            1017          Energy        SMB              FinanceHub   \n",
       "2            1056          Energy  Strategic              FinanceHub   \n",
       "3            1031          Energy        SMB          ContactMatcher   \n",
       "4            1031          Energy        SMB  Marketing Suite - Gold   \n",
       "...           ...             ...        ...                     ...   \n",
       "9989         1055      Healthcare        SMB     SaaS Connector Pack   \n",
       "9990         1005         Finance        SMB     SaaS Connector Pack   \n",
       "9991         1005         Finance        SMB          Site Analytics   \n",
       "9992         1005         Finance        SMB                 Support   \n",
       "9993         1022  Communications        SMB                 OneView   \n",
       "\n",
       "         License     Sales  Quantity  Discount    Profit  \n",
       "0     16GRM07R1K  261.9600         2      0.00   41.9136  \n",
       "1     QLIW57KZUV  731.9400         3      0.00  219.5820  \n",
       "2     JI6BVL70HQ   14.6200         2      0.00    6.8714  \n",
       "3     DE9GJKGD44  957.5775         5      0.45 -383.0310  \n",
       "4     OIF7NY23WD   22.3680         2      0.20    2.5164  \n",
       "...          ...       ...       ...       ...       ...  \n",
       "9989  ETHXMB5TMD   25.2480         3      0.20    4.1028  \n",
       "9990  LYHOKTRY7L   91.9600         2      0.00   15.6332  \n",
       "9991  I5SVMI6M88  258.5760         2      0.20   19.3932  \n",
       "9992  JHLW4P6LQ2   29.6000         4      0.00   13.3200  \n",
       "9993  3NTBV9B3PS  243.1600         2      0.00   72.9480  \n",
       "\n",
       "[9994 rows x 19 columns]"
      ]
     },
     "execution_count": 215,
     "metadata": {},
     "output_type": "execute_result"
    }
   ],
   "source": [
    "df['Order Date'] = pd.to_datetime(df['Order Date'], format='%m/%d/%Y')\n",
    "df\n",
    "\n"
   ]
  },
  {
   "cell_type": "code",
   "execution_count": 216,
   "metadata": {},
   "outputs": [],
   "source": [
    "# df_cohort['cohort_month'] = df_cohort['cohort_month'].dt.to_period('M') \n",
    "# df_cohort.head()"
   ]
  },
  {
   "cell_type": "code",
   "execution_count": 217,
   "metadata": {},
   "outputs": [],
   "source": [
    "# df_cohort['current_order_month'] = df_cohort['Order Date'].dt.to_period('M')\n",
    "# df_cohort.head(5)"
   ]
  },
  {
   "cell_type": "code",
   "execution_count": 218,
   "metadata": {},
   "outputs": [],
   "source": [
    "# df_cohort = df_cohort.groupby(by=['cohort_month', 'current_order_month'])[['Customer']].nunique().reset_index()\n",
    "# df_cohort = df_cohort.rename(columns={'Customer':'n_customers'})\n",
    "# df_cohort.head()"
   ]
  },
  {
   "cell_type": "code",
   "execution_count": 219,
   "metadata": {},
   "outputs": [],
   "source": [
    "# df_cohort['period_number'] = df_cohort['current_order_month'] - df_cohort['cohort_month']\n",
    "# df_cohort.head()"
   ]
  },
  {
   "cell_type": "markdown",
   "metadata": {},
   "source": [
    "# Analysis\n",
    "We start with looking for Sales by Country, Region and Industry"
   ]
  },
  {
   "cell_type": "code",
   "execution_count": 220,
   "metadata": {},
   "outputs": [
    {
     "data": {
      "text/html": [
       "<div>\n",
       "<style scoped>\n",
       "    .dataframe tbody tr th:only-of-type {\n",
       "        vertical-align: middle;\n",
       "    }\n",
       "\n",
       "    .dataframe tbody tr th {\n",
       "        vertical-align: top;\n",
       "    }\n",
       "\n",
       "    .dataframe thead th {\n",
       "        text-align: right;\n",
       "    }\n",
       "</style>\n",
       "<table border=\"1\" class=\"dataframe\">\n",
       "  <thead>\n",
       "    <tr style=\"text-align: right;\">\n",
       "      <th></th>\n",
       "      <th>Country</th>\n",
       "      <th>Sales</th>\n",
       "    </tr>\n",
       "  </thead>\n",
       "  <tbody>\n",
       "    <tr>\n",
       "      <th>0</th>\n",
       "      <td>Argentina</td>\n",
       "      <td>35764.3120</td>\n",
       "    </tr>\n",
       "    <tr>\n",
       "      <th>1</th>\n",
       "      <td>Australia</td>\n",
       "      <td>80166.1010</td>\n",
       "    </tr>\n",
       "    <tr>\n",
       "      <th>2</th>\n",
       "      <td>Austria</td>\n",
       "      <td>2865.0200</td>\n",
       "    </tr>\n",
       "    <tr>\n",
       "      <th>3</th>\n",
       "      <td>Belgium</td>\n",
       "      <td>17431.1500</td>\n",
       "    </tr>\n",
       "    <tr>\n",
       "      <th>4</th>\n",
       "      <td>Brazil</td>\n",
       "      <td>76269.6140</td>\n",
       "    </tr>\n",
       "    <tr>\n",
       "      <th>5</th>\n",
       "      <td>Canada</td>\n",
       "      <td>138641.2700</td>\n",
       "    </tr>\n",
       "    <tr>\n",
       "      <th>6</th>\n",
       "      <td>Chile</td>\n",
       "      <td>35282.0010</td>\n",
       "    </tr>\n",
       "    <tr>\n",
       "      <th>7</th>\n",
       "      <td>China</td>\n",
       "      <td>23705.5230</td>\n",
       "    </tr>\n",
       "    <tr>\n",
       "      <th>8</th>\n",
       "      <td>Colombia</td>\n",
       "      <td>8481.7100</td>\n",
       "    </tr>\n",
       "    <tr>\n",
       "      <th>9</th>\n",
       "      <td>Costa Rica</td>\n",
       "      <td>7464.9300</td>\n",
       "    </tr>\n",
       "    <tr>\n",
       "      <th>10</th>\n",
       "      <td>Croatia</td>\n",
       "      <td>1315.5600</td>\n",
       "    </tr>\n",
       "    <tr>\n",
       "      <th>11</th>\n",
       "      <td>Czech Republic</td>\n",
       "      <td>9217.0300</td>\n",
       "    </tr>\n",
       "    <tr>\n",
       "      <th>12</th>\n",
       "      <td>Denmark</td>\n",
       "      <td>1270.5300</td>\n",
       "    </tr>\n",
       "    <tr>\n",
       "      <th>13</th>\n",
       "      <td>Egypt</td>\n",
       "      <td>8929.3700</td>\n",
       "    </tr>\n",
       "    <tr>\n",
       "      <th>14</th>\n",
       "      <td>Finland</td>\n",
       "      <td>49095.8400</td>\n",
       "    </tr>\n",
       "    <tr>\n",
       "      <th>15</th>\n",
       "      <td>France</td>\n",
       "      <td>116511.9140</td>\n",
       "    </tr>\n",
       "    <tr>\n",
       "      <th>16</th>\n",
       "      <td>Germany</td>\n",
       "      <td>89473.7080</td>\n",
       "    </tr>\n",
       "    <tr>\n",
       "      <th>17</th>\n",
       "      <td>Greece</td>\n",
       "      <td>7292.5240</td>\n",
       "    </tr>\n",
       "    <tr>\n",
       "      <th>18</th>\n",
       "      <td>Iceland</td>\n",
       "      <td>1209.8240</td>\n",
       "    </tr>\n",
       "    <tr>\n",
       "      <th>19</th>\n",
       "      <td>India</td>\n",
       "      <td>53555.3600</td>\n",
       "    </tr>\n",
       "    <tr>\n",
       "      <th>20</th>\n",
       "      <td>Indonesia</td>\n",
       "      <td>2914.3100</td>\n",
       "    </tr>\n",
       "    <tr>\n",
       "      <th>21</th>\n",
       "      <td>Ireland</td>\n",
       "      <td>34298.1400</td>\n",
       "    </tr>\n",
       "    <tr>\n",
       "      <th>22</th>\n",
       "      <td>Israel</td>\n",
       "      <td>16729.1020</td>\n",
       "    </tr>\n",
       "    <tr>\n",
       "      <th>23</th>\n",
       "      <td>Italy</td>\n",
       "      <td>32114.6100</td>\n",
       "    </tr>\n",
       "    <tr>\n",
       "      <th>24</th>\n",
       "      <td>Japan</td>\n",
       "      <td>170188.0458</td>\n",
       "    </tr>\n",
       "    <tr>\n",
       "      <th>25</th>\n",
       "      <td>Luxembourg</td>\n",
       "      <td>29863.1500</td>\n",
       "    </tr>\n",
       "    <tr>\n",
       "      <th>26</th>\n",
       "      <td>Mexico</td>\n",
       "      <td>78258.1360</td>\n",
       "    </tr>\n",
       "    <tr>\n",
       "      <th>27</th>\n",
       "      <td>Netherlands</td>\n",
       "      <td>10169.1120</td>\n",
       "    </tr>\n",
       "    <tr>\n",
       "      <th>28</th>\n",
       "      <td>New Zealand</td>\n",
       "      <td>4783.5220</td>\n",
       "    </tr>\n",
       "    <tr>\n",
       "      <th>29</th>\n",
       "      <td>Norway</td>\n",
       "      <td>22627.9560</td>\n",
       "    </tr>\n",
       "    <tr>\n",
       "      <th>30</th>\n",
       "      <td>Philippines</td>\n",
       "      <td>27451.0690</td>\n",
       "    </tr>\n",
       "    <tr>\n",
       "      <th>31</th>\n",
       "      <td>Poland</td>\n",
       "      <td>22205.1500</td>\n",
       "    </tr>\n",
       "    <tr>\n",
       "      <th>32</th>\n",
       "      <td>Portugal</td>\n",
       "      <td>19510.6400</td>\n",
       "    </tr>\n",
       "    <tr>\n",
       "      <th>33</th>\n",
       "      <td>Qatar</td>\n",
       "      <td>919.9100</td>\n",
       "    </tr>\n",
       "    <tr>\n",
       "      <th>34</th>\n",
       "      <td>Russia</td>\n",
       "      <td>32108.1180</td>\n",
       "    </tr>\n",
       "    <tr>\n",
       "      <th>35</th>\n",
       "      <td>Saudi Arabia</td>\n",
       "      <td>13384.3570</td>\n",
       "    </tr>\n",
       "    <tr>\n",
       "      <th>36</th>\n",
       "      <td>Singapore</td>\n",
       "      <td>19683.3900</td>\n",
       "    </tr>\n",
       "    <tr>\n",
       "      <th>37</th>\n",
       "      <td>Slovenia</td>\n",
       "      <td>1603.1360</td>\n",
       "    </tr>\n",
       "    <tr>\n",
       "      <th>38</th>\n",
       "      <td>South Africa</td>\n",
       "      <td>30661.8730</td>\n",
       "    </tr>\n",
       "    <tr>\n",
       "      <th>39</th>\n",
       "      <td>South Korea</td>\n",
       "      <td>28634.4340</td>\n",
       "    </tr>\n",
       "    <tr>\n",
       "      <th>40</th>\n",
       "      <td>Spain</td>\n",
       "      <td>70636.7200</td>\n",
       "    </tr>\n",
       "    <tr>\n",
       "      <th>41</th>\n",
       "      <td>Sweden</td>\n",
       "      <td>55603.1640</td>\n",
       "    </tr>\n",
       "    <tr>\n",
       "      <th>42</th>\n",
       "      <td>Taiwan</td>\n",
       "      <td>4382.4860</td>\n",
       "    </tr>\n",
       "    <tr>\n",
       "      <th>43</th>\n",
       "      <td>Turkey</td>\n",
       "      <td>11220.0560</td>\n",
       "    </tr>\n",
       "    <tr>\n",
       "      <th>44</th>\n",
       "      <td>Ukraine</td>\n",
       "      <td>10771.3400</td>\n",
       "    </tr>\n",
       "    <tr>\n",
       "      <th>45</th>\n",
       "      <td>United Arab Emirates</td>\n",
       "      <td>11678.1300</td>\n",
       "    </tr>\n",
       "    <tr>\n",
       "      <th>46</th>\n",
       "      <td>United Kingdom</td>\n",
       "      <td>313169.8810</td>\n",
       "    </tr>\n",
       "    <tr>\n",
       "      <th>47</th>\n",
       "      <td>United States</td>\n",
       "      <td>457687.6315</td>\n",
       "    </tr>\n",
       "  </tbody>\n",
       "</table>\n",
       "</div>"
      ],
      "text/plain": [
       "                 Country        Sales\n",
       "0              Argentina   35764.3120\n",
       "1              Australia   80166.1010\n",
       "2                Austria    2865.0200\n",
       "3                Belgium   17431.1500\n",
       "4                 Brazil   76269.6140\n",
       "5                 Canada  138641.2700\n",
       "6                  Chile   35282.0010\n",
       "7                  China   23705.5230\n",
       "8               Colombia    8481.7100\n",
       "9             Costa Rica    7464.9300\n",
       "10               Croatia    1315.5600\n",
       "11        Czech Republic    9217.0300\n",
       "12               Denmark    1270.5300\n",
       "13                 Egypt    8929.3700\n",
       "14               Finland   49095.8400\n",
       "15                France  116511.9140\n",
       "16               Germany   89473.7080\n",
       "17                Greece    7292.5240\n",
       "18               Iceland    1209.8240\n",
       "19                 India   53555.3600\n",
       "20             Indonesia    2914.3100\n",
       "21               Ireland   34298.1400\n",
       "22                Israel   16729.1020\n",
       "23                 Italy   32114.6100\n",
       "24                 Japan  170188.0458\n",
       "25            Luxembourg   29863.1500\n",
       "26                Mexico   78258.1360\n",
       "27           Netherlands   10169.1120\n",
       "28           New Zealand    4783.5220\n",
       "29                Norway   22627.9560\n",
       "30           Philippines   27451.0690\n",
       "31                Poland   22205.1500\n",
       "32              Portugal   19510.6400\n",
       "33                 Qatar     919.9100\n",
       "34                Russia   32108.1180\n",
       "35          Saudi Arabia   13384.3570\n",
       "36             Singapore   19683.3900\n",
       "37              Slovenia    1603.1360\n",
       "38          South Africa   30661.8730\n",
       "39           South Korea   28634.4340\n",
       "40                 Spain   70636.7200\n",
       "41                Sweden   55603.1640\n",
       "42                Taiwan    4382.4860\n",
       "43                Turkey   11220.0560\n",
       "44               Ukraine   10771.3400\n",
       "45  United Arab Emirates   11678.1300\n",
       "46        United Kingdom  313169.8810\n",
       "47         United States  457687.6315"
      ]
     },
     "execution_count": 220,
     "metadata": {},
     "output_type": "execute_result"
    }
   ],
   "source": [
    "sales_per_country= df.groupby('Country')['Sales'].sum().reset_index()\n",
    "sales_per_country"
   ]
  },
  {
   "cell_type": "code",
   "execution_count": 221,
   "metadata": {},
   "outputs": [
    {
     "data": {
      "text/html": [
       "<div>\n",
       "<style scoped>\n",
       "    .dataframe tbody tr th:only-of-type {\n",
       "        vertical-align: middle;\n",
       "    }\n",
       "\n",
       "    .dataframe tbody tr th {\n",
       "        vertical-align: top;\n",
       "    }\n",
       "\n",
       "    .dataframe thead th {\n",
       "        text-align: right;\n",
       "    }\n",
       "</style>\n",
       "<table border=\"1\" class=\"dataframe\">\n",
       "  <thead>\n",
       "    <tr style=\"text-align: right;\">\n",
       "      <th></th>\n",
       "      <th>Region</th>\n",
       "      <th>Sales</th>\n",
       "    </tr>\n",
       "  </thead>\n",
       "  <tbody>\n",
       "    <tr>\n",
       "      <th>0</th>\n",
       "      <td>AMER</td>\n",
       "      <td>8.378496e+05</td>\n",
       "    </tr>\n",
       "    <tr>\n",
       "      <th>1</th>\n",
       "      <td>APJ</td>\n",
       "      <td>4.154642e+05</td>\n",
       "    </tr>\n",
       "    <tr>\n",
       "      <th>2</th>\n",
       "      <td>EMEA</td>\n",
       "      <td>1.043887e+06</td>\n",
       "    </tr>\n",
       "  </tbody>\n",
       "</table>\n",
       "</div>"
      ],
      "text/plain": [
       "  Region         Sales\n",
       "0   AMER  8.378496e+05\n",
       "1    APJ  4.154642e+05\n",
       "2   EMEA  1.043887e+06"
      ]
     },
     "execution_count": 221,
     "metadata": {},
     "output_type": "execute_result"
    }
   ],
   "source": [
    "sales_per_region= df.groupby('Region')['Sales'].sum().reset_index()\n",
    "sales_per_region"
   ]
  },
  {
   "cell_type": "code",
   "execution_count": 222,
   "metadata": {},
   "outputs": [
    {
     "data": {
      "text/html": [
       "<div>\n",
       "<style scoped>\n",
       "    .dataframe tbody tr th:only-of-type {\n",
       "        vertical-align: middle;\n",
       "    }\n",
       "\n",
       "    .dataframe tbody tr th {\n",
       "        vertical-align: top;\n",
       "    }\n",
       "\n",
       "    .dataframe thead th {\n",
       "        text-align: right;\n",
       "    }\n",
       "</style>\n",
       "<table border=\"1\" class=\"dataframe\">\n",
       "  <thead>\n",
       "    <tr style=\"text-align: right;\">\n",
       "      <th></th>\n",
       "      <th>Industry</th>\n",
       "      <th>Sales</th>\n",
       "    </tr>\n",
       "  </thead>\n",
       "  <tbody>\n",
       "    <tr>\n",
       "      <th>0</th>\n",
       "      <td>Communications</td>\n",
       "      <td>120962.2365</td>\n",
       "    </tr>\n",
       "    <tr>\n",
       "      <th>1</th>\n",
       "      <td>Consumer Products</td>\n",
       "      <td>224044.1422</td>\n",
       "    </tr>\n",
       "    <tr>\n",
       "      <th>2</th>\n",
       "      <td>Energy</td>\n",
       "      <td>304644.1409</td>\n",
       "    </tr>\n",
       "    <tr>\n",
       "      <th>3</th>\n",
       "      <td>Finance</td>\n",
       "      <td>474150.4844</td>\n",
       "    </tr>\n",
       "    <tr>\n",
       "      <th>4</th>\n",
       "      <td>Healthcare</td>\n",
       "      <td>273183.2882</td>\n",
       "    </tr>\n",
       "    <tr>\n",
       "      <th>5</th>\n",
       "      <td>Manufacturing</td>\n",
       "      <td>295192.3812</td>\n",
       "    </tr>\n",
       "    <tr>\n",
       "      <th>6</th>\n",
       "      <td>Misc</td>\n",
       "      <td>28591.7596</td>\n",
       "    </tr>\n",
       "    <tr>\n",
       "      <th>7</th>\n",
       "      <td>Retail</td>\n",
       "      <td>223072.0720</td>\n",
       "    </tr>\n",
       "    <tr>\n",
       "      <th>8</th>\n",
       "      <td>Tech</td>\n",
       "      <td>263169.0277</td>\n",
       "    </tr>\n",
       "    <tr>\n",
       "      <th>9</th>\n",
       "      <td>Transportation</td>\n",
       "      <td>90191.3276</td>\n",
       "    </tr>\n",
       "  </tbody>\n",
       "</table>\n",
       "</div>"
      ],
      "text/plain": [
       "            Industry        Sales\n",
       "0     Communications  120962.2365\n",
       "1  Consumer Products  224044.1422\n",
       "2             Energy  304644.1409\n",
       "3            Finance  474150.4844\n",
       "4         Healthcare  273183.2882\n",
       "5      Manufacturing  295192.3812\n",
       "6               Misc   28591.7596\n",
       "7             Retail  223072.0720\n",
       "8               Tech  263169.0277\n",
       "9     Transportation   90191.3276"
      ]
     },
     "execution_count": 222,
     "metadata": {},
     "output_type": "execute_result"
    }
   ],
   "source": [
    "sales_per_industry= df.groupby('Industry')['Sales'].sum().reset_index()\n",
    "sales_per_industry"
   ]
  },
  {
   "cell_type": "code",
   "execution_count": 223,
   "metadata": {},
   "outputs": [
    {
     "data": {
      "text/html": [
       "<div>\n",
       "<style scoped>\n",
       "    .dataframe tbody tr th:only-of-type {\n",
       "        vertical-align: middle;\n",
       "    }\n",
       "\n",
       "    .dataframe tbody tr th {\n",
       "        vertical-align: top;\n",
       "    }\n",
       "\n",
       "    .dataframe thead th {\n",
       "        text-align: right;\n",
       "    }\n",
       "</style>\n",
       "<table border=\"1\" class=\"dataframe\">\n",
       "  <thead>\n",
       "    <tr style=\"text-align: right;\">\n",
       "      <th></th>\n",
       "      <th>Sales</th>\n",
       "      <th>Country</th>\n",
       "    </tr>\n",
       "  </thead>\n",
       "  <tbody>\n",
       "    <tr>\n",
       "      <th>0</th>\n",
       "      <td>261.9600</td>\n",
       "      <td>Ireland</td>\n",
       "    </tr>\n",
       "    <tr>\n",
       "      <th>1</th>\n",
       "      <td>731.9400</td>\n",
       "      <td>Ireland</td>\n",
       "    </tr>\n",
       "    <tr>\n",
       "      <th>2</th>\n",
       "      <td>14.6200</td>\n",
       "      <td>United States</td>\n",
       "    </tr>\n",
       "    <tr>\n",
       "      <th>3</th>\n",
       "      <td>957.5775</td>\n",
       "      <td>Germany</td>\n",
       "    </tr>\n",
       "    <tr>\n",
       "      <th>4</th>\n",
       "      <td>22.3680</td>\n",
       "      <td>Germany</td>\n",
       "    </tr>\n",
       "  </tbody>\n",
       "</table>\n",
       "</div>"
      ],
      "text/plain": [
       "      Sales        Country\n",
       "0  261.9600        Ireland\n",
       "1  731.9400        Ireland\n",
       "2   14.6200  United States\n",
       "3  957.5775        Germany\n",
       "4   22.3680        Germany"
      ]
     },
     "execution_count": 223,
     "metadata": {},
     "output_type": "execute_result"
    }
   ],
   "source": [
    "sales_country = df[['Sales', 'Country']]\n",
    "sales_country.head()"
   ]
  },
  {
   "cell_type": "markdown",
   "metadata": {},
   "source": [
    "# DATA VISUALIZATION"
   ]
  },
  {
   "cell_type": "markdown",
   "metadata": {},
   "source": [
    "# Sales per Country"
   ]
  },
  {
   "cell_type": "code",
   "execution_count": 224,
   "metadata": {},
   "outputs": [
    {
     "name": "stderr",
     "output_type": "stream",
     "text": [
      "C:\\Users\\Adib Fardan\\AppData\\Local\\Temp\\ipykernel_4132\\780510886.py:8: FutureWarning: \n",
      "\n",
      "Passing `palette` without assigning `hue` is deprecated and will be removed in v0.14.0. Assign the `x` variable to `hue` and set `legend=False` for the same effect.\n",
      "\n",
      "  sns.barplot(data=top_10_sales, x=top_10_sales['Country'], y='Sales', palette='Blues_d', order=top_10_sales.sort_values('Sales', ascending=False).Country)\n"
     ]
    },
    {
     "data": {
      "image/png": "[encoded data removed]",
      "text/plain": [
       "<Figure size 2500x1000 with 1 Axes>"
      ]
     },
     "metadata": {},
     "output_type": "display_data"
    }
   ],
   "source": [
    "import seaborn as sns\n",
    "import matplotlib.pyplot as plt\n",
    "\n",
    "plt.figure(figsize=(25, 10))\n",
    "\n",
    "\n",
    "top_10_sales = sales_per_country.nlargest(10, 'Sales')\n",
    "sns.barplot(data=top_10_sales, x=top_10_sales['Country'], y='Sales', palette='Blues_d', order=top_10_sales.sort_values('Sales', ascending=False).Country)\n",
    "plt.title('Total Sales per Country')\n",
    "plt.xlabel('Country')\n",
    "plt.ylabel('sales_per_country')\n",
    "plt.xticks(rotation=45)\n",
    "plt.grid(axis='y')\n",
    "plt.show()"
   ]
  },
  {
   "cell_type": "markdown",
   "metadata": {},
   "source": [
    "From this graph, we know that United States is the country with the highest number of sales among other countries"
   ]
  },
  {
   "cell_type": "code",
   "execution_count": 225,
   "metadata": {},
   "outputs": [
    {
     "data": {
      "text/html": [
       "<div>\n",
       "<style scoped>\n",
       "    .dataframe tbody tr th:only-of-type {\n",
       "        vertical-align: middle;\n",
       "    }\n",
       "\n",
       "    .dataframe tbody tr th {\n",
       "        vertical-align: top;\n",
       "    }\n",
       "\n",
       "    .dataframe thead th {\n",
       "        text-align: right;\n",
       "    }\n",
       "</style>\n",
       "<table border=\"1\" class=\"dataframe\">\n",
       "  <thead>\n",
       "    <tr style=\"text-align: right;\">\n",
       "      <th></th>\n",
       "      <th>Sales</th>\n",
       "      <th>Region</th>\n",
       "    </tr>\n",
       "  </thead>\n",
       "  <tbody>\n",
       "    <tr>\n",
       "      <th>0</th>\n",
       "      <td>261.9600</td>\n",
       "      <td>EMEA</td>\n",
       "    </tr>\n",
       "    <tr>\n",
       "      <th>1</th>\n",
       "      <td>731.9400</td>\n",
       "      <td>EMEA</td>\n",
       "    </tr>\n",
       "    <tr>\n",
       "      <th>2</th>\n",
       "      <td>14.6200</td>\n",
       "      <td>AMER</td>\n",
       "    </tr>\n",
       "    <tr>\n",
       "      <th>3</th>\n",
       "      <td>957.5775</td>\n",
       "      <td>EMEA</td>\n",
       "    </tr>\n",
       "    <tr>\n",
       "      <th>4</th>\n",
       "      <td>22.3680</td>\n",
       "      <td>EMEA</td>\n",
       "    </tr>\n",
       "    <tr>\n",
       "      <th>...</th>\n",
       "      <td>...</td>\n",
       "      <td>...</td>\n",
       "    </tr>\n",
       "    <tr>\n",
       "      <th>9989</th>\n",
       "      <td>25.2480</td>\n",
       "      <td>EMEA</td>\n",
       "    </tr>\n",
       "    <tr>\n",
       "      <th>9990</th>\n",
       "      <td>91.9600</td>\n",
       "      <td>AMER</td>\n",
       "    </tr>\n",
       "    <tr>\n",
       "      <th>9991</th>\n",
       "      <td>258.5760</td>\n",
       "      <td>AMER</td>\n",
       "    </tr>\n",
       "    <tr>\n",
       "      <th>9992</th>\n",
       "      <td>29.6000</td>\n",
       "      <td>AMER</td>\n",
       "    </tr>\n",
       "    <tr>\n",
       "      <th>9993</th>\n",
       "      <td>243.1600</td>\n",
       "      <td>AMER</td>\n",
       "    </tr>\n",
       "  </tbody>\n",
       "</table>\n",
       "<p>9994 rows × 2 columns</p>\n",
       "</div>"
      ],
      "text/plain": [
       "         Sales Region\n",
       "0     261.9600   EMEA\n",
       "1     731.9400   EMEA\n",
       "2      14.6200   AMER\n",
       "3     957.5775   EMEA\n",
       "4      22.3680   EMEA\n",
       "...        ...    ...\n",
       "9989   25.2480   EMEA\n",
       "9990   91.9600   AMER\n",
       "9991  258.5760   AMER\n",
       "9992   29.6000   AMER\n",
       "9993  243.1600   AMER\n",
       "\n",
       "[9994 rows x 2 columns]"
      ]
     },
     "execution_count": 225,
     "metadata": {},
     "output_type": "execute_result"
    }
   ],
   "source": [
    "sales_region = df[['Sales', 'Region']]\n",
    "sales_region"
   ]
  },
  {
   "cell_type": "markdown",
   "metadata": {},
   "source": [
    "# SALES PER REGION"
   ]
  },
  {
   "cell_type": "code",
   "execution_count": 226,
   "metadata": {},
   "outputs": [
    {
     "name": "stderr",
     "output_type": "stream",
     "text": [
      "C:\\Users\\Adib Fardan\\AppData\\Local\\Temp\\ipykernel_4132\\844134447.py:2: FutureWarning: \n",
      "\n",
      "Passing `palette` without assigning `hue` is deprecated and will be removed in v0.14.0. Assign the `x` variable to `hue` and set `legend=False` for the same effect.\n",
      "\n",
      "  sns.barplot(data=sales_per_region, x='Region', y='Sales', palette='Blues_d')\n"
     ]
    },
    {
     "data": {
      "image/png": "[encoded data removed]",
      "text/plain": [
       "<Figure size 2000x1000 with 1 Axes>"
      ]
     },
     "metadata": {},
     "output_type": "display_data"
    }
   ],
   "source": [
    "plt.figure(figsize=(20, 10))\n",
    "sns.barplot(data=sales_per_region, x='Region', y='Sales', palette='Blues_d')\n",
    "plt.title('Total Sales per Region')\n",
    "plt.xlabel('Region')\n",
    "plt.ylabel('sales_per_region')\n",
    "plt.xticks(rotation=45)\n",
    "plt.grid(axis='y')\n",
    "plt.show()"
   ]
  },
  {
   "cell_type": "markdown",
   "metadata": {},
   "source": [
    "SALES PER INDUSTRY"
   ]
  },
  {
   "cell_type": "code",
   "execution_count": 227,
   "metadata": {},
   "outputs": [
    {
     "data": {
      "text/html": [
       "<div>\n",
       "<style scoped>\n",
       "    .dataframe tbody tr th:only-of-type {\n",
       "        vertical-align: middle;\n",
       "    }\n",
       "\n",
       "    .dataframe tbody tr th {\n",
       "        vertical-align: top;\n",
       "    }\n",
       "\n",
       "    .dataframe thead th {\n",
       "        text-align: right;\n",
       "    }\n",
       "</style>\n",
       "<table border=\"1\" class=\"dataframe\">\n",
       "  <thead>\n",
       "    <tr style=\"text-align: right;\">\n",
       "      <th></th>\n",
       "      <th>Sales</th>\n",
       "      <th>Industry</th>\n",
       "    </tr>\n",
       "  </thead>\n",
       "  <tbody>\n",
       "    <tr>\n",
       "      <th>0</th>\n",
       "      <td>261.9600</td>\n",
       "      <td>Energy</td>\n",
       "    </tr>\n",
       "    <tr>\n",
       "      <th>1</th>\n",
       "      <td>731.9400</td>\n",
       "      <td>Energy</td>\n",
       "    </tr>\n",
       "    <tr>\n",
       "      <th>2</th>\n",
       "      <td>14.6200</td>\n",
       "      <td>Energy</td>\n",
       "    </tr>\n",
       "    <tr>\n",
       "      <th>3</th>\n",
       "      <td>957.5775</td>\n",
       "      <td>Energy</td>\n",
       "    </tr>\n",
       "    <tr>\n",
       "      <th>4</th>\n",
       "      <td>22.3680</td>\n",
       "      <td>Energy</td>\n",
       "    </tr>\n",
       "    <tr>\n",
       "      <th>...</th>\n",
       "      <td>...</td>\n",
       "      <td>...</td>\n",
       "    </tr>\n",
       "    <tr>\n",
       "      <th>9989</th>\n",
       "      <td>25.2480</td>\n",
       "      <td>Healthcare</td>\n",
       "    </tr>\n",
       "    <tr>\n",
       "      <th>9990</th>\n",
       "      <td>91.9600</td>\n",
       "      <td>Finance</td>\n",
       "    </tr>\n",
       "    <tr>\n",
       "      <th>9991</th>\n",
       "      <td>258.5760</td>\n",
       "      <td>Finance</td>\n",
       "    </tr>\n",
       "    <tr>\n",
       "      <th>9992</th>\n",
       "      <td>29.6000</td>\n",
       "      <td>Finance</td>\n",
       "    </tr>\n",
       "    <tr>\n",
       "      <th>9993</th>\n",
       "      <td>243.1600</td>\n",
       "      <td>Communications</td>\n",
       "    </tr>\n",
       "  </tbody>\n",
       "</table>\n",
       "<p>9994 rows × 2 columns</p>\n",
       "</div>"
      ],
      "text/plain": [
       "         Sales        Industry\n",
       "0     261.9600          Energy\n",
       "1     731.9400          Energy\n",
       "2      14.6200          Energy\n",
       "3     957.5775          Energy\n",
       "4      22.3680          Energy\n",
       "...        ...             ...\n",
       "9989   25.2480      Healthcare\n",
       "9990   91.9600         Finance\n",
       "9991  258.5760         Finance\n",
       "9992   29.6000         Finance\n",
       "9993  243.1600  Communications\n",
       "\n",
       "[9994 rows x 2 columns]"
      ]
     },
     "execution_count": 227,
     "metadata": {},
     "output_type": "execute_result"
    }
   ],
   "source": [
    "sales_industry = df[['Sales', 'Industry']]\n",
    "sales_industry"
   ]
  },
  {
   "cell_type": "code",
   "execution_count": 228,
   "metadata": {},
   "outputs": [
    {
     "name": "stderr",
     "output_type": "stream",
     "text": [
      "C:\\Users\\Adib Fardan\\AppData\\Local\\Temp\\ipykernel_4132\\1416302989.py:2: FutureWarning: \n",
      "\n",
      "Passing `palette` without assigning `hue` is deprecated and will be removed in v0.14.0. Assign the `x` variable to `hue` and set `legend=False` for the same effect.\n",
      "\n",
      "  sns.barplot(data=sales_per_industry, x='Industry', y='Sales',estimator='sum', palette='Blues_d')\n"
     ]
    },
    {
     "data": {
      "image/png": "[encoded data removed]",
      "text/plain": [
       "<Figure size 2000x1000 with 1 Axes>"
      ]
     },
     "metadata": {},
     "output_type": "display_data"
    }
   ],
   "source": [
    "plt.figure(figsize=(20, 10))\n",
    "sns.barplot(data=sales_per_industry, x='Industry', y='Sales',estimator='sum', palette='Blues_d')\n",
    "plt.title('Total Sales per Industry')\n",
    "plt.xlabel('Industry')\n",
    "plt.ylabel('sales_per_industry')\n",
    "plt.xticks(rotation=45)\n",
    "plt.grid(axis='y')\n",
    "plt.show()"
   ]
  },
  {
   "cell_type": "code",
   "execution_count": 229,
   "metadata": {},
   "outputs": [
    {
     "data": {
      "text/html": [
       "<div>\n",
       "<style scoped>\n",
       "    .dataframe tbody tr th:only-of-type {\n",
       "        vertical-align: middle;\n",
       "    }\n",
       "\n",
       "    .dataframe tbody tr th {\n",
       "        vertical-align: top;\n",
       "    }\n",
       "\n",
       "    .dataframe thead th {\n",
       "        text-align: right;\n",
       "    }\n",
       "</style>\n",
       "<table border=\"1\" class=\"dataframe\">\n",
       "  <thead>\n",
       "    <tr style=\"text-align: right;\">\n",
       "      <th></th>\n",
       "      <th>Row ID</th>\n",
       "      <th>Order ID</th>\n",
       "      <th>Order Date</th>\n",
       "      <th>Date Key</th>\n",
       "      <th>Contact Name</th>\n",
       "      <th>Country</th>\n",
       "      <th>City</th>\n",
       "      <th>Region</th>\n",
       "      <th>Subregion</th>\n",
       "      <th>Customer</th>\n",
       "      <th>Customer ID</th>\n",
       "      <th>Industry</th>\n",
       "      <th>Segment</th>\n",
       "      <th>Product</th>\n",
       "      <th>License</th>\n",
       "      <th>Sales</th>\n",
       "      <th>Quantity</th>\n",
       "      <th>Discount</th>\n",
       "      <th>Profit</th>\n",
       "      <th>top_industry</th>\n",
       "    </tr>\n",
       "  </thead>\n",
       "  <tbody>\n",
       "    <tr>\n",
       "      <th>0</th>\n",
       "      <td>1</td>\n",
       "      <td>EMEA-2022-152156</td>\n",
       "      <td>2022-11-09</td>\n",
       "      <td>20221109</td>\n",
       "      <td>Nathan Bell</td>\n",
       "      <td>Ireland</td>\n",
       "      <td>Dublin</td>\n",
       "      <td>EMEA</td>\n",
       "      <td>UKIR</td>\n",
       "      <td>Chevron</td>\n",
       "      <td>1017</td>\n",
       "      <td>Energy</td>\n",
       "      <td>SMB</td>\n",
       "      <td>Marketing Suite</td>\n",
       "      <td>16GRM07R1K</td>\n",
       "      <td>261.9600</td>\n",
       "      <td>2</td>\n",
       "      <td>0.00</td>\n",
       "      <td>41.9136</td>\n",
       "      <td>Energy</td>\n",
       "    </tr>\n",
       "    <tr>\n",
       "      <th>1</th>\n",
       "      <td>2</td>\n",
       "      <td>EMEA-2022-152156</td>\n",
       "      <td>2022-11-09</td>\n",
       "      <td>20221109</td>\n",
       "      <td>Nathan Bell</td>\n",
       "      <td>Ireland</td>\n",
       "      <td>Dublin</td>\n",
       "      <td>EMEA</td>\n",
       "      <td>UKIR</td>\n",
       "      <td>Chevron</td>\n",
       "      <td>1017</td>\n",
       "      <td>Energy</td>\n",
       "      <td>SMB</td>\n",
       "      <td>FinanceHub</td>\n",
       "      <td>QLIW57KZUV</td>\n",
       "      <td>731.9400</td>\n",
       "      <td>3</td>\n",
       "      <td>0.00</td>\n",
       "      <td>219.5820</td>\n",
       "      <td>Energy</td>\n",
       "    </tr>\n",
       "    <tr>\n",
       "      <th>2</th>\n",
       "      <td>3</td>\n",
       "      <td>AMER-2022-138688</td>\n",
       "      <td>2022-06-13</td>\n",
       "      <td>20220613</td>\n",
       "      <td>Deirdre Bailey</td>\n",
       "      <td>United States</td>\n",
       "      <td>New York City</td>\n",
       "      <td>AMER</td>\n",
       "      <td>NAMER</td>\n",
       "      <td>Phillips 66</td>\n",
       "      <td>1056</td>\n",
       "      <td>Energy</td>\n",
       "      <td>Strategic</td>\n",
       "      <td>FinanceHub</td>\n",
       "      <td>JI6BVL70HQ</td>\n",
       "      <td>14.6200</td>\n",
       "      <td>2</td>\n",
       "      <td>0.00</td>\n",
       "      <td>6.8714</td>\n",
       "      <td>Finance</td>\n",
       "    </tr>\n",
       "    <tr>\n",
       "      <th>3</th>\n",
       "      <td>4</td>\n",
       "      <td>EMEA-2021-108966</td>\n",
       "      <td>2021-10-11</td>\n",
       "      <td>20211011</td>\n",
       "      <td>Zoe Hodges</td>\n",
       "      <td>Germany</td>\n",
       "      <td>Stuttgart</td>\n",
       "      <td>EMEA</td>\n",
       "      <td>EU-WEST</td>\n",
       "      <td>Royal Dutch Shell</td>\n",
       "      <td>1031</td>\n",
       "      <td>Energy</td>\n",
       "      <td>SMB</td>\n",
       "      <td>ContactMatcher</td>\n",
       "      <td>DE9GJKGD44</td>\n",
       "      <td>957.5775</td>\n",
       "      <td>5</td>\n",
       "      <td>0.45</td>\n",
       "      <td>-383.0310</td>\n",
       "      <td>Healthcare</td>\n",
       "    </tr>\n",
       "    <tr>\n",
       "      <th>4</th>\n",
       "      <td>5</td>\n",
       "      <td>EMEA-2021-108966</td>\n",
       "      <td>2021-10-11</td>\n",
       "      <td>20211011</td>\n",
       "      <td>Zoe Hodges</td>\n",
       "      <td>Germany</td>\n",
       "      <td>Stuttgart</td>\n",
       "      <td>EMEA</td>\n",
       "      <td>EU-WEST</td>\n",
       "      <td>Royal Dutch Shell</td>\n",
       "      <td>1031</td>\n",
       "      <td>Energy</td>\n",
       "      <td>SMB</td>\n",
       "      <td>Marketing Suite - Gold</td>\n",
       "      <td>OIF7NY23WD</td>\n",
       "      <td>22.3680</td>\n",
       "      <td>2</td>\n",
       "      <td>0.20</td>\n",
       "      <td>2.5164</td>\n",
       "      <td>Healthcare</td>\n",
       "    </tr>\n",
       "  </tbody>\n",
       "</table>\n",
       "</div>"
      ],
      "text/plain": [
       "   Row ID          Order ID Order Date  Date Key    Contact Name  \\\n",
       "0       1  EMEA-2022-152156 2022-11-09  20221109     Nathan Bell   \n",
       "1       2  EMEA-2022-152156 2022-11-09  20221109     Nathan Bell   \n",
       "2       3  AMER-2022-138688 2022-06-13  20220613  Deirdre Bailey   \n",
       "3       4  EMEA-2021-108966 2021-10-11  20211011      Zoe Hodges   \n",
       "4       5  EMEA-2021-108966 2021-10-11  20211011      Zoe Hodges   \n",
       "\n",
       "         Country           City Region Subregion           Customer  \\\n",
       "0        Ireland         Dublin   EMEA      UKIR            Chevron   \n",
       "1        Ireland         Dublin   EMEA      UKIR            Chevron   \n",
       "2  United States  New York City   AMER     NAMER        Phillips 66   \n",
       "3        Germany      Stuttgart   EMEA   EU-WEST  Royal Dutch Shell   \n",
       "4        Germany      Stuttgart   EMEA   EU-WEST  Royal Dutch Shell   \n",
       "\n",
       "   Customer ID Industry    Segment                 Product     License  \\\n",
       "0         1017   Energy        SMB         Marketing Suite  16GRM07R1K   \n",
       "1         1017   Energy        SMB              FinanceHub  QLIW57KZUV   \n",
       "2         1056   Energy  Strategic              FinanceHub  JI6BVL70HQ   \n",
       "3         1031   Energy        SMB          ContactMatcher  DE9GJKGD44   \n",
       "4         1031   Energy        SMB  Marketing Suite - Gold  OIF7NY23WD   \n",
       "\n",
       "      Sales  Quantity  Discount    Profit top_industry  \n",
       "0  261.9600         2      0.00   41.9136       Energy  \n",
       "1  731.9400         3      0.00  219.5820       Energy  \n",
       "2   14.6200         2      0.00    6.8714      Finance  \n",
       "3  957.5775         5      0.45 -383.0310   Healthcare  \n",
       "4   22.3680         2      0.20    2.5164   Healthcare  "
      ]
     },
     "execution_count": 229,
     "metadata": {},
     "output_type": "execute_result"
    }
   ],
   "source": [
    "country_industry_sales = df.groupby(['Country', 'Industry'])['Sales'].sum().reset_index()\n",
    "top_industry = country_industry_sales.loc[country_industry_sales.groupby('Country')['Sales'].idxmax()]\n",
    "industry_mapping = top_industry.set_index('Country')['Industry']\n",
    "df['top_industry'] = df['Country'].map(industry_mapping)\n",
    "df.head()"
   ]
  },
  {
   "cell_type": "markdown",
   "metadata": {},
   "source": [
    "# CORRELATION\n",
    "We checking the correlation between Quantity, Discount, Sales, Profit. This is for extra information for us\n"
   ]
  },
  {
   "cell_type": "code",
   "execution_count": 230,
   "metadata": {},
   "outputs": [
    {
     "data": {
      "text/html": [
       "<div>\n",
       "<style scoped>\n",
       "    .dataframe tbody tr th:only-of-type {\n",
       "        vertical-align: middle;\n",
       "    }\n",
       "\n",
       "    .dataframe tbody tr th {\n",
       "        vertical-align: top;\n",
       "    }\n",
       "\n",
       "    .dataframe thead th {\n",
       "        text-align: right;\n",
       "    }\n",
       "</style>\n",
       "<table border=\"1\" class=\"dataframe\">\n",
       "  <thead>\n",
       "    <tr style=\"text-align: right;\">\n",
       "      <th></th>\n",
       "      <th>Quantity</th>\n",
       "      <th>Discount</th>\n",
       "      <th>Sales</th>\n",
       "      <th>Profit</th>\n",
       "    </tr>\n",
       "  </thead>\n",
       "  <tbody>\n",
       "    <tr>\n",
       "      <th>Quantity</th>\n",
       "      <td>1.000000</td>\n",
       "      <td>0.008623</td>\n",
       "      <td>0.200795</td>\n",
       "      <td>0.066253</td>\n",
       "    </tr>\n",
       "    <tr>\n",
       "      <th>Discount</th>\n",
       "      <td>0.008623</td>\n",
       "      <td>1.000000</td>\n",
       "      <td>-0.028190</td>\n",
       "      <td>-0.219487</td>\n",
       "    </tr>\n",
       "    <tr>\n",
       "      <th>Sales</th>\n",
       "      <td>0.200795</td>\n",
       "      <td>-0.028190</td>\n",
       "      <td>1.000000</td>\n",
       "      <td>0.479064</td>\n",
       "    </tr>\n",
       "    <tr>\n",
       "      <th>Profit</th>\n",
       "      <td>0.066253</td>\n",
       "      <td>-0.219487</td>\n",
       "      <td>0.479064</td>\n",
       "      <td>1.000000</td>\n",
       "    </tr>\n",
       "  </tbody>\n",
       "</table>\n",
       "</div>"
      ],
      "text/plain": [
       "          Quantity  Discount     Sales    Profit\n",
       "Quantity  1.000000  0.008623  0.200795  0.066253\n",
       "Discount  0.008623  1.000000 -0.028190 -0.219487\n",
       "Sales     0.200795 -0.028190  1.000000  0.479064\n",
       "Profit    0.066253 -0.219487  0.479064  1.000000"
      ]
     },
     "execution_count": 230,
     "metadata": {},
     "output_type": "execute_result"
    }
   ],
   "source": [
    "correlation_matrix = df[['Quantity', 'Discount', 'Sales', 'Profit']].corr()\n",
    "correlation_matrix"
   ]
  },
  {
   "cell_type": "code",
   "execution_count": 231,
   "metadata": {},
   "outputs": [
    {
     "data": {
      "image/png": "[encoded data removed]",
      "text/plain": [
       "<Figure size 1000x800 with 2 Axes>"
      ]
     },
     "metadata": {},
     "output_type": "display_data"
    }
   ],
   "source": [
    "correlation_matrix = df[['Quantity', 'Discount', 'Sales', 'Profit']].corr()\n",
    "\n",
    "plt.figure(figsize=(10, 8))\n",
    "sns.heatmap(correlation_matrix, annot=True, fmt=\".2f\", cmap='coolwarm', square=True, cbar_kws={\"shrink\": .8})\n",
    "plt.title('Correlation Heatmap')\n",
    "plt.show()"
   ]
  },
  {
   "cell_type": "markdown",
   "metadata": {},
   "source": [
    "### AVERAGE PROFIT BY DISCOUNT"
   ]
  },
  {
   "cell_type": "code",
   "execution_count": 232,
   "metadata": {},
   "outputs": [
    {
     "name": "stderr",
     "output_type": "stream",
     "text": [
      "C:\\Users\\Adib Fardan\\AppData\\Local\\Temp\\ipykernel_4132\\3558050473.py:5: FutureWarning: \n",
      "\n",
      "Passing `palette` without assigning `hue` is deprecated and will be removed in v0.14.0. Assign the `x` variable to `hue` and set `legend=False` for the same effect.\n",
      "\n",
      "  sns.barplot(x='Discount', y='Profit', data=industry_discount, palette='coolwarm')\n"
     ]
    },
    {
     "data": {
      "image/png": "[encoded data removed]",
      "text/plain": [
       "<Figure size 1200x600 with 1 Axes>"
      ]
     },
     "metadata": {},
     "output_type": "display_data"
    }
   ],
   "source": [
    "industry_discount = df.groupby('Discount')['Profit'].mean().reset_index()\n",
    "\n",
    "# Plotting the relationship between industry and discount\n",
    "plt.figure(figsize=(12,6))\n",
    "sns.barplot(x='Discount', y='Profit', data=industry_discount, palette='coolwarm')\n",
    "plt.title('Average Proft by Discount')\n",
    "plt.xlabel('Discount')\n",
    "plt.ylabel('Average Profit')\n",
    "plt.xticks(rotation=45)\n",
    "plt.show()"
   ]
  },
  {
   "cell_type": "markdown",
   "metadata": {},
   "source": [
    "# CORRELATION BETWEEN SALES AND PROFIT\n",
    " We can see a relatively strong positive correlation between sales and profit\n",
    " Expectedly, the higher the discount, the lower the profit\n"
   ]
  },
  {
   "cell_type": "markdown",
   "metadata": {},
   "source": [
    "### CUSTOMER RETENTION"
   ]
  },
  {
   "cell_type": "code",
   "execution_count": 233,
   "metadata": {},
   "outputs": [
    {
     "data": {
      "text/plain": [
       "Customer ID\n",
       "1001    31\n",
       "1002    76\n",
       "1003    61\n",
       "1004    62\n",
       "1005    71\n",
       "        ..\n",
       "1097    53\n",
       "1098    40\n",
       "1099    47\n",
       "1100    52\n",
       "1101    36\n",
       "Name: Order ID, Length: 99, dtype: int64"
      ]
     },
     "metadata": {},
     "output_type": "display_data"
    },
    {
     "name": "stderr",
     "output_type": "stream",
     "text": [
      "C:\\Users\\Adib Fardan\\AppData\\Local\\Temp\\ipykernel_4132\\4045790698.py:9: FutureWarning: \n",
      "\n",
      "Passing `palette` without assigning `hue` is deprecated and will be removed in v0.14.0. Assign the `x` variable to `hue` and set `legend=False` for the same effect.\n",
      "\n",
      "  sns.barplot(x=top_10_customers.index, y=top_10_customers.values, palette='Blues_d')\n"
     ]
    },
    {
     "data": {
      "image/png": "[encoded data removed]",
      "text/plain": [
       "<Figure size 1200x600 with 1 Axes>"
      ]
     },
     "metadata": {},
     "output_type": "display_data"
    }
   ],
   "source": [
    "customer_order_count = df.groupby('Customer ID')['Order ID'].nunique()\n",
    "display(customer_order_count)\n",
    "retention_rate = (customer_order_count > 1).mean() * 100\n",
    "retention_rate\n",
    "\n",
    "top_10_customers = df.groupby('Customer ID')['Order ID'].nunique().sort_values(ascending=False).head(10)\n",
    "\n",
    "plt.figure(figsize=(12,6))\n",
    "sns.barplot(x=top_10_customers.index, y=top_10_customers.values, palette='Blues_d')\n",
    "plt.title('Top 10 Customers with Highest Orders')\n",
    "plt.xlabel('Customer ID')\n",
    "plt.ylabel('Number of Orders')\n",
    "plt.xticks(rotation=45)\n",
    "plt.show()\n",
    "\n"
   ]
  },
  {
   "cell_type": "markdown",
   "metadata": {},
   "source": [
    "In here we know wich customer by the Customer ID that have retention or we can called the 'Repeat Order Customer'"
   ]
  },
  {
   "cell_type": "markdown",
   "metadata": {},
   "source": [
    "### RELATIONSHIP BETWEEN PRODUCT PRICE (SALES/QUANTITY) AND PROFIT "
   ]
  },
  {
   "cell_type": "code",
   "execution_count": 234,
   "metadata": {},
   "outputs": [
    {
     "data": {
      "text/plain": [
       "0.46831183308048313"
      ]
     },
     "execution_count": 234,
     "metadata": {},
     "output_type": "execute_result"
    }
   ],
   "source": [
    "df['Price_per_Unit'] = df['Sales'] / df['Quantity']\n",
    "price_profit_corr = df[['Price_per_Unit', 'Profit']].corr().iloc[0, 1]\n",
    "price_profit_corr"
   ]
  },
  {
   "cell_type": "code",
   "execution_count": 235,
   "metadata": {},
   "outputs": [
    {
     "data": {
      "image/png": "[encoded data removed]",
      "text/plain": [
       "<Figure size 1000x600 with 1 Axes>"
      ]
     },
     "metadata": {},
     "output_type": "display_data"
    }
   ],
   "source": [
    "df['Price_per_Unit'] = df['Sales'] / df['Quantity']\n",
    "price_profit_corr = df[['Price_per_Unit', 'Profit']].corr().iloc[0, 1]\n",
    "\n",
    "plt.figure(figsize=(10, 6))\n",
    "sns.scatterplot(data=df, x='Price_per_Unit', y='Profit')\n",
    "plt.title(f'Scatter Plot: Price per Unit vs Profit (Correlation: {price_profit_corr:.2f})')\n",
    "plt.xlabel('Price per Unit')\n",
    "plt.ylabel('Profit')\n",
    "plt.show()"
   ]
  },
  {
   "cell_type": "markdown",
   "metadata": {},
   "source": [
    "### THE MOST PROFITABLE INDUSTRY"
   ]
  },
  {
   "cell_type": "code",
   "execution_count": 236,
   "metadata": {},
   "outputs": [
    {
     "data": {
      "image/png": "[encoded data removed]",
      "text/plain": [
       "<Figure size 1000x600 with 1 Axes>"
      ]
     },
     "metadata": {},
     "output_type": "display_data"
    }
   ],
   "source": [
    "industry_profit = df.groupby('Industry')['Profit'].sum().sort_values(ascending=False)\n",
    "\n",
    "# Plotting the profit by industry\n",
    "plt.figure(figsize=(10, 6))\n",
    "industry_profit.plot(kind='bar', color='skyblue')\n",
    "plt.title('Total Profit by Industry')\n",
    "plt.xlabel('Industry')\n",
    "plt.ylabel('Total Profit')\n",
    "plt.xticks(rotation=45)\n",
    "plt.tight_layout()\n",
    "plt.show()"
   ]
  },
  {
   "cell_type": "markdown",
   "metadata": {},
   "source": [
    "From this chart we can see the most profitable Industry is Finance Industry"
   ]
  },
  {
   "cell_type": "code",
   "execution_count": 249,
   "metadata": {},
   "outputs": [
    {
     "data": {
      "application/vnd.plotly.v1+json": {
       "config": {
        "plotlyServerURL": "https://plot.ly"
       },
       "data": [
        {
         "coloraxis": "coloraxis",
         "geo": "geo",
         "hovertemplate": "<b>%{hovertext}</b><br><br>Country=%{location}<br>Profit=%{z}<extra></extra>",
         "hovertext": [
          "Canada",
          "France",
          "Germany",
          "United States"
         ],
         "locationmode": "country names",
         "locations": [
          "Canada",
          "France",
          "Germany",
          "United States"
         ],
         "name": "",
         "type": "choropleth",
         "z": [
          500,
          600,
          800,
          1000
         ]
        }
       ],
       "layout": {
        "coloraxis": {
         "colorbar": {
          "title": {
           "text": "Profit"
          }
         },
         "colorscale": [
          [
           0,
           "rgb(255,255,204)"
          ],
          [
           0.125,
           "rgb(255,237,160)"
          ],
          [
           0.25,
           "rgb(254,217,118)"
          ],
          [
           0.375,
           "rgb(254,178,76)"
          ],
          [
           0.5,
           "rgb(253,141,60)"
          ],
          [
           0.625,
           "rgb(252,78,42)"
          ],
          [
           0.75,
           "rgb(227,26,28)"
          ],
          [
           0.875,
           "rgb(189,0,38)"
          ],
          [
           1,
           "rgb(128,0,38)"
          ]
         ]
        },
        "geo": {
         "center": {},
         "coastlinecolor": "Black",
         "domain": {
          "x": [
           0,
           1
          ],
          "y": [
           0,
           1
          ]
         },
         "landcolor": "lightgrey",
         "showcoastlines": true,
         "showland": true
        },
        "legend": {
         "tracegroupgap": 0
        },
        "template": {
         "data": {
          "bar": [
           {
            "error_x": {
             "color": "#2a3f5f"
            },
            "error_y": {
             "color": "#2a3f5f"
            },
            "marker": {
             "line": {
              "color": "#E5ECF6",
              "width": 0.5
             },
             "pattern": {
              "fillmode": "overlay",
              "size": 10,
              "solidity": 0.2
             }
            },
            "type": "bar"
           }
          ],
          "barpolar": [
           {
            "marker": {
             "line": {
              "color": "#E5ECF6",
              "width": 0.5
             },
             "pattern": {
              "fillmode": "overlay",
              "size": 10,
              "solidity": 0.2
             }
            },
            "type": "barpolar"
           }
          ],
          "carpet": [
           {
            "aaxis": {
             "endlinecolor": "#2a3f5f",
             "gridcolor": "white",
             "linecolor": "white",
             "minorgridcolor": "white",
             "startlinecolor": "#2a3f5f"
            },
            "baxis": {
             "endlinecolor": "#2a3f5f",
             "gridcolor": "white",
             "linecolor": "white",
             "minorgridcolor": "white",
             "startlinecolor": "#2a3f5f"
            },
            "type": "carpet"
           }
          ],
          "choropleth": [
           {
            "colorbar": {
             "outlinewidth": 0,
             "ticks": ""
            },
            "type": "choropleth"
           }
          ],
          "contour": [
           {
            "colorbar": {
             "outlinewidth": 0,
             "ticks": ""
            },
            "colorscale": [
             [
              0,
              "#0d0887"
             ],
             [
              0.1111111111111111,
              "#46039f"
             ],
             [
              0.2222222222222222,
              "#7201a8"
             ],
             [
              0.3333333333333333,
              "#9c179e"
             ],
             [
              0.4444444444444444,
              "#bd3786"
             ],
             [
              0.5555555555555556,
              "#d8576b"
             ],
             [
              0.6666666666666666,
              "#ed7953"
             ],
             [
              0.7777777777777778,
              "#fb9f3a"
             ],
             [
              0.8888888888888888,
              "#fdca26"
             ],
             [
              1,
              "#f0f921"
             ]
            ],
            "type": "contour"
           }
          ],
          "contourcarpet": [
           {
            "colorbar": {
             "outlinewidth": 0,
             "ticks": ""
            },
            "type": "contourcarpet"
           }
          ],
          "heatmap": [
           {
            "colorbar": {
             "outlinewidth": 0,
             "ticks": ""
            },
            "colorscale": [
             [
              0,
              "#0d0887"
             ],
             [
              0.1111111111111111,
              "#46039f"
             ],
             [
              0.2222222222222222,
              "#7201a8"
             ],
             [
              0.3333333333333333,
              "#9c179e"
             ],
             [
              0.4444444444444444,
              "#bd3786"
             ],
             [
              0.5555555555555556,
              "#d8576b"
             ],
             [
              0.6666666666666666,
              "#ed7953"
             ],
             [
              0.7777777777777778,
              "#fb9f3a"
             ],
             [
              0.8888888888888888,
              "#fdca26"
             ],
             [
              1,
              "#f0f921"
             ]
            ],
            "type": "heatmap"
           }
          ],
          "heatmapgl": [
           {
            "colorbar": {
             "outlinewidth": 0,
             "ticks": ""
            },
            "colorscale": [
             [
              0,
              "#0d0887"
             ],
             [
              0.1111111111111111,
              "#46039f"
             ],
             [
              0.2222222222222222,
              "#7201a8"
             ],
             [
              0.3333333333333333,
              "#9c179e"
             ],
             [
              0.4444444444444444,
              "#bd3786"
             ],
             [
              0.5555555555555556,
              "#d8576b"
             ],
             [
              0.6666666666666666,
              "#ed7953"
             ],
             [
              0.7777777777777778,
              "#fb9f3a"
             ],
             [
              0.8888888888888888,
              "#fdca26"
             ],
             [
              1,
              "#f0f921"
             ]
            ],
            "type": "heatmapgl"
           }
          ],
          "histogram": [
           {
            "marker": {
             "pattern": {
              "fillmode": "overlay",
              "size": 10,
              "solidity": 0.2
             }
            },
            "type": "histogram"
           }
          ],
          "histogram2d": [
           {
            "colorbar": {
             "outlinewidth": 0,
             "ticks": ""
            },
            "colorscale": [
             [
              0,
              "#0d0887"
             ],
             [
              0.1111111111111111,
              "#46039f"
             ],
             [
              0.2222222222222222,
              "#7201a8"
             ],
             [
              0.3333333333333333,
              "#9c179e"
             ],
             [
              0.4444444444444444,
              "#bd3786"
             ],
             [
              0.5555555555555556,
              "#d8576b"
             ],
             [
              0.6666666666666666,
              "#ed7953"
             ],
             [
              0.7777777777777778,
              "#fb9f3a"
             ],
             [
              0.8888888888888888,
              "#fdca26"
             ],
             [
              1,
              "#f0f921"
             ]
            ],
            "type": "histogram2d"
           }
          ],
          "histogram2dcontour": [
           {
            "colorbar": {
             "outlinewidth": 0,
             "ticks": ""
            },
            "colorscale": [
             [
              0,
              "#0d0887"
             ],
             [
              0.1111111111111111,
              "#46039f"
             ],
             [
              0.2222222222222222,
              "#7201a8"
             ],
             [
              0.3333333333333333,
              "#9c179e"
             ],
             [
              0.4444444444444444,
              "#bd3786"
             ],
             [
              0.5555555555555556,
              "#d8576b"
             ],
             [
              0.6666666666666666,
              "#ed7953"
             ],
             [
              0.7777777777777778,
              "#fb9f3a"
             ],
             [
              0.8888888888888888,
              "#fdca26"
             ],
             [
              1,
              "#f0f921"
             ]
            ],
            "type": "histogram2dcontour"
           }
          ],
          "mesh3d": [
           {
            "colorbar": {
             "outlinewidth": 0,
             "ticks": ""
            },
            "type": "mesh3d"
           }
          ],
          "parcoords": [
           {
            "line": {
             "colorbar": {
              "outlinewidth": 0,
              "ticks": ""
             }
            },
            "type": "parcoords"
           }
          ],
          "pie": [
           {
            "automargin": true,
            "type": "pie"
           }
          ],
          "scatter": [
           {
            "fillpattern": {
             "fillmode": "overlay",
             "size": 10,
             "solidity": 0.2
            },
            "type": "scatter"
           }
          ],
          "scatter3d": [
           {
            "line": {
             "colorbar": {
              "outlinewidth": 0,
              "ticks": ""
             }
            },
            "marker": {
             "colorbar": {
              "outlinewidth": 0,
              "ticks": ""
             }
            },
            "type": "scatter3d"
           }
          ],
          "scattercarpet": [
           {
            "marker": {
             "colorbar": {
              "outlinewidth": 0,
              "ticks": ""
             }
            },
            "type": "scattercarpet"
           }
          ],
          "scattergeo": [
           {
            "marker": {
             "colorbar": {
              "outlinewidth": 0,
              "ticks": ""
             }
            },
            "type": "scattergeo"
           }
          ],
          "scattergl": [
           {
            "marker": {
             "colorbar": {
              "outlinewidth": 0,
              "ticks": ""
             }
            },
            "type": "scattergl"
           }
          ],
          "scattermapbox": [
           {
            "marker": {
             "colorbar": {
              "outlinewidth": 0,
              "ticks": ""
             }
            },
            "type": "scattermapbox"
           }
          ],
          "scatterpolar": [
           {
            "marker": {
             "colorbar": {
              "outlinewidth": 0,
              "ticks": ""
             }
            },
            "type": "scatterpolar"
           }
          ],
          "scatterpolargl": [
           {
            "marker": {
             "colorbar": {
              "outlinewidth": 0,
              "ticks": ""
             }
            },
            "type": "scatterpolargl"
           }
          ],
          "scatterternary": [
           {
            "marker": {
             "colorbar": {
              "outlinewidth": 0,
              "ticks": ""
             }
            },
            "type": "scatterternary"
           }
          ],
          "surface": [
           {
            "colorbar": {
             "outlinewidth": 0,
             "ticks": ""
            },
            "colorscale": [
             [
              0,
              "#0d0887"
             ],
             [
              0.1111111111111111,
              "#46039f"
             ],
             [
              0.2222222222222222,
              "#7201a8"
             ],
             [
              0.3333333333333333,
              "#9c179e"
             ],
             [
              0.4444444444444444,
              "#bd3786"
             ],
             [
              0.5555555555555556,
              "#d8576b"
             ],
             [
              0.6666666666666666,
              "#ed7953"
             ],
             [
              0.7777777777777778,
              "#fb9f3a"
             ],
             [
              0.8888888888888888,
              "#fdca26"
             ],
             [
              1,
              "#f0f921"
             ]
            ],
            "type": "surface"
           }
          ],
          "table": [
           {
            "cells": {
             "fill": {
              "color": "#EBF0F8"
             },
             "line": {
              "color": "white"
             }
            },
            "header": {
             "fill": {
              "color": "#C8D4E3"
             },
             "line": {
              "color": "white"
             }
            },
            "type": "table"
           }
          ]
         },
         "layout": {
          "annotationdefaults": {
           "arrowcolor": "#2a3f5f",
           "arrowhead": 0,
           "arrowwidth": 1
          },
          "autotypenumbers": "strict",
          "coloraxis": {
           "colorbar": {
            "outlinewidth": 0,
            "ticks": ""
           }
          },
          "colorscale": {
           "diverging": [
            [
             0,
             "#8e0152"
            ],
            [
             0.1,
             "#c51b7d"
            ],
            [
             0.2,
             "#de77ae"
            ],
            [
             0.3,
             "#f1b6da"
            ],
            [
             0.4,
             "#fde0ef"
            ],
            [
             0.5,
             "#f7f7f7"
            ],
            [
             0.6,
             "#e6f5d0"
            ],
            [
             0.7,
             "#b8e186"
            ],
            [
             0.8,
             "#7fbc41"
            ],
            [
             0.9,
             "#4d9221"
            ],
            [
             1,
             "#276419"
            ]
           ],
           "sequential": [
            [
             0,
             "#0d0887"
            ],
            [
             0.1111111111111111,
             "#46039f"
            ],
            [
             0.2222222222222222,
             "#7201a8"
            ],
            [
             0.3333333333333333,
             "#9c179e"
            ],
            [
             0.4444444444444444,
             "#bd3786"
            ],
            [
             0.5555555555555556,
             "#d8576b"
            ],
            [
             0.6666666666666666,
             "#ed7953"
            ],
            [
             0.7777777777777778,
             "#fb9f3a"
            ],
            [
             0.8888888888888888,
             "#fdca26"
            ],
            [
             1,
             "#f0f921"
            ]
           ],
           "sequentialminus": [
            [
             0,
             "#0d0887"
            ],
            [
             0.1111111111111111,
             "#46039f"
            ],
            [
             0.2222222222222222,
             "#7201a8"
            ],
            [
             0.3333333333333333,
             "#9c179e"
            ],
            [
             0.4444444444444444,
             "#bd3786"
            ],
            [
             0.5555555555555556,
             "#d8576b"
            ],
            [
             0.6666666666666666,
             "#ed7953"
            ],
            [
             0.7777777777777778,
             "#fb9f3a"
            ],
            [
             0.8888888888888888,
             "#fdca26"
            ],
            [
             1,
             "#f0f921"
            ]
           ]
          },
          "colorway": [
           "#636efa",
           "#EF553B",
           "#00cc96",
           "#ab63fa",
           "#FFA15A",
           "#19d3f3",
           "#FF6692",
           "#B6E880",
           "#FF97FF",
           "#FECB52"
          ],
          "font": {
           "color": "#2a3f5f"
          },
          "geo": {
           "bgcolor": "white",
           "lakecolor": "white",
           "landcolor": "#E5ECF6",
           "showlakes": true,
           "showland": true,
           "subunitcolor": "white"
          },
          "hoverlabel": {
           "align": "left"
          },
          "hovermode": "closest",
          "mapbox": {
           "style": "light"
          },
          "paper_bgcolor": "white",
          "plot_bgcolor": "#E5ECF6",
          "polar": {
           "angularaxis": {
            "gridcolor": "white",
            "linecolor": "white",
            "ticks": ""
           },
           "bgcolor": "#E5ECF6",
           "radialaxis": {
            "gridcolor": "white",
            "linecolor": "white",
            "ticks": ""
           }
          },
          "scene": {
           "xaxis": {
            "backgroundcolor": "#E5ECF6",
            "gridcolor": "white",
            "gridwidth": 2,
            "linecolor": "white",
            "showbackground": true,
            "ticks": "",
            "zerolinecolor": "white"
           },
           "yaxis": {
            "backgroundcolor": "#E5ECF6",
            "gridcolor": "white",
            "gridwidth": 2,
            "linecolor": "white",
            "showbackground": true,
            "ticks": "",
            "zerolinecolor": "white"
           },
           "zaxis": {
            "backgroundcolor": "#E5ECF6",
            "gridcolor": "white",
            "gridwidth": 2,
            "linecolor": "white",
            "showbackground": true,
            "ticks": "",
            "zerolinecolor": "white"
           }
          },
          "shapedefaults": {
           "line": {
            "color": "#2a3f5f"
           }
          },
          "ternary": {
           "aaxis": {
            "gridcolor": "white",
            "linecolor": "white",
            "ticks": ""
           },
           "baxis": {
            "gridcolor": "white",
            "linecolor": "white",
            "ticks": ""
           },
           "bgcolor": "#E5ECF6",
           "caxis": {
            "gridcolor": "white",
            "linecolor": "white",
            "ticks": ""
           }
          },
          "title": {
           "x": 0.05
          },
          "xaxis": {
           "automargin": true,
           "gridcolor": "white",
           "linecolor": "white",
           "ticks": "",
           "title": {
            "standoff": 15
           },
           "zerolinecolor": "white",
           "zerolinewidth": 2
          },
          "yaxis": {
           "automargin": true,
           "gridcolor": "white",
           "linecolor": "white",
           "ticks": "",
           "title": {
            "standoff": 15
           },
           "zerolinecolor": "white",
           "zerolinewidth": 2
          }
         }
        },
        "title": {
         "text": "Profit by Country (Aggregated Across Industries)",
         "x": 0.5
        }
       }
      }
     },
     "metadata": {},
     "output_type": "display_data"
    }
   ],
   "source": [
    "import plotly.express as px\n",
    "\n",
    "# Sum profit by country for the map visualization\n",
    "country_profit = df.groupby(['Country'])['Profit'].sum().reset_index()\n",
    "\n",
    "# Generate a choropleth map using Plotly\n",
    "fig = px.choropleth(country_profit, \n",
    "                    locations=\"Country\",\n",
    "                    locationmode=\"country names\",\n",
    "                    color=\"Profit\",\n",
    "                    hover_name=\"Country\",\n",
    "                    color_continuous_scale=\"YlOrRd\",\n",
    "                    title=\"Global Profit Distribution by Country\")\n",
    "\n",
    "fig.update_geos(showcoastlines=True, coastlinecolor=\"Black\", showland=True, landcolor=\"lightgrey\")\n",
    "fig.update_layout(title_text=\"Profit by Country (Aggregated Across Industries)\", title_x=0.5)\n",
    "\n",
    "fig.show()\n",
    "\n"
   ]
  },
  {
   "cell_type": "code",
   "execution_count": null,
   "metadata": {},
   "outputs": [
    {
     "data": {
      "text/plain": [
       "Index(['Row ID', 'Order ID', 'Order Date', 'Date Key', 'Contact Name',\n",
       "       'Country', 'City', 'Region', 'Subregion', 'Customer', 'Customer ID',\n",
       "       'Industry', 'Segment', 'Product', 'License', 'Sales', 'Quantity',\n",
       "       'Discount', 'Profit', 'top_industry', 'Price_per_Unit'],\n",
       "      dtype='object')"
      ]
     },
     "execution_count": 182,
     "metadata": {},
     "output_type": "execute_result"
    }
   ],
   "source": [
    "df.columns"
   ]
  },
  {
   "cell_type": "code",
   "execution_count": null,
   "metadata": {},
   "outputs": [],
   "source": [
    "df.to_csv(\"Capstone project 2 - Adib.csv\")"
   ]
  }
 ],
 "metadata": {
  "kernelspec": {
   "display_name": "base",
   "language": "python",
   "name": "python3"
  },
  "language_info": {
   "codemirror_mode": {
    "name": "ipython",
    "version": 3
   },
   "file_extension": ".py",
   "mimetype": "text/x-python",
   "name": "python",
   "nbconvert_exporter": "python",
   "pygments_lexer": "ipython3",
   "version": "3.12.4"
  }
 },
 "nbformat": 4,
 "nbformat_minor": 2
}
